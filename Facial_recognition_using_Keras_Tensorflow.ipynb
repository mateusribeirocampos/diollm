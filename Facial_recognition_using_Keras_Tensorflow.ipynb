{
  "nbformat": 4,
  "nbformat_minor": 0,
  "metadata": {
    "colab": {
      "provenance": [],
      "authorship_tag": "ABX9TyMrtEr2ih5j8O4VFoUA3oiU",
      "include_colab_link": true
    },
    "kernelspec": {
      "name": "python3",
      "display_name": "Python 3"
    },
    "language_info": {
      "name": "python"
    }
  },
  "cells": [
    {
      "cell_type": "markdown",
      "metadata": {
        "id": "view-in-github",
        "colab_type": "text"
      },
      "source": [
        "<a href=\"https://colab.research.google.com/github/mateusribeirocampos/diollm/blob/main/Facial_recognition_using_Keras_Tensorflow.ipynb\" target=\"_parent\"><img src=\"https://colab.research.google.com/assets/colab-badge.svg\" alt=\"Open In Colab\"/></a>"
      ]
    },
    {
      "cell_type": "markdown",
      "source": [
        "# Projeto de reconhecimento facial\n",
        "\n",
        "Importação dos frameworks e bibliotecas\n"
      ],
      "metadata": {
        "id": "-z1XBvH7kJvt"
      }
    },
    {
      "cell_type": "code",
      "source": [
        "import pandas as pd\n",
        "import numpy as np\n",
        "import os\n",
        "import matplotlib.pyplot as plt\n",
        "import seaborn as sns\n",
        "import warnings\n",
        "from tqdm.notebook import tqdm\n",
        "import cv2\n",
        "import tensorflow as tf\n",
        "from keras.models import Sequential\n",
        "from keras.layers import Dense, Conv2D, Dropout, Flatten, MaxPooling2D\n",
        "\n",
        "warnings.filterwarnings('ignore')\n",
        "%matplotlib inline"
      ],
      "metadata": {
        "id": "imtabAFEmZV3"
      },
      "execution_count": 8,
      "outputs": []
    },
    {
      "cell_type": "markdown",
      "source": [
        "## Carregar o dataset\n",
        "\n"
      ],
      "metadata": {
        "id": "U_bBn9QClOiZ"
      }
    },
    {
      "cell_type": "code",
      "source": [
        "from google.colab import drive\n",
        "drive.mount('/content/drive')"
      ],
      "metadata": {
        "colab": {
          "base_uri": "https://localhost:8080/"
        },
        "id": "VPd51qRHlaCH",
        "outputId": "cba9a03e-394a-4bdb-f736-16e5cdd06cea"
      },
      "execution_count": 9,
      "outputs": [
        {
          "output_type": "stream",
          "name": "stdout",
          "text": [
            "Mounted at /content/drive\n"
          ]
        }
      ]
    },
    {
      "cell_type": "code",
      "source": [
        "import os\n",
        "import shutil\n",
        "from sklearn.model_selection import train_test_split\n",
        "\n",
        "# Caminhos\n",
        "input_base = \"/content/drive/MyDrive/Cleaned_Dataset\"\n",
        "output_base = \"/content/drive/MyDrive/actors_bbt_split\"\n",
        "\n",
        "# Cria pastas de treino e teste\n",
        "os.makedirs(os.path.join(output_base, \"train\"), exist_ok=True)\n",
        "os.makedirs(os.path.join(output_base, \"test\"), exist_ok=True)\n",
        "\n",
        "# Para cada classe (howard, leonard...)\n",
        "for class_name in os.listdir(input_base):\n",
        "    class_dir = os.path.join(input_base, class_name)\n",
        "    if not os.path.isdir(class_dir):\n",
        "        continue\n",
        "\n",
        "    # Lista todas as imagens da classe\n",
        "    all_images = os.listdir(class_dir)\n",
        "    train_images, test_images = train_test_split(all_images, test_size=0.2, random_state=42)\n",
        "\n",
        "    # Copia para treino\n",
        "    train_dir = os.path.join(output_base, \"train\", class_name)\n",
        "    os.makedirs(train_dir, exist_ok=True)\n",
        "    for img in train_images:\n",
        "        src = os.path.join(class_dir, img)\n",
        "        dst = os.path.join(train_dir, img)\n",
        "        shutil.copy(src, dst)\n",
        "\n",
        "    # Copia para teste\n",
        "    test_dir = os.path.join(output_base, \"test\", class_name)\n",
        "    os.makedirs(test_dir, exist_ok=True)\n",
        "    for img in test_images:\n",
        "        src = os.path.join(class_dir, img)\n",
        "        dst = os.path.join(test_dir, img)\n",
        "        shutil.copy(src, dst)\n",
        "\n",
        "print(\"Divisão concluída! Verifique a pasta actors_bbt_split no Drive.\")"
      ],
      "metadata": {
        "colab": {
          "base_uri": "https://localhost:8080/"
        },
        "id": "qeO-Y9IWpSXH",
        "outputId": "705d1e49-1bbf-4714-97ba-4b6593880604"
      },
      "execution_count": 19,
      "outputs": [
        {
          "output_type": "stream",
          "name": "stdout",
          "text": [
            "Divisão concluída! Verifique a pasta actors_bbt_split no Drive.\n"
          ]
        }
      ]
    },
    {
      "cell_type": "code",
      "source": [
        "!sudo apt-get install tree"
      ],
      "metadata": {
        "id": "SzdH7hgFxFhL"
      },
      "execution_count": null,
      "outputs": []
    },
    {
      "cell_type": "code",
      "source": [
        "!tree /content/drive/MyDrive/actors_bbt_split/ -d"
      ],
      "metadata": {
        "colab": {
          "base_uri": "https://localhost:8080/"
        },
        "id": "VU0T6-2JxiWn",
        "outputId": "d42a67dd-ef34-46f9-fc19-daf92cf39616"
      },
      "execution_count": 21,
      "outputs": [
        {
          "output_type": "stream",
          "name": "stdout",
          "text": [
            "\u001b[01;34m/content/drive/MyDrive/actors_bbt_split/\u001b[0m\n",
            "├── \u001b[01;34mtest\u001b[0m\n",
            "│   ├── \u001b[01;34mhoward\u001b[0m\n",
            "│   ├── \u001b[01;34mleonard\u001b[0m\n",
            "│   ├── \u001b[01;34mraj\u001b[0m\n",
            "│   └── \u001b[01;34msheldon\u001b[0m\n",
            "└── \u001b[01;34mtrain\u001b[0m\n",
            "    ├── \u001b[01;34mhoward\u001b[0m\n",
            "    ├── \u001b[01;34mleonard\u001b[0m\n",
            "    ├── \u001b[01;34mraj\u001b[0m\n",
            "    └── \u001b[01;34msheldon\u001b[0m\n",
            "\n",
            "10 directories\n"
          ]
        }
      ]
    },
    {
      "cell_type": "code",
      "source": [
        "train_dir = \"/content/drive/MyDrive/actors_bbt_split/train/\"\n",
        "test_dir = \"/content/drive/MyDrive/actors_bbt_split/test/\"\n",
        "print(\"Total training images:\", len(os.listdir(train_dir)))\n",
        "print(\"Total test images:\", len(os.listdir(test_dir)))"
      ],
      "metadata": {
        "colab": {
          "base_uri": "https://localhost:8080/"
        },
        "id": "JYl_Yruwzoze",
        "outputId": "ec17f49b-4b01-498b-a27d-b2c61385e572"
      },
      "execution_count": 22,
      "outputs": [
        {
          "output_type": "stream",
          "name": "stdout",
          "text": [
            "Total training images: 4\n",
            "Total test images: 4\n"
          ]
        }
      ]
    },
    {
      "cell_type": "code",
      "source": [],
      "metadata": {
        "id": "hASP6JbD0Pat"
      },
      "execution_count": null,
      "outputs": []
    }
  ]
}