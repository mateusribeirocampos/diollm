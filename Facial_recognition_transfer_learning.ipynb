{
  "nbformat": 4,
  "nbformat_minor": 0,
  "metadata": {
    "colab": {
      "provenance": [],
      "authorship_tag": "ABX9TyPTFNQwSoZQ0Piit74Cb9bj",
      "include_colab_link": true
    },
    "kernelspec": {
      "name": "python3",
      "display_name": "Python 3"
    },
    "language_info": {
      "name": "python"
    }
  },
  "cells": [
    {
      "cell_type": "markdown",
      "metadata": {
        "id": "view-in-github",
        "colab_type": "text"
      },
      "source": [
        "<a href=\"https://colab.research.google.com/github/mateusribeirocampos/diollm/blob/main/Facial_recognition_transfer_learning.ipynb\" target=\"_parent\"><img src=\"https://colab.research.google.com/assets/colab-badge.svg\" alt=\"Open In Colab\"/></a>"
      ]
    },
    {
      "cell_type": "code",
      "execution_count": null,
      "metadata": {
        "id": "irCbjvqKILjB"
      },
      "outputs": [],
      "source": [
        "%matplotlib inline\n",
        "%config InlineBackend.figure_format = 'retina'\n",
        "\n",
        "import matplotlib.pyplot as plt\n",
        "import PIL\n",
        "from PIL import Image\n",
        "import torch\n",
        "from torch import nn\n",
        "from torch import optim\n",
        "import torch.nn.functional as F\n",
        "import torchvision\n",
        "from torchvision import datasets, transforms\n",
        "from torch.utils.data.sampler import SubsetRandomSampler\n",
        "import os\n",
        "from os import listdir\n",
        "from torchvision.io import read_image\n",
        "import torchvision.transforms as T\n",
        "import numpy as np\n",
        "from glob import glob\n",
        "import shutil\n",
        "import cv2\n",
        "import random\n",
        "from facenet_pytorch import InceptionResnetV1"
      ]
    },
    {
      "cell_type": "code",
      "source": [
        "image_size = 140\n",
        "batch_size = 20"
      ],
      "metadata": {
        "id": "oBOyPkQIKovC"
      },
      "execution_count": null,
      "outputs": []
    },
    {
      "cell_type": "code",
      "source": [
        "files = glob(\"celebrities_images\\*\")\n",
        "files"
      ],
      "metadata": {
        "id": "vBIAYuQEKqma"
      },
      "execution_count": null,
      "outputs": []
    },
    {
      "cell_type": "code",
      "source": [
        "classes = [\"Aamir Khan\", \"Abhay Deol\", \"Abhishek Bachchan\", \"Aishwarya Rai\", \"Ajay Devgn\"]\n",
        "aamir_files = glob('celebrities_images\\\\Aamir Khan\\*')"
      ],
      "metadata": {
        "id": "xjBULPXFKtDj"
      },
      "execution_count": null,
      "outputs": []
    },
    {
      "cell_type": "code",
      "source": [
        "def crop_faces(files):\n",
        "    for file in files:\n",
        "        img = cv2.imread(file)\n",
        "        gray = cv2.cvtColor(img, cv2.COLOR_BGR2GRAY)\n",
        "        cascade = cv2.CascadeClassifier('haarcascades/haarcascade_frontalface_alt.xml')\n",
        "        faces = cascade.detectMultiScale(gray)\n",
        "        if len(faces) > 0:\n",
        "            for i, (x, y, w, h) in enumerate(faces):\n",
        "                cv2.rectangle(img, (x, y), (x + w, y + h), (0, 255, 255), 2)\n",
        "                face = img[y:y + h, x:x + w]\n",
        "                color_face = cv2.cvtColor(face, cv2.COLOR_BGR2RGB)\n",
        "                cv2.imwrite(f'face{random.randint(0,200)}.jpg', color_face)"
      ],
      "metadata": {
        "id": "afgCvYcBI0rg"
      },
      "execution_count": null,
      "outputs": []
    },
    {
      "cell_type": "code",
      "source": [
        "crop_faces(aamir_files)"
      ],
      "metadata": {
        "id": "zh0PueL0LJQw"
      },
      "execution_count": null,
      "outputs": []
    },
    {
      "cell_type": "code",
      "source": [
        "abhay_files = glob('celebrities_images\\\\Abhay Deol\\*')"
      ],
      "metadata": {
        "id": "FsNRAw3iLJoR"
      },
      "execution_count": null,
      "outputs": []
    },
    {
      "cell_type": "code",
      "source": [
        "abhishek_files = glob('celebrities_images\\\\Abhishek Bachchan\\*')\n",
        "crop_faces(abhishek_files)"
      ],
      "metadata": {
        "id": "uZeXMwXFLNOF"
      },
      "execution_count": null,
      "outputs": []
    },
    {
      "cell_type": "code",
      "source": [
        "aishwarya_files = glob('celebrities_images\\\\Aishwarya Rai\\*')\n",
        "crop_faces(aishwarya_files)"
      ],
      "metadata": {
        "id": "F8MjipS8LPOj"
      },
      "execution_count": null,
      "outputs": []
    },
    {
      "cell_type": "code",
      "source": [
        "ajay_files = glob('celebrities_images\\\\Ajay Devgn\\*')\n",
        "crop_faces(ajay_files)"
      ],
      "metadata": {
        "id": "5FuAgI_bLSmx"
      },
      "execution_count": null,
      "outputs": []
    },
    {
      "cell_type": "code",
      "source": [
        "def train_test_split(files, path):\n",
        "    files_train = files[:70]\n",
        "    files_test = files[70:]\n",
        "    for file in files_test:\n",
        "        shutil.move(file, path)"
      ],
      "metadata": {
        "id": "WyggkpBXLU_-"
      },
      "execution_count": null,
      "outputs": []
    },
    {
      "cell_type": "code",
      "source": [
        "aamir_files = glob('celebrities_images\\\\train\\\\Aamir Khan\\*')\n",
        "train_test_split(aamir_files, 'celebrities_images\\\\test\\\\Aamir Khan')"
      ],
      "metadata": {
        "id": "TfrreB6qLXmJ"
      },
      "execution_count": null,
      "outputs": []
    },
    {
      "cell_type": "code",
      "source": [
        "abhay_files = glob('celebrities_images\\\\train\\\\Abhay Deol\\*')\n",
        "train_test_split(abhay_files,'celebrities_images\\\\test\\\\Abhay Deol' )"
      ],
      "metadata": {
        "id": "A4x-6xTkLZ3p"
      },
      "execution_count": null,
      "outputs": []
    },
    {
      "cell_type": "code",
      "source": [
        "abhishek_files = glob('celebrities_images\\\\train\\\\Abhishek Bachchan\\*')\n",
        "train_test_split(abhishek_files, 'celebrities_images\\\\test\\\\Abhishek Bachchan')"
      ],
      "metadata": {
        "id": "vRnsEJvVLcov"
      },
      "execution_count": null,
      "outputs": []
    },
    {
      "cell_type": "code",
      "source": [
        "aishwarya_files = glob('celebrities_images\\\\train\\\\Aishwarya Rai\\*')\n",
        "train_test_split(aishwarya_files, 'celebrities_images\\\\test\\\\Aishwarya Rai')"
      ],
      "metadata": {
        "id": "Q1jNXVPjLfKt"
      },
      "execution_count": null,
      "outputs": []
    },
    {
      "cell_type": "code",
      "source": [
        "ajay_files = glob('celebrities_images\\\\train\\\\Ajay Devgn\\*')\n",
        "train_test_split(ajay_files,'celebrities_images\\\\test\\\\Ajay Devgn' )"
      ],
      "metadata": {
        "id": "5o5AXaaeLhzW"
      },
      "execution_count": null,
      "outputs": []
    },
    {
      "cell_type": "code",
      "source": [
        "Data transforms and loaders\n",
        "data_dir = \"celebrities_images/\"\n",
        "train_transforms = transforms.Compose([transforms.Resize(image_size),\n",
        "                                       transforms.CenterCrop(image_size),\n",
        "                                       transforms.RandomRotation(60),\n",
        "                                       transforms.RandomHorizontalFlip(),\n",
        "                                       transforms.ToTensor(),\n",
        "                                       transforms.Normalize([0.485, 0.456, 0.406], [0.229, 0.224, 0.225])])\n",
        "test_transforms = transforms.Compose([transforms.Resize(image_size),\n",
        "                                      transforms.CenterCrop(image_size),\n",
        "                                      transforms.ToTensor(),\n",
        "                                      transforms.Normalize([0.485, 0.456, 0.406], [0.229, 0.224, 0.225])])\n"
      ],
      "metadata": {
        "id": "TVxQ6TxNJJVM"
      },
      "execution_count": null,
      "outputs": []
    },
    {
      "cell_type": "code",
      "source": [
        "train_data = datasets.ImageFolder(data_dir + '/train', transform=train_transforms)\n",
        "test_data = datasets.ImageFolder(data_dir + '/test', transform=test_transforms)"
      ],
      "metadata": {
        "id": "oWbyWieCLwcO"
      },
      "execution_count": null,
      "outputs": []
    },
    {
      "cell_type": "code",
      "source": [
        "valid_size = 0.1\n",
        "num_train = len(train_data)\n",
        "indices = list(range(num_train))\n",
        "np.random.shuffle(indices)\n",
        "split = int(np.floor(valid_size * num_train))\n",
        "train_idx, valid_idx = indices[split:], indices[:split]"
      ],
      "metadata": {
        "id": "M48C5UnRL0Yj"
      },
      "execution_count": null,
      "outputs": []
    },
    {
      "cell_type": "code",
      "source": [
        "train_sampler = SubsetRandomSampler(train_idx)\n",
        "valid_sampler = SubsetRandomSampler(valid_idx)"
      ],
      "metadata": {
        "id": "VzDHcz5WL5el"
      },
      "execution_count": null,
      "outputs": []
    },
    {
      "cell_type": "code",
      "source": [
        "train_loader = torch.utils.data.DataLoader(train_data, batch_size= batch_size,\n",
        "                                          sampler = train_sampler, drop_last= True)\n",
        "valid_loader = torch.utils.data.DataLoader(train_data, batch_size= batch_size,\n",
        "                                          sampler = valid_sampler, drop_last= True)\n",
        "test_loader = torch.utils.data.DataLoader(test_data, batch_size= batch_size, drop_last=True)\n",
        "print(len(train_loader))\n",
        "print(len(valid_loader))\n",
        "print(len(test_loader))"
      ],
      "metadata": {
        "id": "UI8SGDORJQEb"
      },
      "execution_count": null,
      "outputs": []
    },
    {
      "cell_type": "code",
      "source": [
        "img, label = next(iter(train_loader))\n",
        "print(img.shape)\n",
        "print(label.shape)\n",
        "print(img.min())\n",
        "print(img.max())"
      ],
      "metadata": {
        "id": "diOm-khOL_ie"
      },
      "execution_count": null,
      "outputs": []
    },
    {
      "cell_type": "code",
      "source": [
        "def imshow(img):\n",
        "    img = img / 2 + 0.5\n",
        "    plt.imshow(np.transpose(img, (1, 2, 0)))"
      ],
      "metadata": {
        "id": "nvsIKuqvMLmY"
      },
      "execution_count": null,
      "outputs": []
    },
    {
      "cell_type": "code",
      "source": [
        "fig = plt.figure(figsize=(50, 4))\n",
        "\n",
        "for idx in np.arange(5):\n",
        "    ax = fig.add_subplot(2, 20, idx+1, xticks=[], yticks=[])\n",
        "    imshow(img[idx])\n",
        "    ax.set_title(classes[label[idx]])"
      ],
      "metadata": {
        "id": "L5FHk3JdJYSc"
      },
      "execution_count": null,
      "outputs": []
    },
    {
      "cell_type": "code",
      "source": [
        "class Model(nn.Module):\n",
        "    def __init__(self):\n",
        "        super(Model, self).__init__()\n",
        "        self.arc = InceptionResnetV1(pretrained='vggface2',\n",
        "                                    classify = True,\n",
        "                                    num_classes= len(classes))\n",
        "    def forward(self, img):\n",
        "        logits = self.arc(img)\n",
        "        return logits"
      ],
      "metadata": {
        "id": "c3qQQjmzJds8"
      },
      "execution_count": null,
      "outputs": []
    },
    {
      "cell_type": "code",
      "source": [
        "model = Model()\n",
        "print(model)"
      ],
      "metadata": {
        "id": "b0K1rWeKMRJL"
      },
      "execution_count": null,
      "outputs": []
    },
    {
      "cell_type": "code",
      "source": [
        "lr = 0.001\n",
        "optimizer = optim.Adam(model.parameters(), lr=lr)\n",
        "criterion = nn.CrossEntropyLoss()\n",
        "epochs = 20"
      ],
      "metadata": {
        "id": "ZKMih7kNMWUb"
      },
      "execution_count": null,
      "outputs": []
    },
    {
      "cell_type": "code",
      "source": [
        "valid_loss_min = np.Inf\n",
        "train_accuracy, val_accuracy = [],[]\n",
        "for epoch in range(epochs):\n",
        "    train_loss = 0.0\n",
        "    valid_loss = 0.0\n",
        "    t_acc = 0.0\n",
        "    model.train()\n",
        "    for images, labels in train_loader:\n",
        "        optimizer.zero_grad()\n",
        "        logits = model(images)\n",
        "        loss = criterion(logits, labels)\n",
        "        train_loss += loss.item()\n",
        "        preds = F.log_softmax(logits, dim=1)\n",
        "        ps = torch.exp(preds)\n",
        "        top_k, top_class = ps.topk(1, dim=1)\n",
        "        equals = top_class == labels.view(*top_class.shape)\n",
        "        t_acc += equals.sum().item()\n",
        "        loss.backward()\n",
        "        optimizer.step()\n",
        "    with torch.no_grad():\n",
        "        model.eval()\n",
        "        v_acc = 0.0\n",
        "        for images, labels in valid_loader:\n",
        "            logits = model(images)\n",
        "            loss = criterion(logits, labels)\n",
        "            valid_loss += loss.item()\n",
        "            preds = F.log_softmax(logits, dim=1)\n",
        "            ps = torch.exp(preds)\n",
        "            top_k, top_class = ps.topk(1, dim=1)\n",
        "            equals = top_class == labels.view(*top_class.shape)\n",
        "            v_acc += equals.sum().item()\n",
        "    train_loss = train_loss/len(train_loader.sampler)\n",
        "    valid_loss = valid_loss/len(valid_loader.sampler)\n",
        "    train_accuracy.append(t_acc/len(train_loader.sampler))\n",
        "    val_accuracy.append(v_acc/len(valid_loader.sampler))\n",
        "\n",
        "    print(\"Epoch \", epoch+1, \"train loss \", train_loss, \"validation loss \", valid_loss)\n",
        "\n",
        "    if valid_loss <= valid_loss_min:\n",
        "        print(\"validation loss decreased\", valid_loss_min, \"---->\", valid_loss)\n",
        "        print(\"Saving the model\")\n",
        "        torch.save(model.state_dict(), \"model_facial_rec.pt\")\n",
        "        valid_loss_min = valid_loss"
      ],
      "metadata": {
        "id": "c-WkMf0uJkU0"
      },
      "execution_count": null,
      "outputs": []
    },
    {
      "cell_type": "code",
      "source": [
        "model.load_state_dict(torch.load(\"model_facial_rec.pt\"))"
      ],
      "metadata": {
        "id": "YqVm9ACiJrSf"
      },
      "execution_count": null,
      "outputs": []
    },
    {
      "cell_type": "code",
      "source": [
        "plt.plot(train_accuracy, label=\"Training Accuracy\")\n",
        "plt.plot(val_accuracy, label=\"Validation Accuracy\")\n",
        "plt.legend()"
      ],
      "metadata": {
        "id": "7NFelqikKF2G"
      },
      "execution_count": null,
      "outputs": []
    },
    {
      "cell_type": "code",
      "source": [
        "test_loss = 0.0\n",
        "class_correct = list(0. for i in range(len(classes)))\n",
        "class_total = list(0. for i in range(len(classes)))\n",
        "\n",
        "model.eval()\n",
        "\n",
        "for data, target in test_loader:\n",
        "    output = model(data)\n",
        "    loss = criterion(output, target)\n",
        "    test_loss += loss.item()*data.size(0)\n",
        "    p = F.log_softmax(output, dim=1)\n",
        "    _, pred = torch.max(p, 1)\n",
        "    correct_tensor = pred.eq(target.data.view_as(pred))\n",
        "    correct = np.squeeze(correct_tensor.numpy())\n",
        "    for i in range(len(target)):\n",
        "\n",
        "        label = target.data[i]\n",
        "\n",
        "        class_correct[label] += correct[i].item()\n",
        "        class_total[label] += 1\n",
        "\n",
        "# average test loss\n",
        "test_loss = test_loss/len(test_loader.dataset)\n",
        "print('Test Loss: {:.6f}\\n'.format(test_loss))\n",
        "\n",
        "for i in range(4):\n",
        "    if class_total[i] > 0:\n",
        "        print('Test Accuracy of %5s: %2d%% (%2d/%2d)' % (\n",
        "            classes[i], 100 * class_correct[i] / class_total[i],\n",
        "            np.sum(class_correct[i]), np.sum(class_total[i])))\n",
        "    else:\n",
        "        print('Test Accuracy of %5s: N/A (no training examples)' % (classes[i]))\n",
        "\n",
        "print('\\nTest Accuracy (Overall): %2d%% (%2d/%2d)' % (\n",
        "    100. * np.sum(class_correct) / np.sum(class_total),\n",
        "    np.sum(class_correct), np.sum(class_total)))"
      ],
      "metadata": {
        "id": "4GJ-4ydyJyam"
      },
      "execution_count": null,
      "outputs": []
    },
    {
      "cell_type": "code",
      "source": [
        "dataiter = iter(test_loader)\n",
        "images, labels = next(dataiter)\n",
        "images.numpy()\n",
        "\n",
        "output = model(images)\n",
        "_, preds_tensor = torch.max(output, 1)\n",
        "preds = np.squeeze(preds_tensor.numpy())\n",
        "\n",
        "fig = plt.figure(figsize=(50, 15))\n",
        "for idx in np.arange(20):\n",
        "    ax = fig.add_subplot(2, 10, idx+1, xticks=[], yticks=[])\n",
        "    imshow(images[idx])\n",
        "    ax.set_title(\"{} ({})\".format(classes[preds[idx]], classes[labels[idx]]),\n",
        "                 color=(\"green\" if preds[idx]==labels[idx].item() else \"red\"))"
      ],
      "metadata": {
        "id": "2jKcOjysJ99D"
      },
      "execution_count": null,
      "outputs": []
    }
  ]
}