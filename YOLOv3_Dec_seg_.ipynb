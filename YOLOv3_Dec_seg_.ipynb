{
  "nbformat": 4,
  "nbformat_minor": 0,
  "metadata": {
    "colab": {
      "provenance": [],
      "gpuType": "T4",
      "authorship_tag": "ABX9TyMTZN2/mij5yLyZnr4RMEXD",
      "include_colab_link": true
    },
    "kernelspec": {
      "name": "python3",
      "display_name": "Python 3"
    },
    "language_info": {
      "name": "python"
    },
    "accelerator": "GPU"
  },
  "cells": [
    {
      "cell_type": "markdown",
      "metadata": {
        "id": "view-in-github",
        "colab_type": "text"
      },
      "source": [
        "<a href=\"https://colab.research.google.com/github/mateusribeirocampos/diollm/blob/main/YOLOv3_Dec_seg_.ipynb\" target=\"_parent\"><img src=\"https://colab.research.google.com/assets/colab-badge.svg\" alt=\"Open In Colab\"/></a>"
      ]
    },
    {
      "cell_type": "code",
      "source": [
        "from google.colab import drive\n",
        "drive.mount('/content/gdrive')"
      ],
      "metadata": {
        "colab": {
          "base_uri": "https://localhost:8080/"
        },
        "id": "m84GVjNMVIbX",
        "outputId": "e75ee105-de4b-42f7-cc22-ccb2de835057"
      },
      "execution_count": null,
      "outputs": [
        {
          "output_type": "stream",
          "name": "stdout",
          "text": [
            "Mounted at /content/gdrive\n"
          ]
        }
      ]
    },
    {
      "cell_type": "markdown",
      "source": [
        "Criação do diretório darknet para o modelo yolo a partir do repositório de Alexey AB."
      ],
      "metadata": {
        "id": "SoUkKWTHHhjR"
      }
    },
    {
      "cell_type": "code",
      "execution_count": null,
      "metadata": {
        "id": "0obWMEJhTlhv"
      },
      "outputs": [],
      "source": [
        "!git clone https://github.com/AlexeyAB/darknet.git\n",
        "%cd darknet\n",
        "!sed -i 's/GPU=0/GPU=1/' Makefile\n",
        "!sed -i 's/CUDNN=0/CUDNN=1/' Makefile\n",
        "!sed -i 's/OPENCV=0/OPENCV=1/' Makefile\n",
        "!make clean && make"
      ]
    },
    {
      "cell_type": "markdown",
      "source": [
        "## Instalação da pacote lipopencv-dv e tree\n",
        "\n",
        " It's the development version of OpenCV (Open Source Computer Vision Library), a popular library used for computer vision tasks (like image processing, object detection, etc.). The development version includes header files and libraries needed to build applications that use OpenCV.\n",
        "\n",
        " o pacote tree facilita a visualização da estrutura do projeto"
      ],
      "metadata": {
        "id": "NtTGw8w5HvWF"
      }
    },
    {
      "cell_type": "code",
      "source": [
        "!apt-get install libopencv-dev\n",
        "!sudo apt-get install tree"
      ],
      "metadata": {
        "id": "kE_VhxQAzch7"
      },
      "execution_count": null,
      "outputs": []
    },
    {
      "cell_type": "code",
      "source": [
        "!mkdir -p /content/backup\n",
        "!mkdir -p /content/coco/images\n",
        "!mkdir -p /content/coco/annotations"
      ],
      "metadata": {
        "id": "OBf3tNp9V3C3"
      },
      "execution_count": null,
      "outputs": []
    },
    {
      "cell_type": "code",
      "source": [
        "# Baixar val2017 (1GB)\n",
        "!wget -c http://images.cocodataset.org/zips/val2017.zip -P /content/coco/images\n",
        "\n",
        "# Baixar test2017\n",
        "!wget -c http://images.cocodataset.org/zips/test2017.zip -P /content/coco/images\n",
        "\n",
        "# Baixar anotações (train + val)\n",
        "!wget -c http://images.cocodataset.org/annotations_trainval2017.zip -P /content/coco/annotations\n",
        "\n",
        "# Baixar imagens de treino (18GB)\n",
        "!wget -c http://images.cocodataset.org/zips/train2017.zip -P /content/coco/images"
      ],
      "metadata": {
        "id": "1LU_Obqcb2y0",
        "colab": {
          "base_uri": "https://localhost:8080/"
        },
        "outputId": "f85e47fe-ed4e-4320-e4e2-94d6be90e1bb"
      },
      "execution_count": null,
      "outputs": [
        {
          "output_type": "stream",
          "name": "stdout",
          "text": [
            "--2025-02-15 21:52:57--  http://images.cocodataset.org/zips/val2017.zip\n",
            "Resolving images.cocodataset.org (images.cocodataset.org)... 52.216.209.81, 3.5.22.67, 16.182.73.233, ...\n",
            "Connecting to images.cocodataset.org (images.cocodataset.org)|52.216.209.81|:80... connected.\n",
            "HTTP request sent, awaiting response... 200 OK\n",
            "Length: 815585330 (778M) [application/zip]\n",
            "Saving to: ‘/content/coco/images/val2017.zip’\n",
            "\n",
            "val2017.zip         100%[===================>] 777.80M  19.1MB/s    in 43s     \n",
            "\n",
            "2025-02-15 21:53:41 (17.9 MB/s) - ‘/content/coco/images/val2017.zip’ saved [815585330/815585330]\n",
            "\n",
            "--2025-02-15 21:53:41--  http://images.cocodataset.org/zips/test2017.zip\n",
            "Resolving images.cocodataset.org (images.cocodataset.org)... 54.231.195.89, 3.5.28.57, 3.5.29.71, ...\n",
            "Connecting to images.cocodataset.org (images.cocodataset.org)|54.231.195.89|:80... connected.\n",
            "HTTP request sent, awaiting response... 200 OK\n",
            "Length: 6646970404 (6.2G) [application/zip]\n",
            "Saving to: ‘/content/coco/images/test2017.zip’\n",
            "\n",
            "test2017.zip        100%[===================>]   6.19G  17.8MB/s    in 5m 43s  \n",
            "\n",
            "2025-02-15 21:59:24 (18.5 MB/s) - ‘/content/coco/images/test2017.zip’ saved [6646970404/6646970404]\n",
            "\n"
          ]
        }
      ]
    },
    {
      "cell_type": "code",
      "source": [
        "# Descompactar validações\n",
        "!unzip /content/coco/images/val2017.zip -d /content/coco/images\n",
        "!rm /content/coco/images/val2017.zip\n",
        "\n",
        "# Descompactar imagens de testes\n",
        "!unzip /content/coco/images/test2017.zip -d /content/coco/images\n",
        "!rm /content/coco/images/test2017.zip"
      ],
      "metadata": {
        "id": "PEMYHLIrmTvb"
      },
      "execution_count": null,
      "outputs": []
    },
    {
      "cell_type": "code",
      "source": [
        "# Descompactar imagens\n",
        "!unzip /content/coco/images/train2017.zip -d /content/coco/images\n",
        "!rm /content/coco/images/train2017.zip\n",
        "\n",
        "# Descompactar anotações de treino e validações\n",
        "!unzip /content/coco/annotations/annotations_trainval2017.zip -d /content/coco/annotations\n",
        "!rm /content/coco/annotations/annotations_trainval2017.zip"
      ],
      "metadata": {
        "id": "HXB5jQcTaxHu"
      },
      "execution_count": null,
      "outputs": []
    },
    {
      "cell_type": "code",
      "source": [
        "# Mova todos os JSONs para /content/coco/annotations/\n",
        "# !mv /content/coco/annotations/annotations/*.json /content/coco/annotations/\n",
        "# !rm -rf /content/coco/annotations/annotations  # Delete a subpasta vazia"
      ],
      "metadata": {
        "id": "nXUDlwJtt1l_"
      },
      "execution_count": null,
      "outputs": []
    },
    {
      "cell_type": "code",
      "source": [
        "!ls /content/coco/annotations/"
      ],
      "metadata": {
        "colab": {
          "base_uri": "https://localhost:8080/"
        },
        "id": "1s4GTMRmgCIS",
        "outputId": "fa77ec49-c557-4d86-d657-39f2edf378fb"
      },
      "execution_count": null,
      "outputs": [
        {
          "output_type": "stream",
          "name": "stdout",
          "text": [
            "captions_train2017.json  instances_train2017.json  person_keypoints_train2017.json\n",
            "captions_val2017.json\t instances_val2017.json    person_keypoints_val2017.json\n"
          ]
        }
      ]
    },
    {
      "cell_type": "code",
      "source": [
        "!tree -d /content/coco/"
      ],
      "metadata": {
        "colab": {
          "base_uri": "https://localhost:8080/"
        },
        "id": "kb8ZwgnzorK5",
        "outputId": "85e3d5fd-8249-4999-fa43-0925bb3ec48e"
      },
      "execution_count": null,
      "outputs": [
        {
          "output_type": "stream",
          "name": "stdout",
          "text": [
            "\u001b[01;34m/content/coco/\u001b[0m\n",
            "├── \u001b[01;34mannotations\u001b[0m\n",
            "└── \u001b[01;34mimages\u001b[0m\n",
            "    ├── \u001b[01;34mtest2017\u001b[0m\n",
            "    ├── \u001b[01;34mtrain2017\u001b[0m\n",
            "    └── \u001b[01;34mval2017\u001b[0m\n",
            "\n",
            "5 directories\n"
          ]
        }
      ]
    },
    {
      "cell_type": "code",
      "source": [
        "!tree -d /content/coco/images/"
      ],
      "metadata": {
        "colab": {
          "base_uri": "https://localhost:8080/"
        },
        "id": "kHTC3e5YuWvw",
        "outputId": "259ada1b-d1e8-42de-db38-e7dbad3cd97f"
      },
      "execution_count": null,
      "outputs": [
        {
          "output_type": "stream",
          "name": "stdout",
          "text": [
            "\u001b[01;34m/content/coco/images/\u001b[0m\n",
            "├── \u001b[01;34mtest2017\u001b[0m\n",
            "├── \u001b[01;34mtrain2017\u001b[0m\n",
            "└── \u001b[01;34mval2017\u001b[0m\n",
            "\n",
            "3 directories\n"
          ]
        }
      ]
    },
    {
      "cell_type": "code",
      "source": [
        "import os\n",
        "import shutil\n",
        "from pycocotools.coco import COCO\n",
        "\n",
        "def process_coco_split(splits: list, categories: list, max_samples_per_split: int = None):\n",
        "    \"\"\"\n",
        "    Processa splits do COCO (train, val, test), filtrando por categorias e convertendo para YOLO.\n",
        "    \"\"\"\n",
        "    # Criar diretório principal\n",
        "    os.makedirs('/content/coco/filtered/', exist_ok=True)\n",
        "\n",
        "    # Criar arquivo de classes\n",
        "    with open('/content/coco/filtered/obj.names', 'w') as f:\n",
        "        for cat in categories:\n",
        "            f.write(cat + '\\n')\n",
        "\n",
        "    for split in splits:\n",
        "        print(f\"\\nProcessando split: {split}\")\n",
        "\n",
        "        # Caminhos das imagens\n",
        "        img_source_dir = f'/content/coco/images/{split}2017'\n",
        "        img_dest_dir = f'/content/coco/filtered/{split}/images'\n",
        "        os.makedirs(img_dest_dir, exist_ok=True)\n",
        "\n",
        "        # Processar apenas train/val (test não tem anotações)\n",
        "        if split != 'test':\n",
        "            # Carregar anotações\n",
        "            coco = COCO(f'/content/coco/annotations/instances_{split}2017.json')\n",
        "            cat_ids = coco.getCatIds(catNms=categories)\n",
        "            img_ids = coco.getImgIds(catIds=cat_ids)\n",
        "\n",
        "            # Limitar amostras se especificado\n",
        "            if max_samples_per_split:\n",
        "                img_ids = img_ids[:max_samples_per_split]\n",
        "\n",
        "            images = coco.loadImgs(img_ids)\n",
        "\n",
        "            # Copiar imagens\n",
        "            for img in images:\n",
        "                src = os.path.join(img_source_dir, img['file_name'])\n",
        "                dst = os.path.join(img_dest_dir, img['file_name'])\n",
        "                shutil.copy(src, dst)\n",
        "\n",
        "            # Criar diretório de labels\n",
        "            ann_dest_dir = f'/content/coco/filtered/{split}/labels'\n",
        "            os.makedirs(ann_dest_dir, exist_ok=True)\n",
        "\n",
        "            # Converter anotações para YOLO\n",
        "            for img in images:\n",
        "                ann_ids = coco.getAnnIds(imgIds=img['id'], catIds=cat_ids)\n",
        "                annotations = coco.loadAnns(ann_ids)\n",
        "\n",
        "                label_path = os.path.join(ann_dest_dir, img['file_name'].replace('.jpg', '.txt'))\n",
        "                with open(label_path, 'w') as f:\n",
        "                    for ann in annotations:\n",
        "                        x, y, w, h = ann['bbox']\n",
        "                        img_w, img_h = img['width'], img['height']\n",
        "\n",
        "                        cx = (x + w/2) / img_w\n",
        "                        cy = (y + h/2) / img_h\n",
        "                        nw = w / img_w\n",
        "                        nh = h / img_h\n",
        "\n",
        "                        class_id = categories.index(coco.loadCats(ann['category_id'])[0]['name'])\n",
        "                        f.write(f\"{class_id} {cx:.6f} {cy:.6f} {nw:.6f} {nh:.6f}\\n\")\n",
        "\n",
        "        # Processar test (sem anotações)\n",
        "        else:\n",
        "            # Listar todas as imagens do diretório test2017\n",
        "            images = [{'file_name': f} for f in os.listdir(img_source_dir)]\n",
        "            if max_samples_per_split:\n",
        "                images = images[:max_samples_per_split]\n",
        "\n",
        "            # Copiar imagens\n",
        "            for img in images:\n",
        "                src = os.path.join(img_source_dir, img['file_name'])\n",
        "                dst = os.path.join(img_dest_dir, img['file_name'])\n",
        "                shutil.copy(src, dst)\n",
        "\n",
        "# Uso\n",
        "process_coco_split(\n",
        "    splits=['train', 'val', 'test'],\n",
        "    categories=['boat', 'person'],\n",
        "    max_samples_per_split=100\n",
        ")"
      ],
      "metadata": {
        "colab": {
          "base_uri": "https://localhost:8080/"
        },
        "id": "5KkwWlCNdKk_",
        "outputId": "23bfcf28-b8d8-4092-cc80-a29cb89f0541"
      },
      "execution_count": null,
      "outputs": [
        {
          "output_type": "stream",
          "name": "stdout",
          "text": [
            "\n",
            "Processando split: train\n",
            "loading annotations into memory...\n",
            "Done (t=20.65s)\n",
            "creating index...\n",
            "index created!\n",
            "\n",
            "Processando split: val\n",
            "loading annotations into memory...\n",
            "Done (t=0.66s)\n",
            "creating index...\n",
            "index created!\n",
            "\n",
            "Processando split: test\n"
          ]
        }
      ]
    },
    {
      "cell_type": "code",
      "source": [
        "!wget https://pjreddie.com/media/files/yolov3.weights"
      ],
      "metadata": {
        "colab": {
          "base_uri": "https://localhost:8080/"
        },
        "id": "WdkVSZXUiGNF",
        "outputId": "3274b233-f98b-479d-de98-16c7725d0ea8"
      },
      "execution_count": null,
      "outputs": [
        {
          "output_type": "stream",
          "name": "stdout",
          "text": [
            "--2025-02-15 22:26:42--  https://pjreddie.com/media/files/yolov3.weights\n",
            "Resolving pjreddie.com (pjreddie.com)... 162.0.215.52\n",
            "Connecting to pjreddie.com (pjreddie.com)|162.0.215.52|:443... connected.\n",
            "HTTP request sent, awaiting response... 200 OK\n",
            "Length: 248007048 (237M) [application/octet-stream]\n",
            "Saving to: ‘yolov3.weights’\n",
            "\n",
            "yolov3.weights      100%[===================>] 236.52M  18.9MB/s    in 14s     \n",
            "\n",
            "2025-02-15 22:26:56 (17.2 MB/s) - ‘yolov3.weights’ saved [248007048/248007048]\n",
            "\n"
          ]
        }
      ]
    },
    {
      "cell_type": "code",
      "source": [
        "!which yolov3.weights"
      ],
      "metadata": {
        "id": "C200_GyniY6O"
      },
      "execution_count": null,
      "outputs": []
    },
    {
      "cell_type": "code",
      "source": [
        "!cat /content/coco/filtered/obj.names"
      ],
      "metadata": {
        "id": "8_zl8w5oxCTq",
        "outputId": "0e66b62b-76c0-4c52-a059-02aaa18538e5",
        "colab": {
          "base_uri": "https://localhost:8080/"
        }
      },
      "execution_count": null,
      "outputs": [
        {
          "output_type": "stream",
          "name": "stdout",
          "text": [
            "boat\n",
            "person\n"
          ]
        }
      ]
    },
    {
      "cell_type": "code",
      "source": [
        "!echo -e \"classes = 2\\ntrain = /content/coco/filtered/train.txt\\nvalid = /content/coco/filtered/val.txt\\nnames = /content/coco/filtered/obj.names\\nbackup = /content/backup\" > /content/coco/filtered/obj.data"
      ],
      "metadata": {
        "id": "mVvXS0dJxgms"
      },
      "execution_count": null,
      "outputs": []
    },
    {
      "cell_type": "code",
      "source": [
        "!cat /content/coco/filtered/obj.data"
      ],
      "metadata": {
        "id": "cYBVcPx2xk46",
        "outputId": "07dd77d3-f5a0-4ff4-cea3-3d87fb3a4f05",
        "colab": {
          "base_uri": "https://localhost:8080/"
        }
      },
      "execution_count": null,
      "outputs": [
        {
          "output_type": "stream",
          "name": "stdout",
          "text": [
            "classes = 2\n",
            "train = /content/coco/filtered/train.txt\n",
            "valid = /content/coco/filtered/val.txt\n",
            "names = /content/coco/filtered/obj.names\n",
            "backup = /content/backup\n"
          ]
        }
      ]
    },
    {
      "cell_type": "code",
      "source": [
        "import os\n",
        "\n",
        "# Para train.txt\n",
        "with open('/content/coco/filtered/train.txt', 'w') as f:\n",
        "    train_img_dir = '/content/coco/filtered/train/images'\n",
        "    for img_name in os.listdir(train_img_dir):\n",
        "        f.write(f'{train_img_dir}/{img_name}\\n')\n",
        "\n",
        "# Para val.txt\n",
        "with open('/content/coco/filtered/val.txt', 'w') as f:\n",
        "    val_img_dir = '/content/coco/filtered/val/images'\n",
        "    for img_name in os.listdir(val_img_dir):\n",
        "        f.write(f'{val_img_dir}/{img_name}\\n')"
      ],
      "metadata": {
        "id": "X9DIXH0wxuf5"
      },
      "execution_count": null,
      "outputs": []
    },
    {
      "cell_type": "code",
      "source": [
        "# Verifique se existem e contêm caminhos das imagens\n",
        "!ls /content/coco/filtered/train.txt /content/coco/filtered/val.txt\n",
        "\n",
        "# Exemplo do conteúdo de train.txt (primeiras 2 linhas)\n",
        "!head -n 2 /content/coco/filtered/train.txt"
      ],
      "metadata": {
        "id": "Od-tqcwkx0Gs",
        "outputId": "d6649f32-deb4-4aea-9c7c-d34c088ab25c",
        "colab": {
          "base_uri": "https://localhost:8080/"
        }
      },
      "execution_count": null,
      "outputs": [
        {
          "output_type": "stream",
          "name": "stdout",
          "text": [
            "/content/coco/filtered/train.txt  /content/coco/filtered/val.txt\n",
            "/content/coco/filtered/train/images/000000032818.jpg\n",
            "/content/coco/filtered/train/images/000000549127.jpg\n"
          ]
        }
      ]
    },
    {
      "cell_type": "code",
      "source": [
        "!tree /content/coco/filtered -L 2"
      ],
      "metadata": {
        "id": "zPF2dxzax4Yg",
        "outputId": "df50bda4-f347-44b8-ab03-5461948196ca",
        "colab": {
          "base_uri": "https://localhost:8080/"
        }
      },
      "execution_count": null,
      "outputs": [
        {
          "output_type": "stream",
          "name": "stdout",
          "text": [
            "\u001b[01;34m/content/coco/filtered\u001b[0m\n",
            "├── \u001b[00mobj.data\u001b[0m\n",
            "├── \u001b[00mobj.names\u001b[0m\n",
            "├── \u001b[01;34mtest\u001b[0m\n",
            "│   └── \u001b[01;34mimages\u001b[0m\n",
            "├── \u001b[01;34mtrain\u001b[0m\n",
            "│   ├── \u001b[01;34mimages\u001b[0m\n",
            "│   └── \u001b[01;34mlabels\u001b[0m\n",
            "├── \u001b[00mtrain.txt\u001b[0m\n",
            "├── \u001b[01;34mval\u001b[0m\n",
            "│   ├── \u001b[01;34mimages\u001b[0m\n",
            "│   └── \u001b[01;34mlabels\u001b[0m\n",
            "└── \u001b[00mval.txt\u001b[0m\n",
            "\n",
            "8 directories, 4 files\n"
          ]
        }
      ]
    },
    {
      "cell_type": "code",
      "source": [
        "# Cria cópia do cfg original\n",
        "!cp cfg/yolov3.cfg cfg/yolov3_custom.cfg\n",
        "\n",
        "# Aplica modificações\n",
        "!sed -i 's/batch=1/batch=64/' cfg/yolov3_custom.cfg\n",
        "!sed -i 's/subdivisions=1/subdivisions=16/' cfg/yolov3_custom.cfg\n",
        "!sed -i 's/max_batches = 500200/max_batches = 6000/' cfg/yolov3_custom.cfg\n",
        "!sed -i 's/classes=80/classes=2/' cfg/yolov3_custom.cfg\n",
        "!sed -i 's/filters=255/filters=21/' cfg/yolov3_custom.cfg"
      ],
      "metadata": {
        "id": "J6gD6lItiq-L"
      },
      "execution_count": null,
      "outputs": []
    },
    {
      "cell_type": "code",
      "source": [
        "!./darknet detector train /content/coco/filtered/obj.data cfg/yolov3_custom.cfg yolov3.weights -dont_show -map"
      ],
      "metadata": {
        "id": "cG7Rr9mHwzUP",
        "outputId": "57d7edf4-b00e-4137-9a03-3cf906970be9",
        "colab": {
          "base_uri": "https://localhost:8080/"
        }
      },
      "execution_count": null,
      "outputs": [
        {
          "output_type": "stream",
          "name": "stdout",
          "text": [
            " GPU isn't used \n",
            " OpenCV isn't used - data augmentation will be slow \n",
            " Prepare additional network for mAP calculation...\n",
            "mini_batch = 1, batch = 16, time_steps = 1, train = 0 \n",
            "   layer   filters  size/strd(dil)      input                output\n",
            "   0 conv     32       3 x 3/ 1    416 x 416 x   3 ->  416 x 416 x  32 0.299 BF\n",
            "   1 conv     64       3 x 3/ 2    416 x 416 x  32 ->  208 x 208 x  64 1.595 BF\n",
            "   2 conv     32       1 x 1/ 1    208 x 208 x  64 ->  208 x 208 x  32 0.177 BF\n",
            "   3 conv     64       3 x 3/ 1    208 x 208 x  32 ->  208 x 208 x  64 1.595 BF\n",
            "   4 Shortcut Layer: 1,  wt = 0, wn = 0, outputs: 208 x 208 x  64 0.003 BF\n",
            "   5 conv    128       3 x 3/ 2    208 x 208 x  64 ->  104 x 104 x 128 1.595 BF\n",
            "   6 conv     64       1 x 1/ 1    104 x 104 x 128 ->  104 x 104 x  64 0.177 BF\n",
            "   7 conv    128       3 x 3/ 1    104 x 104 x  64 ->  104 x 104 x 128 1.595 BF\n",
            "   8 Shortcut Layer: 5,  wt = 0, wn = 0, outputs: 104 x 104 x 128 0.001 BF\n",
            "   9 conv     64       1 x 1/ 1    104 x 104 x 128 ->  104 x 104 x  64 0.177 BF\n",
            "  10 conv    128       3 x 3/ 1    104 x 104 x  64 ->  104 x 104 x 128 1.595 BF\n",
            "  11 Shortcut Layer: 8,  wt = 0, wn = 0, outputs: 104 x 104 x 128 0.001 BF\n",
            "  12 conv    256       3 x 3/ 2    104 x 104 x 128 ->   52 x  52 x 256 1.595 BF\n",
            "  13 conv    128       1 x 1/ 1     52 x  52 x 256 ->   52 x  52 x 128 0.177 BF\n",
            "  14 conv    256       3 x 3/ 1     52 x  52 x 128 ->   52 x  52 x 256 1.595 BF\n",
            "  15 Shortcut Layer: 12,  wt = 0, wn = 0, outputs:  52 x  52 x 256 0.001 BF\n",
            "  16 conv    128       1 x 1/ 1     52 x  52 x 256 ->   52 x  52 x 128 0.177 BF\n",
            "  17 conv    256       3 x 3/ 1     52 x  52 x 128 ->   52 x  52 x 256 1.595 BF\n",
            "  18 Shortcut Layer: 15,  wt = 0, wn = 0, outputs:  52 x  52 x 256 0.001 BF\n",
            "  19 conv    128       1 x 1/ 1     52 x  52 x 256 ->   52 x  52 x 128 0.177 BF\n",
            "  20 conv    256       3 x 3/ 1     52 x  52 x 128 ->   52 x  52 x 256 1.595 BF\n",
            "  21 Shortcut Layer: 18,  wt = 0, wn = 0, outputs:  52 x  52 x 256 0.001 BF\n",
            "  22 conv    128       1 x 1/ 1     52 x  52 x 256 ->   52 x  52 x 128 0.177 BF\n",
            "  23 conv    256       3 x 3/ 1     52 x  52 x 128 ->   52 x  52 x 256 1.595 BF\n",
            "  24 Shortcut Layer: 21,  wt = 0, wn = 0, outputs:  52 x  52 x 256 0.001 BF\n",
            "  25 conv    128       1 x 1/ 1     52 x  52 x 256 ->   52 x  52 x 128 0.177 BF\n",
            "  26 conv    256       3 x 3/ 1     52 x  52 x 128 ->   52 x  52 x 256 1.595 BF\n",
            "  27 Shortcut Layer: 24,  wt = 0, wn = 0, outputs:  52 x  52 x 256 0.001 BF\n",
            "  28 conv    128       1 x 1/ 1     52 x  52 x 256 ->   52 x  52 x 128 0.177 BF\n",
            "  29 conv    256       3 x 3/ 1     52 x  52 x 128 ->   52 x  52 x 256 1.595 BF\n",
            "  30 Shortcut Layer: 27,  wt = 0, wn = 0, outputs:  52 x  52 x 256 0.001 BF\n",
            "  31 conv    128       1 x 1/ 1     52 x  52 x 256 ->   52 x  52 x 128 0.177 BF\n",
            "  32 conv    256       3 x 3/ 1     52 x  52 x 128 ->   52 x  52 x 256 1.595 BF\n",
            "  33 Shortcut Layer: 30,  wt = 0, wn = 0, outputs:  52 x  52 x 256 0.001 BF\n",
            "  34 conv    128       1 x 1/ 1     52 x  52 x 256 ->   52 x  52 x 128 0.177 BF\n",
            "  35 conv    256       3 x 3/ 1     52 x  52 x 128 ->   52 x  52 x 256 1.595 BF\n",
            "  36 Shortcut Layer: 33,  wt = 0, wn = 0, outputs:  52 x  52 x 256 0.001 BF\n",
            "  37 conv    512       3 x 3/ 2     52 x  52 x 256 ->   26 x  26 x 512 1.595 BF\n",
            "  38 conv    256       1 x 1/ 1     26 x  26 x 512 ->   26 x  26 x 256 0.177 BF\n",
            "  39 conv    512       3 x 3/ 1     26 x  26 x 256 ->   26 x  26 x 512 1.595 BF\n",
            "  40 Shortcut Layer: 37,  wt = 0, wn = 0, outputs:  26 x  26 x 512 0.000 BF\n",
            "  41 conv    256       1 x 1/ 1     26 x  26 x 512 ->   26 x  26 x 256 0.177 BF\n",
            "  42 conv    512       3 x 3/ 1     26 x  26 x 256 ->   26 x  26 x 512 1.595 BF\n",
            "  43 Shortcut Layer: 40,  wt = 0, wn = 0, outputs:  26 x  26 x 512 0.000 BF\n",
            "  44 conv    256       1 x 1/ 1     26 x  26 x 512 ->   26 x  26 x 256 0.177 BF\n",
            "  45 conv    512       3 x 3/ 1     26 x  26 x 256 ->   26 x  26 x 512 1.595 BF\n",
            "  46 Shortcut Layer: 43,  wt = 0, wn = 0, outputs:  26 x  26 x 512 0.000 BF\n",
            "  47 conv    256       1 x 1/ 1     26 x  26 x 512 ->   26 x  26 x 256 0.177 BF\n",
            "  48 conv    512       3 x 3/ 1     26 x  26 x 256 ->   26 x  26 x 512 1.595 BF\n",
            "  49 Shortcut Layer: 46,  wt = 0, wn = 0, outputs:  26 x  26 x 512 0.000 BF\n",
            "  50 conv    256       1 x 1/ 1     26 x  26 x 512 ->   26 x  26 x 256 0.177 BF\n",
            "  51 conv    512       3 x 3/ 1     26 x  26 x 256 ->   26 x  26 x 512 1.595 BF\n",
            "  52 Shortcut Layer: 49,  wt = 0, wn = 0, outputs:  26 x  26 x 512 0.000 BF\n",
            "  53 conv    256       1 x 1/ 1     26 x  26 x 512 ->   26 x  26 x 256 0.177 BF\n",
            "  54 conv    512       3 x 3/ 1     26 x  26 x 256 ->   26 x  26 x 512 1.595 BF\n",
            "  55 Shortcut Layer: 52,  wt = 0, wn = 0, outputs:  26 x  26 x 512 0.000 BF\n",
            "  56 conv    256       1 x 1/ 1     26 x  26 x 512 ->   26 x  26 x 256 0.177 BF\n",
            "  57 conv    512       3 x 3/ 1     26 x  26 x 256 ->   26 x  26 x 512 1.595 BF\n",
            "  58 Shortcut Layer: 55,  wt = 0, wn = 0, outputs:  26 x  26 x 512 0.000 BF\n",
            "  59 conv    256       1 x 1/ 1     26 x  26 x 512 ->   26 x  26 x 256 0.177 BF\n",
            "  60 conv    512       3 x 3/ 1     26 x  26 x 256 ->   26 x  26 x 512 1.595 BF\n",
            "  61 Shortcut Layer: 58,  wt = 0, wn = 0, outputs:  26 x  26 x 512 0.000 BF\n",
            "  62 conv   1024       3 x 3/ 2     26 x  26 x 512 ->   13 x  13 x1024 1.595 BF\n",
            "  63 conv    512       1 x 1/ 1     13 x  13 x1024 ->   13 x  13 x 512 0.177 BF\n",
            "  64 conv   1024       3 x 3/ 1     13 x  13 x 512 ->   13 x  13 x1024 1.595 BF\n",
            "  65 Shortcut Layer: 62,  wt = 0, wn = 0, outputs:  13 x  13 x1024 0.000 BF\n",
            "  66 conv    512       1 x 1/ 1     13 x  13 x1024 ->   13 x  13 x 512 0.177 BF\n",
            "  67 conv   1024       3 x 3/ 1     13 x  13 x 512 ->   13 x  13 x1024 1.595 BF\n",
            "  68 Shortcut Layer: 65,  wt = 0, wn = 0, outputs:  13 x  13 x1024 0.000 BF\n",
            "  69 conv    512       1 x 1/ 1     13 x  13 x1024 ->   13 x  13 x 512 0.177 BF\n",
            "  70 conv   1024       3 x 3/ 1     13 x  13 x 512 ->   13 x  13 x1024 1.595 BF\n",
            "  71 Shortcut Layer: 68,  wt = 0, wn = 0, outputs:  13 x  13 x1024 0.000 BF\n",
            "  72 conv    512       1 x 1/ 1     13 x  13 x1024 ->   13 x  13 x 512 0.177 BF\n",
            "  73 conv   1024       3 x 3/ 1     13 x  13 x 512 ->   13 x  13 x1024 1.595 BF\n",
            "  74 Shortcut Layer: 71,  wt = 0, wn = 0, outputs:  13 x  13 x1024 0.000 BF\n",
            "  75 conv    512       1 x 1/ 1     13 x  13 x1024 ->   13 x  13 x 512 0.177 BF\n",
            "  76 conv   1024       3 x 3/ 1     13 x  13 x 512 ->   13 x  13 x1024 1.595 BF\n",
            "  77 conv    512       1 x 1/ 1     13 x  13 x1024 ->   13 x  13 x 512 0.177 BF\n",
            "  78 conv   1024       3 x 3/ 1     13 x  13 x 512 ->   13 x  13 x1024 1.595 BF\n",
            "  79 conv    512       1 x 1/ 1     13 x  13 x1024 ->   13 x  13 x 512 0.177 BF\n",
            "  80 conv   1024       3 x 3/ 1     13 x  13 x 512 ->   13 x  13 x1024 1.595 BF\n",
            "  81 conv     21       1 x 1/ 1     13 x  13 x1024 ->   13 x  13 x  21 0.007 BF\n",
            "  82 yolo\n",
            "[yolo] params: iou loss: mse (2), iou_norm: 0.75, obj_norm: 1.00, cls_norm: 1.00, delta_norm: 1.00, scale_x_y: 1.00\n",
            "  83 route  79 \t\t                           ->   13 x  13 x 512 \n",
            "  84 conv    256       1 x 1/ 1     13 x  13 x 512 ->   13 x  13 x 256 0.044 BF\n",
            "  85 upsample                 2x    13 x  13 x 256 ->   26 x  26 x 256\n",
            "  86 route  85 61 \t                           ->   26 x  26 x 768 \n",
            "  87 conv    256       1 x 1/ 1     26 x  26 x 768 ->   26 x  26 x 256 0.266 BF\n",
            "  88 conv    512       3 x 3/ 1     26 x  26 x 256 ->   26 x  26 x 512 1.595 BF\n",
            "  89 conv    256       1 x 1/ 1     26 x  26 x 512 ->   26 x  26 x 256 0.177 BF\n",
            "  90 conv    512       3 x 3/ 1     26 x  26 x 256 ->   26 x  26 x 512 1.595 BF\n",
            "  91 conv    256       1 x 1/ 1     26 x  26 x 512 ->   26 x  26 x 256 0.177 BF\n",
            "  92 conv    512       3 x 3/ 1     26 x  26 x 256 ->   26 x  26 x 512 1.595 BF\n",
            "  93 conv     21       1 x 1/ 1     26 x  26 x 512 ->   26 x  26 x  21 0.015 BF\n",
            "  94 yolo\n",
            "[yolo] params: iou loss: mse (2), iou_norm: 0.75, obj_norm: 1.00, cls_norm: 1.00, delta_norm: 1.00, scale_x_y: 1.00\n",
            "  95 route  91 \t\t                           ->   26 x  26 x 256 \n",
            "  96 conv    128       1 x 1/ 1     26 x  26 x 256 ->   26 x  26 x 128 0.044 BF\n",
            "  97 upsample                 2x    26 x  26 x 128 ->   52 x  52 x 128\n",
            "  98 route  97 36 \t                           ->   52 x  52 x 384 \n",
            "  99 conv    128       1 x 1/ 1     52 x  52 x 384 ->   52 x  52 x 128 0.266 BF\n",
            " 100 conv    256       3 x 3/ 1     52 x  52 x 128 ->   52 x  52 x 256 1.595 BF\n",
            " 101 conv    128       1 x 1/ 1     52 x  52 x 256 ->   52 x  52 x 128 0.177 BF\n",
            " 102 conv    256       3 x 3/ 1     52 x  52 x 128 ->   52 x  52 x 256 1.595 BF\n",
            " 103 conv    128       1 x 1/ 1     52 x  52 x 256 ->   52 x  52 x 128 0.177 BF\n",
            " 104 conv    256       3 x 3/ 1     52 x  52 x 128 ->   52 x  52 x 256 1.595 BF\n",
            " 105 conv     21       1 x 1/ 1     52 x  52 x 256 ->   52 x  52 x  21 0.029 BF\n",
            " 106 yolo\n",
            "[yolo] params: iou loss: mse (2), iou_norm: 0.75, obj_norm: 1.00, cls_norm: 1.00, delta_norm: 1.00, scale_x_y: 1.00\n",
            "Total BFLOPS 65.312 \n",
            "avg_outputs = 516922 \n",
            "yolov3_custom\n",
            "mini_batch = 4, batch = 64, time_steps = 1, train = 1 \n",
            "   layer   filters  size/strd(dil)      input                output\n",
            "   0 conv     32       3 x 3/ 1    416 x 416 x   3 ->  416 x 416 x  32 0.299 BF\n",
            "   1 conv     64       3 x 3/ 2    416 x 416 x  32 ->  208 x 208 x  64 1.595 BF\n",
            "   2 conv     32       1 x 1/ 1    208 x 208 x  64 ->  208 x 208 x  32 0.177 BF\n",
            "   3 conv     64       3 x 3/ 1    208 x 208 x  32 ->  208 x 208 x  64 1.595 BF\n",
            "   4 Shortcut Layer: 1,  wt = 0, wn = 0, outputs: 208 x 208 x  64 0.003 BF\n",
            "   5 conv    128       3 x 3/ 2    208 x 208 x  64 ->  104 x 104 x 128 1.595 BF\n",
            "   6 conv     64       1 x 1/ 1    104 x 104 x 128 ->  104 x 104 x  64 0.177 BF\n",
            "   7 conv    128       3 x 3/ 1    104 x 104 x  64 ->  104 x 104 x 128 1.595 BF\n",
            "   8 Shortcut Layer: 5,  wt = 0, wn = 0, outputs: 104 x 104 x 128 0.001 BF\n",
            "   9 conv     64       1 x 1/ 1    104 x 104 x 128 ->  104 x 104 x  64 0.177 BF\n",
            "  10 conv    128       3 x 3/ 1    104 x 104 x  64 ->  104 x 104 x 128 1.595 BF\n",
            "  11 Shortcut Layer: 8,  wt = 0, wn = 0, outputs: 104 x 104 x 128 0.001 BF\n",
            "  12 conv    256       3 x 3/ 2    104 x 104 x 128 ->   52 x  52 x 256 1.595 BF\n",
            "  13 conv    128       1 x 1/ 1     52 x  52 x 256 ->   52 x  52 x 128 0.177 BF\n",
            "  14 conv    256       3 x 3/ 1     52 x  52 x 128 ->   52 x  52 x 256 1.595 BF\n",
            "  15 Shortcut Layer: 12,  wt = 0, wn = 0, outputs:  52 x  52 x 256 0.001 BF\n",
            "  16 conv    128       1 x 1/ 1     52 x  52 x 256 ->   52 x  52 x 128 0.177 BF\n",
            "  17 conv    256       3 x 3/ 1     52 x  52 x 128 ->   52 x  52 x 256 1.595 BF\n",
            "  18 Shortcut Layer: 15,  wt = 0, wn = 0, outputs:  52 x  52 x 256 0.001 BF\n",
            "  19 conv    128       1 x 1/ 1     52 x  52 x 256 ->   52 x  52 x 128 0.177 BF\n",
            "  20 conv    256       3 x 3/ 1     52 x  52 x 128 ->   52 x  52 x 256 1.595 BF\n",
            "  21 Shortcut Layer: 18,  wt = 0, wn = 0, outputs:  52 x  52 x 256 0.001 BF\n",
            "  22 conv    128       1 x 1/ 1     52 x  52 x 256 ->   52 x  52 x 128 0.177 BF\n",
            "  23 conv    256       3 x 3/ 1     52 x  52 x 128 ->   52 x  52 x 256 1.595 BF\n",
            "  24 Shortcut Layer: 21,  wt = 0, wn = 0, outputs:  52 x  52 x 256 0.001 BF\n",
            "  25 conv    128       1 x 1/ 1     52 x  52 x 256 ->   52 x  52 x 128 0.177 BF\n",
            "  26 conv    256       3 x 3/ 1     52 x  52 x 128 ->   52 x  52 x 256 1.595 BF\n",
            "  27 Shortcut Layer: 24,  wt = 0, wn = 0, outputs:  52 x  52 x 256 0.001 BF\n",
            "  28 conv    128       1 x 1/ 1     52 x  52 x 256 ->   52 x  52 x 128 0.177 BF\n",
            "  29 conv    256       3 x 3/ 1     52 x  52 x 128 ->   52 x  52 x 256 1.595 BF\n",
            "  30 Shortcut Layer: 27,  wt = 0, wn = 0, outputs:  52 x  52 x 256 0.001 BF\n",
            "  31 conv    128       1 x 1/ 1     52 x  52 x 256 ->   52 x  52 x 128 0.177 BF\n",
            "  32 conv    256       3 x 3/ 1     52 x  52 x 128 ->   52 x  52 x 256 1.595 BF\n",
            "  33 Shortcut Layer: 30,  wt = 0, wn = 0, outputs:  52 x  52 x 256 0.001 BF\n",
            "  34 conv    128       1 x 1/ 1     52 x  52 x 256 ->   52 x  52 x 128 0.177 BF\n",
            "  35 conv    256       3 x 3/ 1     52 x  52 x 128 ->   52 x  52 x 256 1.595 BF\n",
            "  36 Shortcut Layer: 33,  wt = 0, wn = 0, outputs:  52 x  52 x 256 0.001 BF\n",
            "  37 conv    512       3 x 3/ 2     52 x  52 x 256 ->   26 x  26 x 512 1.595 BF\n",
            "  38 conv    256       1 x 1/ 1     26 x  26 x 512 ->   26 x  26 x 256 0.177 BF\n",
            "  39 conv    512       3 x 3/ 1     26 x  26 x 256 ->   26 x  26 x 512 1.595 BF\n",
            "  40 Shortcut Layer: 37,  wt = 0, wn = 0, outputs:  26 x  26 x 512 0.000 BF\n",
            "  41 conv    256       1 x 1/ 1     26 x  26 x 512 ->   26 x  26 x 256 0.177 BF\n",
            "  42 conv    512       3 x 3/ 1     26 x  26 x 256 ->   26 x  26 x 512 1.595 BF\n",
            "  43 Shortcut Layer: 40,  wt = 0, wn = 0, outputs:  26 x  26 x 512 0.000 BF\n",
            "  44 conv    256       1 x 1/ 1     26 x  26 x 512 ->   26 x  26 x 256 0.177 BF\n",
            "  45 conv    512       3 x 3/ 1     26 x  26 x 256 ->   26 x  26 x 512 1.595 BF\n",
            "  46 Shortcut Layer: 43,  wt = 0, wn = 0, outputs:  26 x  26 x 512 0.000 BF\n",
            "  47 conv    256       1 x 1/ 1     26 x  26 x 512 ->   26 x  26 x 256 0.177 BF\n",
            "  48 conv    512       3 x 3/ 1     26 x  26 x 256 ->   26 x  26 x 512 1.595 BF\n",
            "  49 Shortcut Layer: 46,  wt = 0, wn = 0, outputs:  26 x  26 x 512 0.000 BF\n",
            "  50 conv    256       1 x 1/ 1     26 x  26 x 512 ->   26 x  26 x 256 0.177 BF\n",
            "  51 conv    512       3 x 3/ 1     26 x  26 x 256 ->   26 x  26 x 512 1.595 BF\n",
            "  52 Shortcut Layer: 49,  wt = 0, wn = 0, outputs:  26 x  26 x 512 0.000 BF\n",
            "  53 conv    256       1 x 1/ 1     26 x  26 x 512 ->   26 x  26 x 256 0.177 BF\n",
            "  54 conv    512       3 x 3/ 1     26 x  26 x 256 ->   26 x  26 x 512 1.595 BF\n",
            "  55 Shortcut Layer: 52,  wt = 0, wn = 0, outputs:  26 x  26 x 512 0.000 BF\n",
            "  56 conv    256       1 x 1/ 1     26 x  26 x 512 ->   26 x  26 x 256 0.177 BF\n",
            "  57 conv    512       3 x 3/ 1     26 x  26 x 256 ->   26 x  26 x 512 1.595 BF\n",
            "  58 Shortcut Layer: 55,  wt = 0, wn = 0, outputs:  26 x  26 x 512 0.000 BF\n",
            "  59 conv    256       1 x 1/ 1     26 x  26 x 512 ->   26 x  26 x 256 0.177 BF\n",
            "  60 conv    512       3 x 3/ 1     26 x  26 x 256 ->   26 x  26 x 512 1.595 BF\n",
            "  61 Shortcut Layer: 58,  wt = 0, wn = 0, outputs:  26 x  26 x 512 0.000 BF\n",
            "  62 conv   1024       3 x 3/ 2     26 x  26 x 512 ->   13 x  13 x1024 1.595 BF\n",
            "  63 conv    512       1 x 1/ 1     13 x  13 x1024 ->   13 x  13 x 512 0.177 BF\n",
            "  64 conv   1024       3 x 3/ 1     13 x  13 x 512 ->   13 x  13 x1024 1.595 BF\n",
            "  65 Shortcut Layer: 62,  wt = 0, wn = 0, outputs:  13 x  13 x1024 0.000 BF\n",
            "  66 conv    512       1 x 1/ 1     13 x  13 x1024 ->   13 x  13 x 512 0.177 BF\n",
            "  67 conv   1024       3 x 3/ 1     13 x  13 x 512 ->   13 x  13 x1024 1.595 BF\n",
            "  68 Shortcut Layer: 65,  wt = 0, wn = 0, outputs:  13 x  13 x1024 0.000 BF\n",
            "  69 conv    512       1 x 1/ 1     13 x  13 x1024 ->   13 x  13 x 512 0.177 BF\n",
            "  70 conv   1024       3 x 3/ 1     13 x  13 x 512 ->   13 x  13 x1024 1.595 BF\n",
            "  71 Shortcut Layer: 68,  wt = 0, wn = 0, outputs:  13 x  13 x1024 0.000 BF\n",
            "  72 conv    512       1 x 1/ 1     13 x  13 x1024 ->   13 x  13 x 512 0.177 BF\n",
            "  73 conv   1024       3 x 3/ 1     13 x  13 x 512 ->   13 x  13 x1024 1.595 BF\n",
            "  74 Shortcut Layer: 71,  wt = 0, wn = 0, outputs:  13 x  13 x1024 0.000 BF\n",
            "  75 conv    512       1 x 1/ 1     13 x  13 x1024 ->   13 x  13 x 512 0.177 BF\n",
            "  76 conv   1024       3 x 3/ 1     13 x  13 x 512 ->   13 x  13 x1024 1.595 BF\n",
            "  77 conv    512       1 x 1/ 1     13 x  13 x1024 ->   13 x  13 x 512 0.177 BF\n",
            "  78 conv   1024       3 x 3/ 1     13 x  13 x 512 ->   13 x  13 x1024 1.595 BF\n",
            "  79 conv    512       1 x 1/ 1     13 x  13 x1024 ->   13 x  13 x 512 0.177 BF\n",
            "  80 conv   1024       3 x 3/ 1     13 x  13 x 512 ->   13 x  13 x1024 1.595 BF\n",
            "  81 conv     21       1 x 1/ 1     13 x  13 x1024 ->   13 x  13 x  21 0.007 BF\n",
            "  82 yolo\n",
            "[yolo] params: iou loss: mse (2), iou_norm: 0.75, obj_norm: 1.00, cls_norm: 1.00, delta_norm: 1.00, scale_x_y: 1.00\n",
            "  83 route  79 \t\t                           ->   13 x  13 x 512 \n",
            "  84 conv    256       1 x 1/ 1     13 x  13 x 512 ->   13 x  13 x 256 0.044 BF\n",
            "  85 upsample                 2x    13 x  13 x 256 ->   26 x  26 x 256\n",
            "  86 route  85 61 \t                           ->   26 x  26 x 768 \n",
            "  87 conv    256       1 x 1/ 1     26 x  26 x 768 ->   26 x  26 x 256 0.266 BF\n",
            "  88 conv    512       3 x 3/ 1     26 x  26 x 256 ->   26 x  26 x 512 1.595 BF\n",
            "  89 conv    256       1 x 1/ 1     26 x  26 x 512 ->   26 x  26 x 256 0.177 BF\n",
            "  90 conv    512       3 x 3/ 1     26 x  26 x 256 ->   26 x  26 x 512 1.595 BF\n",
            "  91 conv    256       1 x 1/ 1     26 x  26 x 512 ->   26 x  26 x 256 0.177 BF\n",
            "  92 conv    512       3 x 3/ 1     26 x  26 x 256 ->   26 x  26 x 512 1.595 BF\n",
            "  93 conv     21       1 x 1/ 1     26 x  26 x 512 ->   26 x  26 x  21 0.015 BF\n",
            "  94 yolo\n",
            "[yolo] params: iou loss: mse (2), iou_norm: 0.75, obj_norm: 1.00, cls_norm: 1.00, delta_norm: 1.00, scale_x_y: 1.00\n",
            "  95 route  91 \t\t                           ->   26 x  26 x 256 \n",
            "  96 conv    128       1 x 1/ 1     26 x  26 x 256 ->   26 x  26 x 128 0.044 BF\n",
            "  97 upsample                 2x    26 x  26 x 128 ->   52 x  52 x 128\n",
            "  98 route  97 36 \t                           ->   52 x  52 x 384 \n",
            "  99 conv    128       1 x 1/ 1     52 x  52 x 384 ->   52 x  52 x 128 0.266 BF\n",
            " 100 conv    256       3 x 3/ 1     52 x  52 x 128 ->   52 x  52 x 256 1.595 BF\n",
            " 101 conv    128       1 x 1/ 1     52 x  52 x 256 ->   52 x  52 x 128 0.177 BF\n",
            " 102 conv    256       3 x 3/ 1     52 x  52 x 128 ->   52 x  52 x 256 1.595 BF\n",
            " 103 conv    128       1 x 1/ 1     52 x  52 x 256 ->   52 x  52 x 128 0.177 BF\n",
            " 104 conv    256       3 x 3/ 1     52 x  52 x 128 ->   52 x  52 x 256 1.595 BF\n",
            " 105 conv     21       1 x 1/ 1     52 x  52 x 256 ->   52 x  52 x  21 0.029 BF\n",
            " 106 yolo\n",
            "[yolo] params: iou loss: mse (2), iou_norm: 0.75, obj_norm: 1.00, cls_norm: 1.00, delta_norm: 1.00, scale_x_y: 1.00\n",
            "Total BFLOPS 65.312 \n",
            "avg_outputs = 516922 \n",
            "Loading weights from yolov3.weights...\n",
            " seen 64, trained: 32013 K-images (500 Kilo-batches_64) \n",
            "Done! Loaded 107 layers from weights-file \n",
            "saveweights: Using default '1000'\n",
            "savelast: Using default '100'\n",
            "Weights are saved after: 1000 iterations. Last weights (*_last.weight) are stored every 100 iterations. \n",
            "Learning Rate: 0.001, Momentum: 0.9, Decay: 0.0005\n",
            " Detection layer: 82 - type = 28 \n",
            " Detection layer: 94 - type = 28 \n",
            " Detection layer: 106 - type = 28 \n",
            "Saving weights to /content/backup/yolov3_custom_final.weights\n",
            " Create 64 permanent cpu-threads \n",
            "Can't open label file. (This can be normal only if you use MSCOCO): /content/coco/filtered/train/images/000000524613.txt \n",
            "Can't open label file. (This can be normal only if you use MSCOCO): /content/coco/filtered/train/images/000000155885.txt \n",
            "Can't open label file. (This can be normal only if you use MSCOCO): /content/coco/filtered/train/images/000000032818.txt \n",
            "Can't open label file. (This can be normal only if you use MSCOCO): /content/coco/filtered/train/images/000000073976.txt \n",
            "Can't open label file. (This can be normal only if you use MSCOCO): /content/coco/filtered/train/images/000000098345.txt \n",
            "Can't open label file. (This can be normal only if you use MSCOCO): /content/coco/filtered/train/images/000000163929.txt \n",
            "Can't open label file. (This can be normal only if you use MSCOCO): /content/coco/filtered/train/images/000000114879.txt \n",
            "Can't open label file. (This can be normal only if you use MSCOCO): /content/coco/filtered/train/images/000000466987.txt \n",
            "Can't open label file. (This can be normal only if you use MSCOCO): /content/coco/filtered/train/images/000000229522.txt \n",
            "Can't open label file. (This can be normal only if you use MSCOCO): /content/coco/filtered/train/images/000000049165.txt \n",
            "Can't open label file. (This can be normal only if you use MSCOCO): /content/coco/filtered/train/images/000000073976.txt \n",
            "Can't open label file. (This can be normal only if you use MSCOCO): /content/coco/filtered/train/images/000000286961.txt \n",
            "Can't open label file. (This can be normal only if you use MSCOCO): /content/coco/filtered/train/images/000000016773.txt \n",
            "Can't open label file. (This can be normal only if you use MSCOCO): /content/coco/filtered/train/images/000000024609.txt \n",
            "Can't open label file. (This can be normal only if you use MSCOCO): /content/coco/filtered/train/images/000000229522.txt \n",
            "Can't open label file. (This can be normal only if you use MSCOCO): /content/coco/filtered/train/images/000000286899.txt \n",
            "Can't open label file. (This can be normal only if you use MSCOCO): /content/coco/filtered/train/images/000000196672.txt \n",
            "Can't open label file. (This can be normal only if you use MSCOCO): /content/coco/filtered/train/images/000000458866.txt \n",
            "Can't open label file. (This can be normal only if you use MSCOCO): /content/coco/filtered/train/images/000000278867.txt \n",
            "Can't open label file. (This can be normal only if you use MSCOCO): /content/coco/filtered/train/images/000000278867.txt \n",
            "Can't open label file. (This can be normal only if you use MSCOCO): /content/coco/filtered/train/images/000000049175.txt \n",
            "Can't open label file. (This can be normal only if you use MSCOCO): /content/coco/filtered/train/images/000000237922.txt \n",
            "Can't open label file. (This can be normal only if you use MSCOCO): /content/coco/filtered/train/images/000000041199.txt \n",
            "Can't open label file. (This can be normal only if you use MSCOCO): /content/coco/filtered/train/images/000000270683.txt \n",
            "Can't open label file. (This can be normal only if you use MSCOCO): /content/coco/filtered/train/images/000000180354.txt \n",
            "Can't open label file. (This can be normal only if you use MSCOCO): /content/coco/filtered/train/images/000000065894.txt \n",
            "Can't open label file. (This can be normal only if you use MSCOCO): /content/coco/filtered/train/images/000000573759.txt \n",
            "Can't open label file. (This can be normal only if you use MSCOCO): /content/coco/filtered/train/images/000000491857.txt \n",
            "Can't open label file. (This can be normal only if you use MSCOCO): /content/coco/filtered/train/images/000000032965.txt \n",
            "Can't open label file. (This can be normal only if you use MSCOCO): /content/coco/filtered/train/images/000000172271.txt \n",
            "Can't open label file. (This can be normal only if you use MSCOCO): /content/coco/filtered/train/images/000000041199.txt \n",
            "Can't open label file. (This can be normal only if you use MSCOCO): /content/coco/filtered/train/images/000000360566.txt \n",
            "Can't open label file. (This can be normal only if you use MSCOCO): /content/coco/filtered/train/images/000000532668.txt \n",
            "Can't open label file. (This can be normal only if you use MSCOCO): /content/coco/filtered/train/images/000000335955.txt \n",
            "Can't open label file. (This can be normal only if you use MSCOCO): /content/coco/filtered/train/images/000000344388.txt \n",
            "Can't open label file. (This can be normal only if you use MSCOCO): /content/coco/filtered/train/images/000000516414.txt \n",
            "Can't open label file. (This can be normal only if you use MSCOCO): /content/coco/filtered/train/images/000000319517.txt \n",
            "Can't open label file. (This can be normal only if you use MSCOCO): /content/coco/filtered/train/images/000000319494.txt \n",
            "Can't open label file. (This can be normal only if you use MSCOCO): /content/coco/filtered/train/images/000000385378.txt \n",
            "Can't open label file. (This can be normal only if you use MSCOCO): /content/coco/filtered/train/images/000000049402.txt \n",
            "Can't open label file. (This can be normal only if you use MSCOCO): /content/coco/filtered/train/images/000000491554.txt \n",
            "Can't open label file. (This can be normal only if you use MSCOCO): /content/coco/filtered/train/images/000000098345.txt \n",
            "Can't open label file. (This can be normal only if you use MSCOCO): /content/coco/filtered/train/images/000000155763.txt \n",
            "Can't open label file. (This can be normal only if you use MSCOCO): /content/coco/filtered/train/images/000000532668.txt \n",
            "Can't open label file. (This can be normal only if you use MSCOCO): /content/coco/filtered/train/images/000000508065.txt \n",
            "Can't open label file. (This can be normal only if you use MSCOCO): /content/coco/filtered/train/images/000000418034.txt \n",
            "Can't open label file. (This can be normal only if you use MSCOCO): /content/coco/filtered/train/images/000000049165.txt \n",
            "Can't open label file. (This can be normal only if you use MSCOCO): /content/coco/filtered/train/images/000000360566.txt \n",
            "Can't open label file. (This can be normal only if you use MSCOCO): /content/coco/filtered/train/images/000000032965.txt \n",
            "Can't open label file. (This can be normal only if you use MSCOCO): /content/coco/filtered/train/images/000000491597.txt \n",
            "Can't open label file. (This can be normal only if you use MSCOCO): /content/coco/filtered/train/images/000000073898.txt \n",
            "Can't open label file. (This can be normal only if you use MSCOCO): /content/coco/filtered/train/images/000000286961.txt \n",
            "Can't open label file. (This can be normal only if you use MSCOCO): /content/coco/filtered/train/images/000000508208.txt \n",
            "Can't open label file. (This can be normal only if you use MSCOCO): /content/coco/filtered/train/images/000000491857.txt \n",
            "Can't open label file. (This can be normal only if you use MSCOCO): /content/coco/filtered/train/images/000000065894.txt \n",
            "Can't open label file. (This can be normal only if you use MSCOCO): /content/coco/filtered/train/images/000000032965.txt \n",
            "Can't open label file. (This can be normal only if you use MSCOCO): /content/coco/filtered/train/images/000000253975.txt \n",
            "Can't open label file. (This can be normal only if you use MSCOCO): /content/coco/filtered/train/images/000000032965.txt \n",
            "Can't open label file. (This can be normal only if you use MSCOCO): /content/coco/filtered/train/images/000000114732.txt \n",
            "Can't open label file. (This can be normal only if you use MSCOCO): /content/coco/filtered/train/images/000000098636.txt \n",
            "Can't open label file. (This can be normal only if you use MSCOCO): /content/coco/filtered/train/images/000000491597.txt \n",
            "Can't open label file. (This can be normal only if you use MSCOCO): /content/coco/filtered/train/images/000000286899.txt \n",
            "Can't open label file. (This can be normal only if you use MSCOCO): /content/coco/filtered/train/images/000000114732.txt \n",
            "Can't open label file. (This can be normal only if you use MSCOCO): /content/coco/filtered/train/images/000000344388.txt \n",
            "If you want to train from the beginning, then use flag in the end of training command: -clear \n"
          ]
        }
      ]
    },
    {
      "cell_type": "code",
      "source": [
        "!tree /content/coco/filtered/train -L 2"
      ],
      "metadata": {
        "id": "Zn_gjiEA0FIN",
        "outputId": "6a27cb37-021b-4833-875f-366c7615dd36",
        "colab": {
          "base_uri": "https://localhost:8080/"
        }
      },
      "execution_count": null,
      "outputs": [
        {
          "output_type": "stream",
          "name": "stdout",
          "text": [
            "\u001b[01;34m/content/coco/filtered/train\u001b[0m\n",
            "├── \u001b[01;34mimages\u001b[0m\n",
            "│   ├── \u001b[01;35m000000016773.jpg\u001b[0m\n",
            "│   ├── \u001b[01;35m000000024609.jpg\u001b[0m\n",
            "│   ├── \u001b[01;35m000000032818.jpg\u001b[0m\n",
            "│   ├── \u001b[01;35m000000032965.jpg\u001b[0m\n",
            "│   ├── \u001b[01;35m000000041199.jpg\u001b[0m\n",
            "│   ├── \u001b[01;35m000000041247.jpg\u001b[0m\n",
            "│   ├── \u001b[01;35m000000049165.jpg\u001b[0m\n",
            "│   ├── \u001b[01;35m000000049175.jpg\u001b[0m\n",
            "│   ├── \u001b[01;35m000000049402.jpg\u001b[0m\n",
            "│   ├── \u001b[01;35m000000065755.jpg\u001b[0m\n",
            "│   ├── \u001b[01;35m000000065894.jpg\u001b[0m\n",
            "│   ├── \u001b[01;35m000000073753.jpg\u001b[0m\n",
            "│   ├── \u001b[01;35m000000073826.jpg\u001b[0m\n",
            "│   ├── \u001b[01;35m000000073898.jpg\u001b[0m\n",
            "│   ├── \u001b[01;35m000000073976.jpg\u001b[0m\n",
            "│   ├── \u001b[01;35m000000090359.jpg\u001b[0m\n",
            "│   ├── \u001b[01;35m000000090476.jpg\u001b[0m\n",
            "│   ├── \u001b[01;35m000000098345.jpg\u001b[0m\n",
            "│   ├── \u001b[01;35m000000098601.jpg\u001b[0m\n",
            "│   ├── \u001b[01;35m000000098636.jpg\u001b[0m\n",
            "│   ├── \u001b[01;35m000000106755.jpg\u001b[0m\n",
            "│   ├── \u001b[01;35m000000106865.jpg\u001b[0m\n",
            "│   ├── \u001b[01;35m000000114732.jpg\u001b[0m\n",
            "│   ├── \u001b[01;35m000000114879.jpg\u001b[0m\n",
            "│   ├── \u001b[01;35m000000139440.jpg\u001b[0m\n",
            "│   ├── \u001b[01;35m000000155763.jpg\u001b[0m\n",
            "│   ├── \u001b[01;35m000000155885.jpg\u001b[0m\n",
            "│   ├── \u001b[01;35m000000163929.jpg\u001b[0m\n",
            "│   ├── \u001b[01;35m000000172196.jpg\u001b[0m\n",
            "│   ├── \u001b[01;35m000000172271.jpg\u001b[0m\n",
            "│   ├── \u001b[01;35m000000172369.jpg\u001b[0m\n",
            "│   ├── \u001b[01;35m000000180354.jpg\u001b[0m\n",
            "│   ├── \u001b[01;35m000000196672.jpg\u001b[0m\n",
            "│   ├── \u001b[01;35m000000204805.jpg\u001b[0m\n",
            "│   ├── \u001b[01;35m000000205035.jpg\u001b[0m\n",
            "│   ├── \u001b[01;35m000000213357.jpg\u001b[0m\n",
            "│   ├── \u001b[01;35m000000213381.jpg\u001b[0m\n",
            "│   ├── \u001b[01;35m000000229522.jpg\u001b[0m\n",
            "│   ├── \u001b[01;35m000000237922.jpg\u001b[0m\n",
            "│   ├── \u001b[01;35m000000253975.jpg\u001b[0m\n",
            "│   ├── \u001b[01;35m000000254218.jpg\u001b[0m\n",
            "│   ├── \u001b[01;35m000000262171.jpg\u001b[0m\n",
            "│   ├── \u001b[01;35m000000262425.jpg\u001b[0m\n",
            "│   ├── \u001b[01;35m000000262509.jpg\u001b[0m\n",
            "│   ├── \u001b[01;35m000000270683.jpg\u001b[0m\n",
            "│   ├── \u001b[01;35m000000278628.jpg\u001b[0m\n",
            "│   ├── \u001b[01;35m000000278662.jpg\u001b[0m\n",
            "│   ├── \u001b[01;35m000000278867.jpg\u001b[0m\n",
            "│   ├── \u001b[01;35m000000286899.jpg\u001b[0m\n",
            "│   ├── \u001b[01;35m000000286961.jpg\u001b[0m\n",
            "│   ├── \u001b[01;35m000000294933.jpg\u001b[0m\n",
            "│   ├── \u001b[01;35m000000311327.jpg\u001b[0m\n",
            "│   ├── \u001b[01;35m000000319494.jpg\u001b[0m\n",
            "│   ├── \u001b[01;35m000000319517.jpg\u001b[0m\n",
            "│   ├── \u001b[01;35m000000319830.jpg\u001b[0m\n",
            "│   ├── \u001b[01;35m000000327805.jpg\u001b[0m\n",
            "│   ├── \u001b[01;35m000000328039.jpg\u001b[0m\n",
            "│   ├── \u001b[01;35m000000335955.jpg\u001b[0m\n",
            "│   ├── \u001b[01;35m000000344388.jpg\u001b[0m\n",
            "│   ├── \u001b[01;35m000000360566.jpg\u001b[0m\n",
            "│   ├── \u001b[01;35m000000360767.jpg\u001b[0m\n",
            "│   ├── \u001b[01;35m000000368656.jpg\u001b[0m\n",
            "│   ├── \u001b[01;35m000000377080.jpg\u001b[0m\n",
            "│   ├── \u001b[01;35m000000385378.jpg\u001b[0m\n",
            "│   ├── \u001b[01;35m000000393438.jpg\u001b[0m\n",
            "│   ├── \u001b[01;35m000000418034.jpg\u001b[0m\n",
            "│   ├── \u001b[01;35m000000434192.jpg\u001b[0m\n",
            "│   ├── \u001b[01;35m000000442646.jpg\u001b[0m\n",
            "│   ├── \u001b[01;35m000000442732.jpg\u001b[0m\n",
            "│   ├── \u001b[01;35m000000450608.jpg\u001b[0m\n",
            "│   ├── \u001b[01;35m000000450620.jpg\u001b[0m\n",
            "│   ├── \u001b[01;35m000000450711.jpg\u001b[0m\n",
            "│   ├── \u001b[01;35m000000450724.jpg\u001b[0m\n",
            "│   ├── \u001b[01;35m000000450776.jpg\u001b[0m\n",
            "│   ├── \u001b[01;35m000000450832.jpg\u001b[0m\n",
            "│   ├── \u001b[01;35m000000458866.jpg\u001b[0m\n",
            "│   ├── \u001b[01;35m000000466987.jpg\u001b[0m\n",
            "│   ├── \u001b[01;35m000000467032.jpg\u001b[0m\n",
            "│   ├── \u001b[01;35m000000475370.jpg\u001b[0m\n",
            "│   ├── \u001b[01;35m000000483496.jpg\u001b[0m\n",
            "│   ├── \u001b[01;35m000000491554.jpg\u001b[0m\n",
            "│   ├── \u001b[01;35m000000491597.jpg\u001b[0m\n",
            "│   ├── \u001b[01;35m000000491733.jpg\u001b[0m\n",
            "│   ├── \u001b[01;35m000000491857.jpg\u001b[0m\n",
            "│   ├── \u001b[01;35m000000499985.jpg\u001b[0m\n",
            "│   ├── \u001b[01;35m000000507996.jpg\u001b[0m\n",
            "│   ├── \u001b[01;35m000000508065.jpg\u001b[0m\n",
            "│   ├── \u001b[01;35m000000508208.jpg\u001b[0m\n",
            "│   ├── \u001b[01;35m000000516289.jpg\u001b[0m\n",
            "│   ├── \u001b[01;35m000000516365.jpg\u001b[0m\n",
            "│   ├── \u001b[01;35m000000516414.jpg\u001b[0m\n",
            "│   ├── \u001b[01;35m000000524613.jpg\u001b[0m\n",
            "│   ├── \u001b[01;35m000000524646.jpg\u001b[0m\n",
            "│   ├── \u001b[01;35m000000532668.jpg\u001b[0m\n",
            "│   ├── \u001b[01;35m000000549127.jpg\u001b[0m\n",
            "│   ├── \u001b[01;35m000000557308.jpg\u001b[0m\n",
            "│   ├── \u001b[01;35m000000565399.jpg\u001b[0m\n",
            "│   ├── \u001b[01;35m000000573533.jpg\u001b[0m\n",
            "│   ├── \u001b[01;35m000000573759.jpg\u001b[0m\n",
            "│   └── \u001b[01;35m000000573762.jpg\u001b[0m\n",
            "└── \u001b[01;34mlabels\u001b[0m\n",
            "    ├── \u001b[00m000000016773.txt\u001b[0m\n",
            "    ├── \u001b[00m000000024609.txt\u001b[0m\n",
            "    ├── \u001b[00m000000032818.txt\u001b[0m\n",
            "    ├── \u001b[00m000000032965.txt\u001b[0m\n",
            "    ├── \u001b[00m000000041199.txt\u001b[0m\n",
            "    ├── \u001b[00m000000041247.txt\u001b[0m\n",
            "    ├── \u001b[00m000000049165.txt\u001b[0m\n",
            "    ├── \u001b[00m000000049175.txt\u001b[0m\n",
            "    ├── \u001b[00m000000049402.txt\u001b[0m\n",
            "    ├── \u001b[00m000000065755.txt\u001b[0m\n",
            "    ├── \u001b[00m000000065894.txt\u001b[0m\n",
            "    ├── \u001b[00m000000073753.txt\u001b[0m\n",
            "    ├── \u001b[00m000000073826.txt\u001b[0m\n",
            "    ├── \u001b[00m000000073898.txt\u001b[0m\n",
            "    ├── \u001b[00m000000073976.txt\u001b[0m\n",
            "    ├── \u001b[00m000000090359.txt\u001b[0m\n",
            "    ├── \u001b[00m000000090476.txt\u001b[0m\n",
            "    ├── \u001b[00m000000098345.txt\u001b[0m\n",
            "    ├── \u001b[00m000000098601.txt\u001b[0m\n",
            "    ├── \u001b[00m000000098636.txt\u001b[0m\n",
            "    ├── \u001b[00m000000106755.txt\u001b[0m\n",
            "    ├── \u001b[00m000000106865.txt\u001b[0m\n",
            "    ├── \u001b[00m000000114732.txt\u001b[0m\n",
            "    ├── \u001b[00m000000114879.txt\u001b[0m\n",
            "    ├── \u001b[00m000000139440.txt\u001b[0m\n",
            "    ├── \u001b[00m000000155763.txt\u001b[0m\n",
            "    ├── \u001b[00m000000155885.txt\u001b[0m\n",
            "    ├── \u001b[00m000000163929.txt\u001b[0m\n",
            "    ├── \u001b[00m000000172196.txt\u001b[0m\n",
            "    ├── \u001b[00m000000172271.txt\u001b[0m\n",
            "    ├── \u001b[00m000000172369.txt\u001b[0m\n",
            "    ├── \u001b[00m000000180354.txt\u001b[0m\n",
            "    ├── \u001b[00m000000196672.txt\u001b[0m\n",
            "    ├── \u001b[00m000000204805.txt\u001b[0m\n",
            "    ├── \u001b[00m000000205035.txt\u001b[0m\n",
            "    ├── \u001b[00m000000213357.txt\u001b[0m\n",
            "    ├── \u001b[00m000000213381.txt\u001b[0m\n",
            "    ├── \u001b[00m000000229522.txt\u001b[0m\n",
            "    ├── \u001b[00m000000237922.txt\u001b[0m\n",
            "    ├── \u001b[00m000000253975.txt\u001b[0m\n",
            "    ├── \u001b[00m000000254218.txt\u001b[0m\n",
            "    ├── \u001b[00m000000262171.txt\u001b[0m\n",
            "    ├── \u001b[00m000000262425.txt\u001b[0m\n",
            "    ├── \u001b[00m000000262509.txt\u001b[0m\n",
            "    ├── \u001b[00m000000270683.txt\u001b[0m\n",
            "    ├── \u001b[00m000000278628.txt\u001b[0m\n",
            "    ├── \u001b[00m000000278662.txt\u001b[0m\n",
            "    ├── \u001b[00m000000278867.txt\u001b[0m\n",
            "    ├── \u001b[00m000000286899.txt\u001b[0m\n",
            "    ├── \u001b[00m000000286961.txt\u001b[0m\n",
            "    ├── \u001b[00m000000294933.txt\u001b[0m\n",
            "    ├── \u001b[00m000000311327.txt\u001b[0m\n",
            "    ├── \u001b[00m000000319494.txt\u001b[0m\n",
            "    ├── \u001b[00m000000319517.txt\u001b[0m\n",
            "    ├── \u001b[00m000000319830.txt\u001b[0m\n",
            "    ├── \u001b[00m000000327805.txt\u001b[0m\n",
            "    ├── \u001b[00m000000328039.txt\u001b[0m\n",
            "    ├── \u001b[00m000000335955.txt\u001b[0m\n",
            "    ├── \u001b[00m000000344388.txt\u001b[0m\n",
            "    ├── \u001b[00m000000360566.txt\u001b[0m\n",
            "    ├── \u001b[00m000000360767.txt\u001b[0m\n",
            "    ├── \u001b[00m000000368656.txt\u001b[0m\n",
            "    ├── \u001b[00m000000377080.txt\u001b[0m\n",
            "    ├── \u001b[00m000000385378.txt\u001b[0m\n",
            "    ├── \u001b[00m000000393438.txt\u001b[0m\n",
            "    ├── \u001b[00m000000418034.txt\u001b[0m\n",
            "    ├── \u001b[00m000000434192.txt\u001b[0m\n",
            "    ├── \u001b[00m000000442646.txt\u001b[0m\n",
            "    ├── \u001b[00m000000442732.txt\u001b[0m\n",
            "    ├── \u001b[00m000000450608.txt\u001b[0m\n",
            "    ├── \u001b[00m000000450620.txt\u001b[0m\n",
            "    ├── \u001b[00m000000450711.txt\u001b[0m\n",
            "    ├── \u001b[00m000000450724.txt\u001b[0m\n",
            "    ├── \u001b[00m000000450776.txt\u001b[0m\n",
            "    ├── \u001b[00m000000450832.txt\u001b[0m\n",
            "    ├── \u001b[00m000000458866.txt\u001b[0m\n",
            "    ├── \u001b[00m000000466987.txt\u001b[0m\n",
            "    ├── \u001b[00m000000467032.txt\u001b[0m\n",
            "    ├── \u001b[00m000000475370.txt\u001b[0m\n",
            "    ├── \u001b[00m000000483496.txt\u001b[0m\n",
            "    ├── \u001b[00m000000491554.txt\u001b[0m\n",
            "    ├── \u001b[00m000000491597.txt\u001b[0m\n",
            "    ├── \u001b[00m000000491733.txt\u001b[0m\n",
            "    ├── \u001b[00m000000491857.txt\u001b[0m\n",
            "    ├── \u001b[00m000000499985.txt\u001b[0m\n",
            "    ├── \u001b[00m000000507996.txt\u001b[0m\n",
            "    ├── \u001b[00m000000508065.txt\u001b[0m\n",
            "    ├── \u001b[00m000000508208.txt\u001b[0m\n",
            "    ├── \u001b[00m000000516289.txt\u001b[0m\n",
            "    ├── \u001b[00m000000516365.txt\u001b[0m\n",
            "    ├── \u001b[00m000000516414.txt\u001b[0m\n",
            "    ├── \u001b[00m000000524613.txt\u001b[0m\n",
            "    ├── \u001b[00m000000524646.txt\u001b[0m\n",
            "    ├── \u001b[00m000000532668.txt\u001b[0m\n",
            "    ├── \u001b[00m000000549127.txt\u001b[0m\n",
            "    ├── \u001b[00m000000557308.txt\u001b[0m\n",
            "    ├── \u001b[00m000000565399.txt\u001b[0m\n",
            "    ├── \u001b[00m000000573533.txt\u001b[0m\n",
            "    ├── \u001b[00m000000573759.txt\u001b[0m\n",
            "    └── \u001b[00m000000573762.txt\u001b[0m\n",
            "\n",
            "2 directories, 200 files\n"
          ]
        }
      ]
    }
  ]
}