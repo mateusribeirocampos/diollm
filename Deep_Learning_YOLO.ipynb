{
  "nbformat": 4,
  "nbformat_minor": 0,
  "metadata": {
    "colab": {
      "provenance": [],
      "gpuType": "T4",
      "authorship_tag": "ABX9TyPUblzWmyRWbipfsJK5wE4j",
      "include_colab_link": true
    },
    "kernelspec": {
      "name": "python3",
      "display_name": "Python 3"
    },
    "language_info": {
      "name": "python"
    },
    "accelerator": "GPU"
  },
  "cells": [
    {
      "cell_type": "markdown",
      "metadata": {
        "id": "view-in-github",
        "colab_type": "text"
      },
      "source": [
        "<a href=\"https://colab.research.google.com/github/mateusribeirocampos/diollm/blob/main/Deep_Learning_YOLO.ipynb\" target=\"_parent\"><img src=\"https://colab.research.google.com/assets/colab-badge.svg\" alt=\"Open In Colab\"/></a>"
      ]
    },
    {
      "cell_type": "code",
      "execution_count": 20,
      "metadata": {
        "colab": {
          "base_uri": "https://localhost:8080/"
        },
        "id": "wpBXztwWiSYB",
        "outputId": "89b7e2a7-731f-4f66-bae1-7e4ac7439d1a"
      },
      "outputs": [
        {
          "output_type": "stream",
          "name": "stdout",
          "text": [
            "Drive already mounted at /content/gdrive; to attempt to forcibly remount, call drive.mount(\"/content/gdrive\", force_remount=True).\n"
          ]
        }
      ],
      "source": [
        "# This cell imports the drive library and mounts your Google Drive as a VM local drive. You can access to your Drive files\n",
        "# using this path \"/content/gdrive/MyDrive/\"\n",
        "\n",
        "from google.colab import drive\n",
        "drive.mount('/content/gdrive')"
      ]
    },
    {
      "cell_type": "code",
      "source": [
        "# Not Necessary cell\n",
        "# List the content of your local computer folder\n",
        "!ls -la \"/content/gdrive/MyDrive/darknet\""
      ],
      "metadata": {
        "colab": {
          "base_uri": "https://localhost:8080/"
        },
        "id": "0940x8rlijoS",
        "outputId": "6e7ecd30-7685-4c76-c44c-fbc2a9a3cb5b"
      },
      "execution_count": 21,
      "outputs": [
        {
          "output_type": "stream",
          "name": "stdout",
          "text": [
            "total 8\n",
            "drwx------ 2 root root 4096 Feb 15 12:33 cuDNN\n",
            "drwx------ 2 root root 4096 Feb 15 12:33 .ipynb_checkpoints\n"
          ]
        }
      ]
    },
    {
      "cell_type": "code",
      "source": [
        "!sudo apt-get install tree"
      ],
      "metadata": {
        "colab": {
          "base_uri": "https://localhost:8080/"
        },
        "id": "JqEF9Ke4i2yl",
        "outputId": "6226f485-a6ee-4e8f-a1ec-2687247e4945"
      },
      "execution_count": 22,
      "outputs": [
        {
          "output_type": "stream",
          "name": "stdout",
          "text": [
            "Reading package lists... Done\n",
            "Building dependency tree... Done\n",
            "Reading state information... Done\n",
            "tree is already the newest version (2.0.2-1).\n",
            "0 upgraded, 0 newly installed, 0 to remove and 20 not upgraded.\n"
          ]
        }
      ]
    },
    {
      "cell_type": "code",
      "source": [
        "!tree /content/gdrive/MyDrive/darknet/"
      ],
      "metadata": {
        "colab": {
          "base_uri": "https://localhost:8080/"
        },
        "id": "1WkCq6Qwi-H2",
        "outputId": "785f1f24-0da2-4b90-88a7-88327be0e1fd"
      },
      "execution_count": 23,
      "outputs": [
        {
          "output_type": "stream",
          "name": "stdout",
          "text": [
            "\u001b[01;34m/content/gdrive/MyDrive/darknet/\u001b[0m\n",
            "└── \u001b[01;34mcuDNN\u001b[0m\n",
            "\n",
            "1 directory, 0 files\n"
          ]
        }
      ]
    },
    {
      "cell_type": "code",
      "source": [
        "!/usr/local/cuda/bin/nvcc --version"
      ],
      "metadata": {
        "colab": {
          "base_uri": "https://localhost:8080/"
        },
        "id": "YiE78YQmjZmv",
        "outputId": "8041b63b-ecb2-4f31-ea05-6ce7306e3dcc"
      },
      "execution_count": 24,
      "outputs": [
        {
          "output_type": "stream",
          "name": "stdout",
          "text": [
            "nvcc: NVIDIA (R) Cuda compiler driver\n",
            "Copyright (c) 2005-2024 NVIDIA Corporation\n",
            "Built on Thu_Jun__6_02:18:23_PDT_2024\n",
            "Cuda compilation tools, release 12.5, V12.5.82\n",
            "Build cuda_12.5.r12.5/compiler.34385749_0\n"
          ]
        }
      ]
    },
    {
      "cell_type": "code",
      "source": [
        "!nvcc --version"
      ],
      "metadata": {
        "colab": {
          "base_uri": "https://localhost:8080/"
        },
        "id": "YpQqnDecn31G",
        "outputId": "a97ea6fa-ba8c-4391-cd6b-764d22af1835"
      },
      "execution_count": 28,
      "outputs": [
        {
          "output_type": "stream",
          "name": "stdout",
          "text": [
            "nvcc: NVIDIA (R) Cuda compiler driver\n",
            "Copyright (c) 2005-2024 NVIDIA Corporation\n",
            "Built on Thu_Jun__6_02:18:23_PDT_2024\n",
            "Cuda compilation tools, release 12.5, V12.5.82\n",
            "Build cuda_12.5.r12.5/compiler.34385749_0\n"
          ]
        }
      ]
    },
    {
      "cell_type": "code",
      "source": [
        "!ldconfig -p | grep cudnn"
      ],
      "metadata": {
        "colab": {
          "base_uri": "https://localhost:8080/"
        },
        "id": "gzQ-BJq_pWve",
        "outputId": "74e1f4d9-3192-477a-a366-c80fc2eea439"
      },
      "execution_count": 34,
      "outputs": [
        {
          "output_type": "stream",
          "name": "stdout",
          "text": [
            "\tlibcudnn_ops.so.9 (libc6,x86-64) => /lib/x86_64-linux-gnu/libcudnn_ops.so.9\n",
            "\tlibcudnn_ops.so (libc6,x86-64) => /lib/x86_64-linux-gnu/libcudnn_ops.so\n",
            "\tlibcudnn_heuristic.so.9 (libc6,x86-64) => /lib/x86_64-linux-gnu/libcudnn_heuristic.so.9\n",
            "\tlibcudnn_heuristic.so (libc6,x86-64) => /lib/x86_64-linux-gnu/libcudnn_heuristic.so\n",
            "\tlibcudnn_graph.so.9 (libc6,x86-64) => /lib/x86_64-linux-gnu/libcudnn_graph.so.9\n",
            "\tlibcudnn_graph.so (libc6,x86-64) => /lib/x86_64-linux-gnu/libcudnn_graph.so\n",
            "\tlibcudnn_engines_runtime_compiled.so.9 (libc6,x86-64) => /lib/x86_64-linux-gnu/libcudnn_engines_runtime_compiled.so.9\n",
            "\tlibcudnn_engines_runtime_compiled.so (libc6,x86-64) => /lib/x86_64-linux-gnu/libcudnn_engines_runtime_compiled.so\n",
            "\tlibcudnn_engines_precompiled.so.9 (libc6,x86-64) => /lib/x86_64-linux-gnu/libcudnn_engines_precompiled.so.9\n",
            "\tlibcudnn_engines_precompiled.so (libc6,x86-64) => /lib/x86_64-linux-gnu/libcudnn_engines_precompiled.so\n",
            "\tlibcudnn_cnn.so.9 (libc6,x86-64) => /lib/x86_64-linux-gnu/libcudnn_cnn.so.9\n",
            "\tlibcudnn_cnn.so (libc6,x86-64) => /lib/x86_64-linux-gnu/libcudnn_cnn.so\n",
            "\tlibcudnn_adv.so.9 (libc6,x86-64) => /lib/x86_64-linux-gnu/libcudnn_adv.so.9\n",
            "\tlibcudnn_adv.so (libc6,x86-64) => /lib/x86_64-linux-gnu/libcudnn_adv.so\n",
            "\tlibcudnn.so.9 (libc6,x86-64) => /lib/x86_64-linux-gnu/libcudnn.so.9\n",
            "\tlibcudnn.so (libc6,x86-64) => /lib/x86_64-linux-gnu/libcudnn.so\n"
          ]
        }
      ]
    },
    {
      "cell_type": "code",
      "source": [
        "# We're unzipping the cuDNN files from your Drive folder directly to the VM CUDA folders\n",
        "!tar -xzvf gdrive/MyDrive/darknet/cuDNN/cudnn-linux-x86_64-8.9.7.29_cuda12-archive.tar.xz -C /usr/local/\n"
      ],
      "metadata": {
        "colab": {
          "base_uri": "https://localhost:8080/"
        },
        "id": "pi-GdmWRkO9L",
        "outputId": "74ca5111-b551-4b41-9d82-cb33e02008c0"
      },
      "execution_count": 33,
      "outputs": [
        {
          "output_type": "stream",
          "name": "stdout",
          "text": [
            "\n",
            "gzip: stdin: not in gzip format\n",
            "tar: Child returned status 1\n",
            "tar: Error is not recoverable: exiting now\n"
          ]
        }
      ]
    },
    {
      "cell_type": "code",
      "source": [
        "!chmod a+r /usr/local/cuda/include/cudnn*.h\n",
        "!chmod a+r /usr/local/cuda/lib64/libcudnn*\n",
        "\n",
        "# Now we check the version we already installed. Can comment this line on future runs\n",
        "!cat /usr/local/cuda/include/cudnn_version.h | grep CUDNN_MAJOR -A 2"
      ],
      "metadata": {
        "colab": {
          "base_uri": "https://localhost:8080/"
        },
        "id": "6Ufy4f5UpRJz",
        "outputId": "7fd8ab33-8e14-416e-b8c5-48178c6daebb"
      },
      "execution_count": 32,
      "outputs": [
        {
          "output_type": "stream",
          "name": "stdout",
          "text": [
            "chmod: cannot access '/usr/local/cuda/include/cudnn*.h': No such file or directory\n",
            "chmod: cannot access '/usr/local/cuda/lib64/libcudnn*': No such file or directory\n",
            "cat: /usr/local/cuda/include/cudnn_version.h: No such file or directory\n"
          ]
        }
      ]
    },
    {
      "cell_type": "code",
      "source": [
        "!ls -la gdrive/MyDrive/darknet/cuDNN/"
      ],
      "metadata": {
        "colab": {
          "base_uri": "https://localhost:8080/"
        },
        "id": "LwjzfhWimv2I",
        "outputId": "d9eafc3f-89c3-47a8-eeb0-b61a3c972b89"
      },
      "execution_count": 31,
      "outputs": [
        {
          "output_type": "stream",
          "name": "stdout",
          "text": [
            "total 844712\n",
            "-rw------- 1 root root 864984964 Feb 15 12:42 cudnn-linux-x86_64-8.9.7.29_cuda12-archive.tar.xz\n"
          ]
        }
      ]
    },
    {
      "cell_type": "code",
      "source": [
        "# Leave this code uncommented on the very first run of your notebook or if you ever need to recompile darknet again.\n",
        "# Comment this code on the future runs.\n",
        "!git clone https://github.com/kriyeng/darknet/\n",
        "%cd darknet\n",
        "\n",
        "# Check the folder\n",
        "!ls\n",
        "\n",
        "# I have a branch where I have done the changes commented above\n",
        "!git checkout feature/google-colab\n",
        "\n",
        "#Compile Darknet\n",
        "!make\n",
        "\n",
        "#Copies the Darknet compiled version to Google drive\n",
        "!cp ./darknet /content/gdrive/MyDrive/darknet/bin/darknet"
      ],
      "metadata": {
        "colab": {
          "base_uri": "https://localhost:8080/"
        },
        "id": "wFhxpbz6pfEN",
        "outputId": "29ce787a-6cc5-425f-d5e1-fb2cf9077ea6"
      },
      "execution_count": 35,
      "outputs": [
        {
          "output_type": "stream",
          "name": "stdout",
          "text": [
            "Cloning into 'darknet'...\n",
            "remote: Enumerating objects: 10068, done.\u001b[K\n",
            "remote: Total 10068 (delta 0), reused 0 (delta 0), pack-reused 10068 (from 1)\u001b[K\n",
            "Receiving objects: 100% (10068/10068), 10.14 MiB | 22.97 MiB/s, done.\n",
            "Resolving deltas: 100% (6715/6715), done.\n",
            "/content/darknet\n",
            "3rdparty      cfg\t\t      darknet.py\tinclude\t\t       README.md\n",
            "appveyor.yml  cmake\t\t      darknet_video.py\tjson_mjpeg_streams.sh  scripts\n",
            "build\t      CMakeLists.txt\t      data\t\tLICENSE\t\t       src\n",
            "build.ps1     CMakeSettings.json      image_yolov2.sh\tMakefile\t       video_v2.sh\n",
            "build.sh      DarknetConfig.cmake.in  image_yolov3.sh\tnet_cam_v3.sh\t       video_yolov3.sh\n",
            "Branch 'feature/google-colab' set up to track remote branch 'feature/google-colab' from 'origin'.\n",
            "Switched to a new branch 'feature/google-colab'\n",
            "mkdir -p obj\n",
            "mkdir -p backup\n",
            "mkdir -p results\n",
            "chmod +x *.sh\n",
            "g++ -std=c++11 -Iinclude/ -I3rdparty/stb/include -DOPENCV `pkg-config --cflags opencv` -DGPU -I/usr/local/cuda/include/ -DCUDNN -Wall -Wfatal-errors -Wno-unused-result -Wno-unknown-pragmas -fPIC -Ofast -DOPENCV -DGPU -DCUDNN -I/usr/local/cudnn/include -c ./src/image_opencv.cpp -o obj/image_opencv.o\n",
            "Package opencv was not found in the pkg-config search path.\n",
            "Perhaps you should add the directory containing `opencv.pc'\n",
            "to the PKG_CONFIG_PATH environment variable\n",
            "Package 'opencv', required by 'virtual:world', not found\n",
            "\u001b[01m\u001b[K./src/image_opencv.cpp:15:10:\u001b[m\u001b[K \u001b[01;31m\u001b[Kfatal error: \u001b[m\u001b[Kopencv2/core/version.hpp: No such file or directory\n",
            "   15 | #include \u001b[01;31m\u001b[K<opencv2/core/version.hpp>\u001b[m\u001b[K\n",
            "      |          \u001b[01;31m\u001b[K^~~~~~~~~~~~~~~~~~~~~~~~~~\u001b[m\u001b[K\n",
            "compilation terminated.\n",
            "make: *** [Makefile:149: obj/image_opencv.o] Error 1\n",
            "cp: cannot stat './darknet': No such file or directory\n"
          ]
        }
      ]
    }
  ]
}