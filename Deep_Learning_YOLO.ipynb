{
  "nbformat": 4,
  "nbformat_minor": 0,
  "metadata": {
    "colab": {
      "provenance": [],
      "gpuType": "T4",
      "authorship_tag": "ABX9TyP701b7ffAcQhSIU0IWSxt2",
      "include_colab_link": true
    },
    "kernelspec": {
      "name": "python3",
      "display_name": "Python 3"
    },
    "language_info": {
      "name": "python"
    },
    "accelerator": "GPU"
  },
  "cells": [
    {
      "cell_type": "markdown",
      "metadata": {
        "id": "view-in-github",
        "colab_type": "text"
      },
      "source": [
        "<a href=\"https://colab.research.google.com/github/mateusribeirocampos/diollm/blob/main/Deep_Learning_YOLO.ipynb\" target=\"_parent\"><img src=\"https://colab.research.google.com/assets/colab-badge.svg\" alt=\"Open In Colab\"/></a>"
      ]
    },
    {
      "cell_type": "code",
      "execution_count": 20,
      "metadata": {
        "colab": {
          "base_uri": "https://localhost:8080/"
        },
        "id": "wpBXztwWiSYB",
        "outputId": "89b7e2a7-731f-4f66-bae1-7e4ac7439d1a"
      },
      "outputs": [
        {
          "output_type": "stream",
          "name": "stdout",
          "text": [
            "Drive already mounted at /content/gdrive; to attempt to forcibly remount, call drive.mount(\"/content/gdrive\", force_remount=True).\n"
          ]
        }
      ],
      "source": [
        "# This cell imports the drive library and mounts your Google Drive as a VM local drive. You can access to your Drive files\n",
        "# using this path \"/content/gdrive/MyDrive/\"\n",
        "\n",
        "from google.colab import drive\n",
        "drive.mount('/content/gdrive')"
      ]
    },
    {
      "cell_type": "code",
      "source": [
        "# Not Necessary cell\n",
        "# List the content of your local computer folder\n",
        "!ls -la \"/content/gdrive/MyDrive/darknet\""
      ],
      "metadata": {
        "colab": {
          "base_uri": "https://localhost:8080/"
        },
        "id": "0940x8rlijoS",
        "outputId": "6e7ecd30-7685-4c76-c44c-fbc2a9a3cb5b"
      },
      "execution_count": 21,
      "outputs": [
        {
          "output_type": "stream",
          "name": "stdout",
          "text": [
            "total 8\n",
            "drwx------ 2 root root 4096 Feb 15 12:33 cuDNN\n",
            "drwx------ 2 root root 4096 Feb 15 12:33 .ipynb_checkpoints\n"
          ]
        }
      ]
    },
    {
      "cell_type": "code",
      "source": [
        "!sudo apt-get install tree"
      ],
      "metadata": {
        "colab": {
          "base_uri": "https://localhost:8080/"
        },
        "id": "JqEF9Ke4i2yl",
        "outputId": "6226f485-a6ee-4e8f-a1ec-2687247e4945"
      },
      "execution_count": 22,
      "outputs": [
        {
          "output_type": "stream",
          "name": "stdout",
          "text": [
            "Reading package lists... Done\n",
            "Building dependency tree... Done\n",
            "Reading state information... Done\n",
            "tree is already the newest version (2.0.2-1).\n",
            "0 upgraded, 0 newly installed, 0 to remove and 20 not upgraded.\n"
          ]
        }
      ]
    },
    {
      "cell_type": "code",
      "source": [
        "!tree /content/gdrive/MyDrive/darknet/"
      ],
      "metadata": {
        "colab": {
          "base_uri": "https://localhost:8080/"
        },
        "id": "1WkCq6Qwi-H2",
        "outputId": "785f1f24-0da2-4b90-88a7-88327be0e1fd"
      },
      "execution_count": 23,
      "outputs": [
        {
          "output_type": "stream",
          "name": "stdout",
          "text": [
            "\u001b[01;34m/content/gdrive/MyDrive/darknet/\u001b[0m\n",
            "└── \u001b[01;34mcuDNN\u001b[0m\n",
            "\n",
            "1 directory, 0 files\n"
          ]
        }
      ]
    },
    {
      "cell_type": "code",
      "source": [
        "!/usr/local/cuda/bin/nvcc --version"
      ],
      "metadata": {
        "colab": {
          "base_uri": "https://localhost:8080/"
        },
        "id": "YiE78YQmjZmv",
        "outputId": "8041b63b-ecb2-4f31-ea05-6ce7306e3dcc"
      },
      "execution_count": 24,
      "outputs": [
        {
          "output_type": "stream",
          "name": "stdout",
          "text": [
            "nvcc: NVIDIA (R) Cuda compiler driver\n",
            "Copyright (c) 2005-2024 NVIDIA Corporation\n",
            "Built on Thu_Jun__6_02:18:23_PDT_2024\n",
            "Cuda compilation tools, release 12.5, V12.5.82\n",
            "Build cuda_12.5.r12.5/compiler.34385749_0\n"
          ]
        }
      ]
    },
    {
      "cell_type": "code",
      "source": [
        "!nvcc --version"
      ],
      "metadata": {
        "colab": {
          "base_uri": "https://localhost:8080/"
        },
        "id": "YpQqnDecn31G",
        "outputId": "a97ea6fa-ba8c-4391-cd6b-764d22af1835"
      },
      "execution_count": 28,
      "outputs": [
        {
          "output_type": "stream",
          "name": "stdout",
          "text": [
            "nvcc: NVIDIA (R) Cuda compiler driver\n",
            "Copyright (c) 2005-2024 NVIDIA Corporation\n",
            "Built on Thu_Jun__6_02:18:23_PDT_2024\n",
            "Cuda compilation tools, release 12.5, V12.5.82\n",
            "Build cuda_12.5.r12.5/compiler.34385749_0\n"
          ]
        }
      ]
    },
    {
      "cell_type": "code",
      "source": [
        "!ldconfig -p | grep cudnn"
      ],
      "metadata": {
        "colab": {
          "base_uri": "https://localhost:8080/"
        },
        "id": "gzQ-BJq_pWve",
        "outputId": "74e1f4d9-3192-477a-a366-c80fc2eea439"
      },
      "execution_count": 34,
      "outputs": [
        {
          "output_type": "stream",
          "name": "stdout",
          "text": [
            "\tlibcudnn_ops.so.9 (libc6,x86-64) => /lib/x86_64-linux-gnu/libcudnn_ops.so.9\n",
            "\tlibcudnn_ops.so (libc6,x86-64) => /lib/x86_64-linux-gnu/libcudnn_ops.so\n",
            "\tlibcudnn_heuristic.so.9 (libc6,x86-64) => /lib/x86_64-linux-gnu/libcudnn_heuristic.so.9\n",
            "\tlibcudnn_heuristic.so (libc6,x86-64) => /lib/x86_64-linux-gnu/libcudnn_heuristic.so\n",
            "\tlibcudnn_graph.so.9 (libc6,x86-64) => /lib/x86_64-linux-gnu/libcudnn_graph.so.9\n",
            "\tlibcudnn_graph.so (libc6,x86-64) => /lib/x86_64-linux-gnu/libcudnn_graph.so\n",
            "\tlibcudnn_engines_runtime_compiled.so.9 (libc6,x86-64) => /lib/x86_64-linux-gnu/libcudnn_engines_runtime_compiled.so.9\n",
            "\tlibcudnn_engines_runtime_compiled.so (libc6,x86-64) => /lib/x86_64-linux-gnu/libcudnn_engines_runtime_compiled.so\n",
            "\tlibcudnn_engines_precompiled.so.9 (libc6,x86-64) => /lib/x86_64-linux-gnu/libcudnn_engines_precompiled.so.9\n",
            "\tlibcudnn_engines_precompiled.so (libc6,x86-64) => /lib/x86_64-linux-gnu/libcudnn_engines_precompiled.so\n",
            "\tlibcudnn_cnn.so.9 (libc6,x86-64) => /lib/x86_64-linux-gnu/libcudnn_cnn.so.9\n",
            "\tlibcudnn_cnn.so (libc6,x86-64) => /lib/x86_64-linux-gnu/libcudnn_cnn.so\n",
            "\tlibcudnn_adv.so.9 (libc6,x86-64) => /lib/x86_64-linux-gnu/libcudnn_adv.so.9\n",
            "\tlibcudnn_adv.so (libc6,x86-64) => /lib/x86_64-linux-gnu/libcudnn_adv.so\n",
            "\tlibcudnn.so.9 (libc6,x86-64) => /lib/x86_64-linux-gnu/libcudnn.so.9\n",
            "\tlibcudnn.so (libc6,x86-64) => /lib/x86_64-linux-gnu/libcudnn.so\n"
          ]
        }
      ]
    },
    {
      "cell_type": "code",
      "source": [
        "# Corrigir o comando para arquivos .tar.xz\n",
        "!tar -xJvf /content/gdrive/MyDrive/darknet/cuDNN/cudnn-linux-x86_64-8.9.7.29_cuda12-archive.tar.xz -C /usr/local/\n",
        "\n",
        "# Verificar instalação\n",
        "!ls /usr/local/cuda/include/cudnn*.h\n",
        "!ls /usr/local/cuda/lib64/libcudnn*"
      ],
      "metadata": {
        "colab": {
          "base_uri": "https://localhost:8080/"
        },
        "id": "pi-GdmWRkO9L",
        "outputId": "89b4d86e-68ac-453c-bf64-dd8a0cd3e1b1"
      },
      "execution_count": 36,
      "outputs": [
        {
          "output_type": "stream",
          "name": "stdout",
          "text": [
            "cudnn-linux-x86_64-8.9.7.29_cuda12-archive/\n",
            "cudnn-linux-x86_64-8.9.7.29_cuda12-archive/lib/\n",
            "cudnn-linux-x86_64-8.9.7.29_cuda12-archive/lib/libcudnn_adv_infer_static.a\n",
            "cudnn-linux-x86_64-8.9.7.29_cuda12-archive/lib/libcudnn_adv_infer_static_v8.a\n",
            "cudnn-linux-x86_64-8.9.7.29_cuda12-archive/lib/libcudnn_adv_train_static.a\n",
            "cudnn-linux-x86_64-8.9.7.29_cuda12-archive/lib/libcudnn_adv_train_static_v8.a\n",
            "cudnn-linux-x86_64-8.9.7.29_cuda12-archive/lib/libcudnn_cnn_infer_static.a\n",
            "cudnn-linux-x86_64-8.9.7.29_cuda12-archive/lib/libcudnn_cnn_infer_static_v8.a\n",
            "cudnn-linux-x86_64-8.9.7.29_cuda12-archive/lib/libcudnn_cnn_train_static.a\n",
            "cudnn-linux-x86_64-8.9.7.29_cuda12-archive/lib/libcudnn_cnn_train_static_v8.a\n",
            "cudnn-linux-x86_64-8.9.7.29_cuda12-archive/lib/libcudnn_ops_infer_static.a\n",
            "cudnn-linux-x86_64-8.9.7.29_cuda12-archive/lib/libcudnn_ops_infer_static_v8.a\n",
            "cudnn-linux-x86_64-8.9.7.29_cuda12-archive/lib/libcudnn_ops_train_static.a\n",
            "cudnn-linux-x86_64-8.9.7.29_cuda12-archive/lib/libcudnn_ops_train_static_v8.a\n",
            "cudnn-linux-x86_64-8.9.7.29_cuda12-archive/lib/libcudnn.so.8\n",
            "cudnn-linux-x86_64-8.9.7.29_cuda12-archive/lib/libcudnn.so.8.9.7\n",
            "cudnn-linux-x86_64-8.9.7.29_cuda12-archive/lib/libcudnn.so\n",
            "cudnn-linux-x86_64-8.9.7.29_cuda12-archive/lib/libcudnn_adv_infer.so.8.9.7\n",
            "cudnn-linux-x86_64-8.9.7.29_cuda12-archive/lib/libcudnn_adv_infer.so\n",
            "cudnn-linux-x86_64-8.9.7.29_cuda12-archive/lib/libcudnn_adv_infer.so.8\n",
            "cudnn-linux-x86_64-8.9.7.29_cuda12-archive/lib/libcudnn_adv_train.so\n",
            "cudnn-linux-x86_64-8.9.7.29_cuda12-archive/lib/libcudnn_adv_train.so.8\n",
            "cudnn-linux-x86_64-8.9.7.29_cuda12-archive/lib/libcudnn_adv_train.so.8.9.7\n",
            "cudnn-linux-x86_64-8.9.7.29_cuda12-archive/lib/libcudnn_cnn_infer.so.8.9.7\n",
            "cudnn-linux-x86_64-8.9.7.29_cuda12-archive/lib/libcudnn_cnn_infer.so\n",
            "cudnn-linux-x86_64-8.9.7.29_cuda12-archive/lib/libcudnn_cnn_infer.so.8\n",
            "cudnn-linux-x86_64-8.9.7.29_cuda12-archive/lib/libcudnn_cnn_train.so\n",
            "cudnn-linux-x86_64-8.9.7.29_cuda12-archive/lib/libcudnn_cnn_train.so.8.9.7\n",
            "cudnn-linux-x86_64-8.9.7.29_cuda12-archive/lib/libcudnn_cnn_train.so.8\n",
            "cudnn-linux-x86_64-8.9.7.29_cuda12-archive/lib/libcudnn_ops_infer.so.8.9.7\n",
            "cudnn-linux-x86_64-8.9.7.29_cuda12-archive/lib/libcudnn_ops_infer.so\n",
            "cudnn-linux-x86_64-8.9.7.29_cuda12-archive/lib/libcudnn_ops_infer.so.8\n",
            "cudnn-linux-x86_64-8.9.7.29_cuda12-archive/lib/libcudnn_ops_train.so.8.9.7\n",
            "cudnn-linux-x86_64-8.9.7.29_cuda12-archive/lib/libcudnn_ops_train.so\n",
            "cudnn-linux-x86_64-8.9.7.29_cuda12-archive/lib/libcudnn_ops_train.so.8\n",
            "cudnn-linux-x86_64-8.9.7.29_cuda12-archive/include/\n",
            "cudnn-linux-x86_64-8.9.7.29_cuda12-archive/include/cudnn_v8.h\n",
            "cudnn-linux-x86_64-8.9.7.29_cuda12-archive/include/cudnn_adv_infer_v8.h\n",
            "cudnn-linux-x86_64-8.9.7.29_cuda12-archive/include/cudnn_adv_train_v8.h\n",
            "cudnn-linux-x86_64-8.9.7.29_cuda12-archive/include/cudnn_backend_v8.h\n",
            "cudnn-linux-x86_64-8.9.7.29_cuda12-archive/include/cudnn_cnn_infer_v8.h\n",
            "cudnn-linux-x86_64-8.9.7.29_cuda12-archive/include/cudnn_cnn_train_v8.h\n",
            "cudnn-linux-x86_64-8.9.7.29_cuda12-archive/include/cudnn_ops_infer_v8.h\n",
            "cudnn-linux-x86_64-8.9.7.29_cuda12-archive/include/cudnn_ops_train_v8.h\n",
            "cudnn-linux-x86_64-8.9.7.29_cuda12-archive/include/cudnn_version_v8.h\n",
            "cudnn-linux-x86_64-8.9.7.29_cuda12-archive/include/cudnn.h\n",
            "cudnn-linux-x86_64-8.9.7.29_cuda12-archive/include/cudnn_adv_infer.h\n",
            "cudnn-linux-x86_64-8.9.7.29_cuda12-archive/include/cudnn_adv_train.h\n",
            "cudnn-linux-x86_64-8.9.7.29_cuda12-archive/include/cudnn_backend.h\n",
            "cudnn-linux-x86_64-8.9.7.29_cuda12-archive/include/cudnn_cnn_infer.h\n",
            "cudnn-linux-x86_64-8.9.7.29_cuda12-archive/include/cudnn_cnn_train.h\n",
            "cudnn-linux-x86_64-8.9.7.29_cuda12-archive/include/cudnn_ops_infer.h\n",
            "cudnn-linux-x86_64-8.9.7.29_cuda12-archive/include/cudnn_ops_train.h\n",
            "cudnn-linux-x86_64-8.9.7.29_cuda12-archive/include/cudnn_version.h\n",
            "cudnn-linux-x86_64-8.9.7.29_cuda12-archive/LICENSE\n",
            "ls: cannot access '/usr/local/cuda/include/cudnn*.h': No such file or directory\n",
            "ls: cannot access '/usr/local/cuda/lib64/libcudnn*': No such file or directory\n"
          ]
        }
      ]
    },
    {
      "cell_type": "code",
      "source": [
        "!apt-get update\n",
        "!apt-get install -y libopencv-dev"
      ],
      "metadata": {
        "colab": {
          "base_uri": "https://localhost:8080/"
        },
        "id": "3NyEwngFsX7N",
        "outputId": "f7402a88-2dd2-4353-836e-343609f28d60"
      },
      "execution_count": 37,
      "outputs": [
        {
          "output_type": "stream",
          "name": "stdout",
          "text": [
            "\r0% [Working]\r            \rGet:1 https://cloud.r-project.org/bin/linux/ubuntu jammy-cran40/ InRelease [3,632 B]\n",
            "Get:2 https://developer.download.nvidia.com/compute/cuda/repos/ubuntu2204/x86_64  InRelease [1,581 B]\n",
            "Hit:3 http://archive.ubuntu.com/ubuntu jammy InRelease\n",
            "Get:4 https://r2u.stat.illinois.edu/ubuntu jammy InRelease [6,555 B]\n",
            "Get:5 http://security.ubuntu.com/ubuntu jammy-security InRelease [129 kB]\n",
            "Get:6 https://developer.download.nvidia.com/compute/cuda/repos/ubuntu2204/x86_64  Packages [1,315 kB]\n",
            "Get:7 http://archive.ubuntu.com/ubuntu jammy-updates InRelease [128 kB]\n",
            "Get:8 https://r2u.stat.illinois.edu/ubuntu jammy/main amd64 Packages [2,658 kB]\n",
            "Hit:9 https://ppa.launchpadcontent.net/deadsnakes/ppa/ubuntu jammy InRelease\n",
            "Hit:10 https://ppa.launchpadcontent.net/graphics-drivers/ppa/ubuntu jammy InRelease\n",
            "Hit:11 https://ppa.launchpadcontent.net/ubuntugis/ppa/ubuntu jammy InRelease\n",
            "Get:12 http://archive.ubuntu.com/ubuntu jammy-backports InRelease [127 kB]\n",
            "Get:13 https://r2u.stat.illinois.edu/ubuntu jammy/main all Packages [8,680 kB]\n",
            "Get:14 http://archive.ubuntu.com/ubuntu jammy-updates/universe amd64 Packages [1,526 kB]\n",
            "Get:15 http://archive.ubuntu.com/ubuntu jammy-updates/main amd64 Packages [2,911 kB]\n",
            "Fetched 17.5 MB in 3s (6,064 kB/s)\n",
            "Reading package lists... Done\n",
            "W: Skipping acquire of configured file 'main/source/Sources' as repository 'https://r2u.stat.illinois.edu/ubuntu jammy InRelease' does not seem to provide it (sources.list entry misspelt?)\n",
            "Reading package lists... Done\n",
            "Building dependency tree... Done\n",
            "Reading state information... Done\n",
            "libopencv-dev is already the newest version (4.5.4+dfsg-9ubuntu4+jammy0).\n",
            "0 upgraded, 0 newly installed, 0 to remove and 21 not upgraded.\n"
          ]
        }
      ]
    },
    {
      "cell_type": "code",
      "source": [
        "!pip install opencv-python"
      ],
      "metadata": {
        "colab": {
          "base_uri": "https://localhost:8080/"
        },
        "id": "aIOWbGiOsyuo",
        "outputId": "20e4aa4e-9db2-42b9-d02c-92f0cb45b569"
      },
      "execution_count": 39,
      "outputs": [
        {
          "output_type": "stream",
          "name": "stdout",
          "text": [
            "Requirement already satisfied: opencv-python in /usr/local/lib/python3.11/dist-packages (4.11.0.86)\n",
            "Requirement already satisfied: numpy>=1.21.2 in /usr/local/lib/python3.11/dist-packages (from opencv-python) (1.26.4)\n"
          ]
        }
      ]
    },
    {
      "cell_type": "code",
      "source": [
        "%cd /content/darknet\n",
        "\n",
        "# Editar o Makefile (se necessário)\n",
        "!sed -i 's/OPENCV=0/OPENCV=1/' Makefile\n",
        "!sed -i 's/GPU=0/GPU=1/' Makefile\n",
        "!sed -i 's/CUDNN=0/CUDNN=1/' Makefile\n",
        "\n",
        "# Compilar novamente\n",
        "!make clean\n",
        "!make"
      ],
      "metadata": {
        "colab": {
          "base_uri": "https://localhost:8080/"
        },
        "id": "xAzqAU00sgI6",
        "outputId": "3f341f1d-73c6-49e1-a67d-5222b0db9101"
      },
      "execution_count": 40,
      "outputs": [
        {
          "output_type": "stream",
          "name": "stdout",
          "text": [
            "/content/darknet\n",
            "rm -rf ./obj/image_opencv.o ./obj/http_stream.o ./obj/gemm.o ./obj/utils.o ./obj/dark_cuda.o ./obj/convolutional_layer.o ./obj/list.o ./obj/image.o ./obj/activations.o ./obj/im2col.o ./obj/col2im.o ./obj/blas.o ./obj/crop_layer.o ./obj/dropout_layer.o ./obj/maxpool_layer.o ./obj/softmax_layer.o ./obj/data.o ./obj/matrix.o ./obj/network.o ./obj/connected_layer.o ./obj/cost_layer.o ./obj/parser.o ./obj/option_list.o ./obj/darknet.o ./obj/detection_layer.o ./obj/captcha.o ./obj/route_layer.o ./obj/writing.o ./obj/box.o ./obj/nightmare.o ./obj/normalization_layer.o ./obj/avgpool_layer.o ./obj/coco.o ./obj/dice.o ./obj/yolo.o ./obj/detector.o ./obj/layer.o ./obj/compare.o ./obj/classifier.o ./obj/local_layer.o ./obj/swag.o ./obj/shortcut_layer.o ./obj/activation_layer.o ./obj/rnn_layer.o ./obj/gru_layer.o ./obj/rnn.o ./obj/rnn_vid.o ./obj/crnn_layer.o ./obj/demo.o ./obj/tag.o ./obj/cifar.o ./obj/go.o ./obj/batchnorm_layer.o ./obj/art.o ./obj/region_layer.o ./obj/reorg_layer.o ./obj/reorg_old_layer.o ./obj/super.o ./obj/voxel.o ./obj/tree.o ./obj/yolo_layer.o ./obj/upsample_layer.o ./obj/lstm_layer.o ./obj/convolutional_kernels.o ./obj/activation_kernels.o ./obj/im2col_kernels.o ./obj/col2im_kernels.o ./obj/blas_kernels.o ./obj/crop_layer_kernels.o ./obj/dropout_layer_kernels.o ./obj/maxpool_layer_kernels.o ./obj/network_kernels.o ./obj/avgpool_layer_kernels.o darknet  \n",
            "chmod +x *.sh\n",
            "g++ -std=c++11 -Iinclude/ -I3rdparty/stb/include -DOPENCV `pkg-config --cflags opencv` -DGPU -I/usr/local/cuda/include/ -DCUDNN -Wall -Wfatal-errors -Wno-unused-result -Wno-unknown-pragmas -fPIC -Ofast -DOPENCV -DGPU -DCUDNN -I/usr/local/cudnn/include -c ./src/image_opencv.cpp -o obj/image_opencv.o\n",
            "Package opencv was not found in the pkg-config search path.\n",
            "Perhaps you should add the directory containing `opencv.pc'\n",
            "to the PKG_CONFIG_PATH environment variable\n",
            "Package 'opencv', required by 'virtual:world', not found\n",
            "\u001b[01m\u001b[K./src/image_opencv.cpp:15:10:\u001b[m\u001b[K \u001b[01;31m\u001b[Kfatal error: \u001b[m\u001b[Kopencv2/core/version.hpp: No such file or directory\n",
            "   15 | #include \u001b[01;31m\u001b[K<opencv2/core/version.hpp>\u001b[m\u001b[K\n",
            "      |          \u001b[01;31m\u001b[K^~~~~~~~~~~~~~~~~~~~~~~~~~\u001b[m\u001b[K\n",
            "compilation terminated.\n",
            "make: *** [Makefile:149: obj/image_opencv.o] Error 1\n"
          ]
        }
      ]
    },
    {
      "cell_type": "code",
      "source": [
        "# Leave this code uncommented on the very first run of your notebook or if you ever need to recompile darknet again.\n",
        "# Comment this code on the future runs.\n",
        "!git clone https://github.com/kriyeng/darknet/\n",
        "%cd darknet"
      ],
      "metadata": {
        "colab": {
          "base_uri": "https://localhost:8080/"
        },
        "id": "wFhxpbz6pfEN",
        "outputId": "a4f1d51a-3617-43f0-c6eb-1e052fe3bbb0"
      },
      "execution_count": 45,
      "outputs": [
        {
          "output_type": "stream",
          "name": "stdout",
          "text": [
            "fatal: destination path 'darknet' already exists and is not an empty directory.\n",
            "/content/darknet/darknet\n"
          ]
        }
      ]
    },
    {
      "cell_type": "code",
      "source": [
        "# Check the folder\n",
        "!ls"
      ],
      "metadata": {
        "colab": {
          "base_uri": "https://localhost:8080/"
        },
        "id": "TNDfI2w3uS5t",
        "outputId": "0c317c4a-4821-4aee-c9c1-3bc0f1c68573"
      },
      "execution_count": 46,
      "outputs": [
        {
          "output_type": "stream",
          "name": "stdout",
          "text": [
            "3rdparty      cfg\t\t      darknet_video.py\t     LICENSE\t    scripts\n",
            "appveyor.yml  cmake\t\t      data\t\t     Makefile\t    src\n",
            "backup\t      CMakeLists.txt\t      image_yolov2.sh\t     net_cam_v3.sh  video_v2.sh\n",
            "build\t      CMakeSettings.json      image_yolov3.sh\t     obj\t    video_yolov3.sh\n",
            "build.ps1     DarknetConfig.cmake.in  include\t\t     README.md\n",
            "build.sh      darknet.py\t      json_mjpeg_streams.sh  results\n"
          ]
        }
      ]
    },
    {
      "cell_type": "code",
      "source": [
        "# I have a branch where I have done the changes commented above\n",
        "!git checkout feature/google-colab"
      ],
      "metadata": {
        "colab": {
          "base_uri": "https://localhost:8080/"
        },
        "id": "W5nXGgzLuaxD",
        "outputId": "55e32996-610b-4025-f885-c827bc7b2e5a"
      },
      "execution_count": 47,
      "outputs": [
        {
          "output_type": "stream",
          "name": "stdout",
          "text": [
            "Already on 'feature/google-colab'\n",
            "Your branch is up to date with 'origin/feature/google-colab'.\n"
          ]
        }
      ]
    },
    {
      "cell_type": "code",
      "source": [
        "#Compile Darknet\n",
        "!make"
      ],
      "metadata": {
        "colab": {
          "base_uri": "https://localhost:8080/"
        },
        "id": "iN7VUqk-udbI",
        "outputId": "816ccd34-efff-48d2-f1e3-226d5de8b1ba"
      },
      "execution_count": 48,
      "outputs": [
        {
          "output_type": "stream",
          "name": "stdout",
          "text": [
            "chmod +x *.sh\n",
            "g++ -std=c++11 -Iinclude/ -I3rdparty/stb/include -DOPENCV `pkg-config --cflags opencv` -DGPU -I/usr/local/cuda/include/ -DCUDNN -Wall -Wfatal-errors -Wno-unused-result -Wno-unknown-pragmas -fPIC -Ofast -DOPENCV -DGPU -DCUDNN -I/usr/local/cudnn/include -c ./src/image_opencv.cpp -o obj/image_opencv.o\n",
            "Package opencv was not found in the pkg-config search path.\n",
            "Perhaps you should add the directory containing `opencv.pc'\n",
            "to the PKG_CONFIG_PATH environment variable\n",
            "Package 'opencv', required by 'virtual:world', not found\n",
            "\u001b[01m\u001b[K./src/image_opencv.cpp:15:10:\u001b[m\u001b[K \u001b[01;31m\u001b[Kfatal error: \u001b[m\u001b[Kopencv2/core/version.hpp: No such file or directory\n",
            "   15 | #include \u001b[01;31m\u001b[K<opencv2/core/version.hpp>\u001b[m\u001b[K\n",
            "      |          \u001b[01;31m\u001b[K^~~~~~~~~~~~~~~~~~~~~~~~~~\u001b[m\u001b[K\n",
            "compilation terminated.\n",
            "make: *** [Makefile:149: obj/image_opencv.o] Error 1\n"
          ]
        }
      ]
    },
    {
      "cell_type": "code",
      "source": [
        "#Copies the Darknet compiled version to Google drive\n",
        "!cp ./darknet /content/gdrive/MyDrive/darknet/bin/darknet"
      ],
      "metadata": {
        "id": "VstFH8-wue22"
      },
      "execution_count": null,
      "outputs": []
    },
    {
      "cell_type": "code",
      "source": [
        "# Criar estrutura de diretórios\n",
        "!mkdir /content/darknet/data/coco\n",
        "!mkdir /content/darknet/data/coco/images\n",
        "!mkdir /content/darknet/data/coco/labels"
      ],
      "metadata": {
        "id": "nrxGihgPrsGI"
      },
      "execution_count": 42,
      "outputs": []
    },
    {
      "cell_type": "code",
      "source": [
        "# Baixar dataset\n",
        "%cd /content/darknet/data/coco\n",
        "!wget http://images.cocodataset.org/zips/val2017.zip\n",
        "!unzip val2017.zip -d images\n",
        "!wget http://images.cocodataset.org/annotations/annotations_trainval2017.zip\n",
        "!unzip annotations_trainval2017.zip"
      ],
      "metadata": {
        "id": "hbueLIrstrcI"
      },
      "execution_count": null,
      "outputs": []
    },
    {
      "cell_type": "code",
      "source": [
        "# Converter anotações para formato YOLO\n",
        "!pip install pycocotools\n",
        "%cd /content/darknet\n",
        "!python3 scripts/coco2yolo.py"
      ],
      "metadata": {
        "colab": {
          "base_uri": "https://localhost:8080/"
        },
        "id": "sbGiAiIBtvQs",
        "outputId": "8869abfe-9677-4b69-d1f7-15b217d2327c"
      },
      "execution_count": 44,
      "outputs": [
        {
          "output_type": "stream",
          "name": "stdout",
          "text": [
            "Requirement already satisfied: pycocotools in /usr/local/lib/python3.11/dist-packages (2.0.8)\n",
            "Requirement already satisfied: matplotlib>=2.1.0 in /usr/local/lib/python3.11/dist-packages (from pycocotools) (3.10.0)\n",
            "Requirement already satisfied: numpy in /usr/local/lib/python3.11/dist-packages (from pycocotools) (1.26.4)\n",
            "Requirement already satisfied: contourpy>=1.0.1 in /usr/local/lib/python3.11/dist-packages (from matplotlib>=2.1.0->pycocotools) (1.3.1)\n",
            "Requirement already satisfied: cycler>=0.10 in /usr/local/lib/python3.11/dist-packages (from matplotlib>=2.1.0->pycocotools) (0.12.1)\n",
            "Requirement already satisfied: fonttools>=4.22.0 in /usr/local/lib/python3.11/dist-packages (from matplotlib>=2.1.0->pycocotools) (4.56.0)\n",
            "Requirement already satisfied: kiwisolver>=1.3.1 in /usr/local/lib/python3.11/dist-packages (from matplotlib>=2.1.0->pycocotools) (1.4.8)\n",
            "Requirement already satisfied: packaging>=20.0 in /usr/local/lib/python3.11/dist-packages (from matplotlib>=2.1.0->pycocotools) (24.2)\n",
            "Requirement already satisfied: pillow>=8 in /usr/local/lib/python3.11/dist-packages (from matplotlib>=2.1.0->pycocotools) (11.1.0)\n",
            "Requirement already satisfied: pyparsing>=2.3.1 in /usr/local/lib/python3.11/dist-packages (from matplotlib>=2.1.0->pycocotools) (3.2.1)\n",
            "Requirement already satisfied: python-dateutil>=2.7 in /usr/local/lib/python3.11/dist-packages (from matplotlib>=2.1.0->pycocotools) (2.8.2)\n",
            "Requirement already satisfied: six>=1.5 in /usr/local/lib/python3.11/dist-packages (from python-dateutil>=2.7->matplotlib>=2.1.0->pycocotools) (1.17.0)\n",
            "/content/darknet\n",
            "python3: can't open file '/content/darknet/scripts/coco2yolo.py': [Errno 2] No such file or directory\n"
          ]
        }
      ]
    }
  ]
}