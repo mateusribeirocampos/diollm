{
  "nbformat": 4,
  "nbformat_minor": 0,
  "metadata": {
    "colab": {
      "provenance": [],
      "gpuType": "T4",
      "authorship_tag": "ABX9TyOJSy68XQqF2pw0NVOVKNCM",
      "include_colab_link": true
    },
    "kernelspec": {
      "name": "python3",
      "display_name": "Python 3"
    },
    "language_info": {
      "name": "python"
    },
    "accelerator": "GPU"
  },
  "cells": [
    {
      "cell_type": "markdown",
      "metadata": {
        "id": "view-in-github",
        "colab_type": "text"
      },
      "source": [
        "<a href=\"https://colab.research.google.com/github/mateusribeirocampos/diollm/blob/main/Deep_Learning_YOLO.ipynb\" target=\"_parent\"><img src=\"https://colab.research.google.com/assets/colab-badge.svg\" alt=\"Open In Colab\"/></a>"
      ]
    },
    {
      "cell_type": "code",
      "source": [
        "!nvidia-smi"
      ],
      "metadata": {
        "colab": {
          "base_uri": "https://localhost:8080/"
        },
        "id": "tcjjtvDfwSd6",
        "outputId": "46482b22-0bc1-4fc2-ac0b-6451710c86c2"
      },
      "execution_count": 68,
      "outputs": [
        {
          "output_type": "stream",
          "name": "stdout",
          "text": [
            "Sat Feb 15 13:38:41 2025       \n",
            "+-----------------------------------------------------------------------------------------+\n",
            "| NVIDIA-SMI 550.54.15              Driver Version: 550.54.15      CUDA Version: 12.4     |\n",
            "|-----------------------------------------+------------------------+----------------------+\n",
            "| GPU  Name                 Persistence-M | Bus-Id          Disp.A | Volatile Uncorr. ECC |\n",
            "| Fan  Temp   Perf          Pwr:Usage/Cap |           Memory-Usage | GPU-Util  Compute M. |\n",
            "|                                         |                        |               MIG M. |\n",
            "|=========================================+========================+======================|\n",
            "|   0  Tesla T4                       Off |   00000000:00:04.0 Off |                    0 |\n",
            "| N/A   34C    P8              9W /   70W |       0MiB /  15360MiB |      0%      Default |\n",
            "|                                         |                        |                  N/A |\n",
            "+-----------------------------------------+------------------------+----------------------+\n",
            "                                                                                         \n",
            "+-----------------------------------------------------------------------------------------+\n",
            "| Processes:                                                                              |\n",
            "|  GPU   GI   CI        PID   Type   Process name                              GPU Memory |\n",
            "|        ID   ID                                                               Usage      |\n",
            "|=========================================================================================|\n",
            "|  No running processes found                                                             |\n",
            "+-----------------------------------------------------------------------------------------+\n"
          ]
        }
      ]
    },
    {
      "cell_type": "code",
      "execution_count": null,
      "metadata": {
        "colab": {
          "base_uri": "https://localhost:8080/"
        },
        "id": "wpBXztwWiSYB",
        "outputId": "89b7e2a7-731f-4f66-bae1-7e4ac7439d1a"
      },
      "outputs": [
        {
          "output_type": "stream",
          "name": "stdout",
          "text": [
            "Drive already mounted at /content/gdrive; to attempt to forcibly remount, call drive.mount(\"/content/gdrive\", force_remount=True).\n"
          ]
        }
      ],
      "source": [
        "# This cell imports the drive library and mounts your Google Drive as a VM local drive. You can access to your Drive files\n",
        "# using this path \"/content/gdrive/MyDrive/\"\n",
        "\n",
        "from google.colab import drive\n",
        "drive.mount('/content/gdrive')"
      ]
    },
    {
      "cell_type": "code",
      "source": [
        "# Not Necessary cell\n",
        "# List the content of your local computer folder\n",
        "!ls -la \"/content/gdrive/MyDrive/darknet\""
      ],
      "metadata": {
        "colab": {
          "base_uri": "https://localhost:8080/"
        },
        "id": "0940x8rlijoS",
        "outputId": "6e7ecd30-7685-4c76-c44c-fbc2a9a3cb5b"
      },
      "execution_count": null,
      "outputs": [
        {
          "output_type": "stream",
          "name": "stdout",
          "text": [
            "total 8\n",
            "drwx------ 2 root root 4096 Feb 15 12:33 cuDNN\n",
            "drwx------ 2 root root 4096 Feb 15 12:33 .ipynb_checkpoints\n"
          ]
        }
      ]
    },
    {
      "cell_type": "code",
      "source": [
        "!sudo apt-get install tree"
      ],
      "metadata": {
        "colab": {
          "base_uri": "https://localhost:8080/"
        },
        "id": "JqEF9Ke4i2yl",
        "outputId": "6226f485-a6ee-4e8f-a1ec-2687247e4945"
      },
      "execution_count": null,
      "outputs": [
        {
          "output_type": "stream",
          "name": "stdout",
          "text": [
            "Reading package lists... Done\n",
            "Building dependency tree... Done\n",
            "Reading state information... Done\n",
            "tree is already the newest version (2.0.2-1).\n",
            "0 upgraded, 0 newly installed, 0 to remove and 20 not upgraded.\n"
          ]
        }
      ]
    },
    {
      "cell_type": "code",
      "source": [
        "!tree /content/gdrive/MyDrive/darknet/"
      ],
      "metadata": {
        "colab": {
          "base_uri": "https://localhost:8080/"
        },
        "id": "1WkCq6Qwi-H2",
        "outputId": "785f1f24-0da2-4b90-88a7-88327be0e1fd"
      },
      "execution_count": null,
      "outputs": [
        {
          "output_type": "stream",
          "name": "stdout",
          "text": [
            "\u001b[01;34m/content/gdrive/MyDrive/darknet/\u001b[0m\n",
            "└── \u001b[01;34mcuDNN\u001b[0m\n",
            "\n",
            "1 directory, 0 files\n"
          ]
        }
      ]
    },
    {
      "cell_type": "code",
      "source": [
        "!/usr/local/cuda/bin/nvcc --version"
      ],
      "metadata": {
        "colab": {
          "base_uri": "https://localhost:8080/"
        },
        "id": "YiE78YQmjZmv",
        "outputId": "8041b63b-ecb2-4f31-ea05-6ce7306e3dcc"
      },
      "execution_count": null,
      "outputs": [
        {
          "output_type": "stream",
          "name": "stdout",
          "text": [
            "nvcc: NVIDIA (R) Cuda compiler driver\n",
            "Copyright (c) 2005-2024 NVIDIA Corporation\n",
            "Built on Thu_Jun__6_02:18:23_PDT_2024\n",
            "Cuda compilation tools, release 12.5, V12.5.82\n",
            "Build cuda_12.5.r12.5/compiler.34385749_0\n"
          ]
        }
      ]
    },
    {
      "cell_type": "code",
      "source": [
        "!nvcc --version"
      ],
      "metadata": {
        "colab": {
          "base_uri": "https://localhost:8080/"
        },
        "id": "YpQqnDecn31G",
        "outputId": "a97ea6fa-ba8c-4391-cd6b-764d22af1835"
      },
      "execution_count": null,
      "outputs": [
        {
          "output_type": "stream",
          "name": "stdout",
          "text": [
            "nvcc: NVIDIA (R) Cuda compiler driver\n",
            "Copyright (c) 2005-2024 NVIDIA Corporation\n",
            "Built on Thu_Jun__6_02:18:23_PDT_2024\n",
            "Cuda compilation tools, release 12.5, V12.5.82\n",
            "Build cuda_12.5.r12.5/compiler.34385749_0\n"
          ]
        }
      ]
    },
    {
      "cell_type": "code",
      "source": [
        "!ldconfig -p | grep cudnn"
      ],
      "metadata": {
        "colab": {
          "base_uri": "https://localhost:8080/"
        },
        "id": "gzQ-BJq_pWve",
        "outputId": "74e1f4d9-3192-477a-a366-c80fc2eea439"
      },
      "execution_count": null,
      "outputs": [
        {
          "output_type": "stream",
          "name": "stdout",
          "text": [
            "\tlibcudnn_ops.so.9 (libc6,x86-64) => /lib/x86_64-linux-gnu/libcudnn_ops.so.9\n",
            "\tlibcudnn_ops.so (libc6,x86-64) => /lib/x86_64-linux-gnu/libcudnn_ops.so\n",
            "\tlibcudnn_heuristic.so.9 (libc6,x86-64) => /lib/x86_64-linux-gnu/libcudnn_heuristic.so.9\n",
            "\tlibcudnn_heuristic.so (libc6,x86-64) => /lib/x86_64-linux-gnu/libcudnn_heuristic.so\n",
            "\tlibcudnn_graph.so.9 (libc6,x86-64) => /lib/x86_64-linux-gnu/libcudnn_graph.so.9\n",
            "\tlibcudnn_graph.so (libc6,x86-64) => /lib/x86_64-linux-gnu/libcudnn_graph.so\n",
            "\tlibcudnn_engines_runtime_compiled.so.9 (libc6,x86-64) => /lib/x86_64-linux-gnu/libcudnn_engines_runtime_compiled.so.9\n",
            "\tlibcudnn_engines_runtime_compiled.so (libc6,x86-64) => /lib/x86_64-linux-gnu/libcudnn_engines_runtime_compiled.so\n",
            "\tlibcudnn_engines_precompiled.so.9 (libc6,x86-64) => /lib/x86_64-linux-gnu/libcudnn_engines_precompiled.so.9\n",
            "\tlibcudnn_engines_precompiled.so (libc6,x86-64) => /lib/x86_64-linux-gnu/libcudnn_engines_precompiled.so\n",
            "\tlibcudnn_cnn.so.9 (libc6,x86-64) => /lib/x86_64-linux-gnu/libcudnn_cnn.so.9\n",
            "\tlibcudnn_cnn.so (libc6,x86-64) => /lib/x86_64-linux-gnu/libcudnn_cnn.so\n",
            "\tlibcudnn_adv.so.9 (libc6,x86-64) => /lib/x86_64-linux-gnu/libcudnn_adv.so.9\n",
            "\tlibcudnn_adv.so (libc6,x86-64) => /lib/x86_64-linux-gnu/libcudnn_adv.so\n",
            "\tlibcudnn.so.9 (libc6,x86-64) => /lib/x86_64-linux-gnu/libcudnn.so.9\n",
            "\tlibcudnn.so (libc6,x86-64) => /lib/x86_64-linux-gnu/libcudnn.so\n"
          ]
        }
      ]
    },
    {
      "cell_type": "code",
      "source": [
        "# Corrigir o comando para arquivos .tar.xz\n",
        "!tar -xJvf /content/gdrive/MyDrive/darknet/cuDNN/cudnn-linux-x86_64-8.9.7.29_cuda12-archive.tar.xz -C /usr/local/\n",
        "\n",
        "# Verificar instalação\n",
        "!ls /usr/local/cuda/include/cudnn*.h\n",
        "!ls /usr/local/cuda/lib64/libcudnn*"
      ],
      "metadata": {
        "colab": {
          "base_uri": "https://localhost:8080/"
        },
        "id": "pi-GdmWRkO9L",
        "outputId": "89b4d86e-68ac-453c-bf64-dd8a0cd3e1b1"
      },
      "execution_count": null,
      "outputs": [
        {
          "output_type": "stream",
          "name": "stdout",
          "text": [
            "cudnn-linux-x86_64-8.9.7.29_cuda12-archive/\n",
            "cudnn-linux-x86_64-8.9.7.29_cuda12-archive/lib/\n",
            "cudnn-linux-x86_64-8.9.7.29_cuda12-archive/lib/libcudnn_adv_infer_static.a\n",
            "cudnn-linux-x86_64-8.9.7.29_cuda12-archive/lib/libcudnn_adv_infer_static_v8.a\n",
            "cudnn-linux-x86_64-8.9.7.29_cuda12-archive/lib/libcudnn_adv_train_static.a\n",
            "cudnn-linux-x86_64-8.9.7.29_cuda12-archive/lib/libcudnn_adv_train_static_v8.a\n",
            "cudnn-linux-x86_64-8.9.7.29_cuda12-archive/lib/libcudnn_cnn_infer_static.a\n",
            "cudnn-linux-x86_64-8.9.7.29_cuda12-archive/lib/libcudnn_cnn_infer_static_v8.a\n",
            "cudnn-linux-x86_64-8.9.7.29_cuda12-archive/lib/libcudnn_cnn_train_static.a\n",
            "cudnn-linux-x86_64-8.9.7.29_cuda12-archive/lib/libcudnn_cnn_train_static_v8.a\n",
            "cudnn-linux-x86_64-8.9.7.29_cuda12-archive/lib/libcudnn_ops_infer_static.a\n",
            "cudnn-linux-x86_64-8.9.7.29_cuda12-archive/lib/libcudnn_ops_infer_static_v8.a\n",
            "cudnn-linux-x86_64-8.9.7.29_cuda12-archive/lib/libcudnn_ops_train_static.a\n",
            "cudnn-linux-x86_64-8.9.7.29_cuda12-archive/lib/libcudnn_ops_train_static_v8.a\n",
            "cudnn-linux-x86_64-8.9.7.29_cuda12-archive/lib/libcudnn.so.8\n",
            "cudnn-linux-x86_64-8.9.7.29_cuda12-archive/lib/libcudnn.so.8.9.7\n",
            "cudnn-linux-x86_64-8.9.7.29_cuda12-archive/lib/libcudnn.so\n",
            "cudnn-linux-x86_64-8.9.7.29_cuda12-archive/lib/libcudnn_adv_infer.so.8.9.7\n",
            "cudnn-linux-x86_64-8.9.7.29_cuda12-archive/lib/libcudnn_adv_infer.so\n",
            "cudnn-linux-x86_64-8.9.7.29_cuda12-archive/lib/libcudnn_adv_infer.so.8\n",
            "cudnn-linux-x86_64-8.9.7.29_cuda12-archive/lib/libcudnn_adv_train.so\n",
            "cudnn-linux-x86_64-8.9.7.29_cuda12-archive/lib/libcudnn_adv_train.so.8\n",
            "cudnn-linux-x86_64-8.9.7.29_cuda12-archive/lib/libcudnn_adv_train.so.8.9.7\n",
            "cudnn-linux-x86_64-8.9.7.29_cuda12-archive/lib/libcudnn_cnn_infer.so.8.9.7\n",
            "cudnn-linux-x86_64-8.9.7.29_cuda12-archive/lib/libcudnn_cnn_infer.so\n",
            "cudnn-linux-x86_64-8.9.7.29_cuda12-archive/lib/libcudnn_cnn_infer.so.8\n",
            "cudnn-linux-x86_64-8.9.7.29_cuda12-archive/lib/libcudnn_cnn_train.so\n",
            "cudnn-linux-x86_64-8.9.7.29_cuda12-archive/lib/libcudnn_cnn_train.so.8.9.7\n",
            "cudnn-linux-x86_64-8.9.7.29_cuda12-archive/lib/libcudnn_cnn_train.so.8\n",
            "cudnn-linux-x86_64-8.9.7.29_cuda12-archive/lib/libcudnn_ops_infer.so.8.9.7\n",
            "cudnn-linux-x86_64-8.9.7.29_cuda12-archive/lib/libcudnn_ops_infer.so\n",
            "cudnn-linux-x86_64-8.9.7.29_cuda12-archive/lib/libcudnn_ops_infer.so.8\n",
            "cudnn-linux-x86_64-8.9.7.29_cuda12-archive/lib/libcudnn_ops_train.so.8.9.7\n",
            "cudnn-linux-x86_64-8.9.7.29_cuda12-archive/lib/libcudnn_ops_train.so\n",
            "cudnn-linux-x86_64-8.9.7.29_cuda12-archive/lib/libcudnn_ops_train.so.8\n",
            "cudnn-linux-x86_64-8.9.7.29_cuda12-archive/include/\n",
            "cudnn-linux-x86_64-8.9.7.29_cuda12-archive/include/cudnn_v8.h\n",
            "cudnn-linux-x86_64-8.9.7.29_cuda12-archive/include/cudnn_adv_infer_v8.h\n",
            "cudnn-linux-x86_64-8.9.7.29_cuda12-archive/include/cudnn_adv_train_v8.h\n",
            "cudnn-linux-x86_64-8.9.7.29_cuda12-archive/include/cudnn_backend_v8.h\n",
            "cudnn-linux-x86_64-8.9.7.29_cuda12-archive/include/cudnn_cnn_infer_v8.h\n",
            "cudnn-linux-x86_64-8.9.7.29_cuda12-archive/include/cudnn_cnn_train_v8.h\n",
            "cudnn-linux-x86_64-8.9.7.29_cuda12-archive/include/cudnn_ops_infer_v8.h\n",
            "cudnn-linux-x86_64-8.9.7.29_cuda12-archive/include/cudnn_ops_train_v8.h\n",
            "cudnn-linux-x86_64-8.9.7.29_cuda12-archive/include/cudnn_version_v8.h\n",
            "cudnn-linux-x86_64-8.9.7.29_cuda12-archive/include/cudnn.h\n",
            "cudnn-linux-x86_64-8.9.7.29_cuda12-archive/include/cudnn_adv_infer.h\n",
            "cudnn-linux-x86_64-8.9.7.29_cuda12-archive/include/cudnn_adv_train.h\n",
            "cudnn-linux-x86_64-8.9.7.29_cuda12-archive/include/cudnn_backend.h\n",
            "cudnn-linux-x86_64-8.9.7.29_cuda12-archive/include/cudnn_cnn_infer.h\n",
            "cudnn-linux-x86_64-8.9.7.29_cuda12-archive/include/cudnn_cnn_train.h\n",
            "cudnn-linux-x86_64-8.9.7.29_cuda12-archive/include/cudnn_ops_infer.h\n",
            "cudnn-linux-x86_64-8.9.7.29_cuda12-archive/include/cudnn_ops_train.h\n",
            "cudnn-linux-x86_64-8.9.7.29_cuda12-archive/include/cudnn_version.h\n",
            "cudnn-linux-x86_64-8.9.7.29_cuda12-archive/LICENSE\n",
            "ls: cannot access '/usr/local/cuda/include/cudnn*.h': No such file or directory\n",
            "ls: cannot access '/usr/local/cuda/lib64/libcudnn*': No such file or directory\n"
          ]
        }
      ]
    },
    {
      "cell_type": "code",
      "source": [
        "!apt update\n",
        "!apt install -y libopencv-dev pkg-config"
      ],
      "metadata": {
        "colab": {
          "base_uri": "https://localhost:8080/"
        },
        "id": "3NyEwngFsX7N",
        "outputId": "8006a94a-0748-474e-810a-30af79af8485"
      },
      "execution_count": null,
      "outputs": [
        {
          "output_type": "stream",
          "name": "stdout",
          "text": [
            "\u001b[33m\r0% [Working]\u001b[0m\r            \rHit:1 https://cloud.r-project.org/bin/linux/ubuntu jammy-cran40/ InRelease\n",
            "\u001b[33m\r0% [Waiting for headers] [Waiting for headers] [Connected to r2u.stat.illinois.edu (192.17.190.167)]\u001b[0m\r                                                                                                    \rHit:2 https://developer.download.nvidia.com/compute/cuda/repos/ubuntu2204/x86_64  InRelease\n",
            "\u001b[33m\r0% [Waiting for headers] [Waiting for headers] [Connected to r2u.stat.illinois.edu (192.17.190.167)]\u001b[0m\r                                                                                                    \rHit:3 http://security.ubuntu.com/ubuntu jammy-security InRelease\n",
            "\u001b[33m\r                                                                                                    \r0% [Waiting for headers] [Waiting for headers] [Connecting to ppa.launchpadcontent.net]\u001b[0m\r                                                                                       \rHit:4 http://archive.ubuntu.com/ubuntu jammy InRelease\n",
            "Hit:5 http://archive.ubuntu.com/ubuntu jammy-updates InRelease\n",
            "Hit:6 https://r2u.stat.illinois.edu/ubuntu jammy InRelease\n",
            "Hit:7 http://archive.ubuntu.com/ubuntu jammy-backports InRelease\n",
            "Hit:8 https://ppa.launchpadcontent.net/deadsnakes/ppa/ubuntu jammy InRelease\n",
            "Hit:9 https://ppa.launchpadcontent.net/graphics-drivers/ppa/ubuntu jammy InRelease\n",
            "Hit:10 https://ppa.launchpadcontent.net/ubuntugis/ppa/ubuntu jammy InRelease\n",
            "Reading package lists... Done\n",
            "Building dependency tree... Done\n",
            "Reading state information... Done\n",
            "21 packages can be upgraded. Run 'apt list --upgradable' to see them.\n",
            "\u001b[1;33mW: \u001b[0mSkipping acquire of configured file 'main/source/Sources' as repository 'https://r2u.stat.illinois.edu/ubuntu jammy InRelease' does not seem to provide it (sources.list entry misspelt?)\u001b[0m\n",
            "Reading package lists... Done\n",
            "Building dependency tree... Done\n",
            "Reading state information... Done\n",
            "libopencv-dev is already the newest version (4.5.4+dfsg-9ubuntu4+jammy0).\n",
            "The following packages were automatically installed and are no longer required:\n",
            "  libbz2-dev libpkgconf3 libreadline-dev\n",
            "Use 'apt autoremove' to remove them.\n",
            "The following packages will be REMOVED:\n",
            "  pkgconf r-base-dev\n",
            "The following NEW packages will be installed:\n",
            "  pkg-config\n",
            "0 upgraded, 1 newly installed, 2 to remove and 21 not upgraded.\n",
            "Need to get 48.2 kB of archives.\n",
            "After this operation, 11.3 kB disk space will be freed.\n",
            "Get:1 http://archive.ubuntu.com/ubuntu jammy/main amd64 pkg-config amd64 0.29.2-1ubuntu3 [48.2 kB]\n",
            "Fetched 48.2 kB in 0s (175 kB/s)\n",
            "(Reading database ... 124934 files and directories currently installed.)\n",
            "Removing r-base-dev (4.4.2-1.2204.0) ...\n",
            "\u001b[1mdpkg:\u001b[0m pkgconf: dependency problems, but removing anyway as you requested:\n",
            " libsndfile1-dev:amd64 depends on pkg-config; however:\n",
            "  Package pkg-config is not installed.\n",
            "  Package pkgconf which provides pkg-config is to be removed.\n",
            " libopencv-dev depends on pkg-config; however:\n",
            "  Package pkg-config is not installed.\n",
            "  Package pkgconf which provides pkg-config is to be removed.\n",
            " libmkl-dev:amd64 depends on pkg-config; however:\n",
            "  Package pkg-config is not installed.\n",
            "  Package pkgconf which provides pkg-config is to be removed.\n",
            " libjack-dev depends on pkg-config; however:\n",
            "  Package pkg-config is not installed.\n",
            "  Package pkgconf which provides pkg-config is to be removed.\n",
            " libgphoto2-dev:amd64 depends on pkg-config; however:\n",
            "  Package pkg-config is not installed.\n",
            "  Package pkgconf which provides pkg-config is to be removed.\n",
            " libfontconfig-dev:amd64 depends on pkg-config; however:\n",
            "  Package pkg-config is not installed.\n",
            "  Package pkgconf which provides pkg-config is to be removed.\n",
            "\n",
            "Removing pkgconf (1.8.0-1) ...\n",
            "Removing 'diversion of /usr/bin/pkg-config to /usr/bin/pkg-config.real by pkgconf'\n",
            "Removing 'diversion of /usr/share/aclocal/pkg.m4 to /usr/share/aclocal/pkg.real.m4 by pkgconf'\n",
            "Removing 'diversion of /usr/share/man/man1/pkg-config.1.gz to /usr/share/man/man1/pkg-config.real.1.gz by pkgconf'\n",
            "Removing 'diversion of /usr/share/pkg-config-crosswrapper to /usr/share/pkg-config-crosswrapper.real by pkgconf'\n",
            "Selecting previously unselected package pkg-config.\n",
            "(Reading database ... 124910 files and directories currently installed.)\n",
            "Preparing to unpack .../pkg-config_0.29.2-1ubuntu3_amd64.deb ...\n",
            "Unpacking pkg-config (0.29.2-1ubuntu3) ...\n",
            "Setting up pkg-config (0.29.2-1ubuntu3) ...\n",
            "Processing triggers for man-db (2.10.2-1) ...\n"
          ]
        }
      ]
    },
    {
      "cell_type": "code",
      "source": [
        "# Leave this code uncommented on the very first run of your notebook or if you ever need to recompile darknet again.\n",
        "# Comment this code on the future runs.\n",
        "#!git clone https://github.com/kriyeng/darknet/\n",
        "#%cd darknet\n",
        "!ls -al /content/darknet/src"
      ],
      "metadata": {
        "colab": {
          "base_uri": "https://localhost:8080/"
        },
        "id": "wFhxpbz6pfEN",
        "outputId": "35758343-72be-4b01-8af5-04b3e7ad282a"
      },
      "execution_count": 72,
      "outputs": [
        {
          "output_type": "stream",
          "name": "stdout",
          "text": [
            "total 1540\n",
            "drwxr-xr-x  2 root root   4096 Feb 15 12:47 .\n",
            "drwxr-xr-x 16 root root   4096 Feb 15 13:04 ..\n",
            "-rw-r--r--  1 root root   9125 Feb 15 12:47 activation_kernels.cu\n",
            "-rw-r--r--  1 root root   1784 Feb 15 12:47 activation_layer.c\n",
            "-rw-r--r--  1 root root    546 Feb 15 12:47 activation_layer.h\n",
            "-rw-r--r--  1 root root   4124 Feb 15 12:47 activations.c\n",
            "-rw-r--r--  1 root root   3179 Feb 15 12:47 activations.h\n",
            "-rw-r--r--  1 root root   1690 Feb 15 12:47 art.c\n",
            "-rw-r--r--  1 root root   1928 Feb 15 12:47 avgpool_layer.c\n",
            "-rw-r--r--  1 root root    710 Feb 15 12:47 avgpool_layer.h\n",
            "-rw-r--r--  1 root root   1673 Feb 15 12:47 avgpool_layer_kernels.cu\n",
            "-rw-r--r--  1 root root  11459 Feb 15 12:47 batchnorm_layer.c\n",
            "-rw-r--r--  1 root root    589 Feb 15 12:47 batchnorm_layer.h\n",
            "-rw-r--r--  1 root root   9187 Feb 15 12:47 blas.c\n",
            "-rw-r--r--  1 root root   6606 Feb 15 12:47 blas.h\n",
            "-rw-r--r--  1 root root  34265 Feb 15 12:47 blas_kernels.cu\n",
            "-rw-r--r--  1 root root   9727 Feb 15 12:47 box.c\n",
            "-rw-r--r--  1 root root   1408 Feb 15 12:47 box.h\n",
            "-rw-r--r--  1 root root  11194 Feb 15 12:47 captcha.c\n",
            "-rw-r--r--  1 root root   8496 Feb 15 12:47 cifar.c\n",
            "-rw-r--r--  1 root root  40577 Feb 15 12:47 classifier.c\n",
            "-rw-r--r--  1 root root    172 Feb 15 12:47 classifier.h\n",
            "-rw-r--r--  1 root root  13890 Feb 15 12:47 coco.c\n",
            "-rw-r--r--  1 root root   1358 Feb 15 12:47 col2im.c\n",
            "-rw-r--r--  1 root root    400 Feb 15 12:47 col2im.h\n",
            "-rw-r--r--  1 root root   2365 Feb 15 12:47 col2im_kernels.cu\n",
            "-rw-r--r--  1 root root  10947 Feb 15 12:47 compare.c\n",
            "-rw-r--r--  1 root root  13937 Feb 15 12:47 connected_layer.c\n",
            "-rw-r--r--  1 root root   1143 Feb 15 12:47 connected_layer.h\n",
            "-rw-r--r--  1 root root  40416 Feb 15 12:47 convolutional_kernels.cu\n",
            "-rw-r--r--  1 root root  39564 Feb 15 12:47 convolutional_layer.c\n",
            "-rw-r--r--  1 root root   2732 Feb 15 12:47 convolutional_layer.h\n",
            "-rw-r--r--  1 root root   4161 Feb 15 12:47 cost_layer.c\n",
            "-rw-r--r--  1 root root    673 Feb 15 12:47 cost_layer.h\n",
            "-rw-r--r--  1 root root   2447 Feb 15 12:47 cpu_gemm.c\n",
            "-rw-r--r--  1 root root  13479 Feb 15 12:47 crnn_layer.c\n",
            "-rw-r--r--  1 root root    929 Feb 15 12:47 crnn_layer.h\n",
            "-rw-r--r--  1 root root   2822 Feb 15 12:47 crop_layer.c\n",
            "-rw-r--r--  1 root root    589 Feb 15 12:47 crop_layer.h\n",
            "-rw-r--r--  1 root root   6677 Feb 15 12:47 crop_layer_kernels.cu\n",
            "-rw-r--r--  1 root root   9928 Feb 15 12:47 dark_cuda.c\n",
            "-rw-r--r--  1 root root   2192 Feb 15 12:47 dark_cuda.h\n",
            "-rw-r--r--  1 root root  19303 Feb 15 12:47 darknet.c\n",
            "-rw-r--r--  1 root root   1719 Feb 15 12:47 darkunistd.h\n",
            "-rw-r--r--  1 root root  41814 Feb 15 12:47 data.c\n",
            "-rw-r--r--  1 root root   3703 Feb 15 12:47 data.h\n",
            "-rw-r--r--  1 root root   3923 Feb 15 12:47 deconvolutional_kernels.cu\n",
            "-rw-r--r--  1 root root   6190 Feb 15 12:47 deconvolutional_layer.c\n",
            "-rw-r--r--  1 root root   1572 Feb 15 12:47 deconvolutional_layer.h\n",
            "-rw-r--r--  1 root root   9614 Feb 15 12:47 demo.c\n",
            "-rw-r--r--  1 root root    382 Feb 15 12:47 demo.h\n",
            "-rw-r--r--  1 root root  11887 Feb 15 12:47 detection_layer.c\n",
            "-rw-r--r--  1 root root    840 Feb 15 12:47 detection_layer.h\n",
            "-rw-r--r--  1 root root  54492 Feb 15 12:47 detector.c\n",
            "-rw-r--r--  1 root root   3615 Feb 15 12:47 dice.c\n",
            "-rw-r--r--  1 root root   1673 Feb 15 12:47 dropout_layer.c\n",
            "-rw-r--r--  1 root root    622 Feb 15 12:47 dropout_layer.h\n",
            "-rw-r--r--  1 root root   1285 Feb 15 12:47 dropout_layer_kernels.cu\n",
            "-rw-r--r--  1 root root     86 Feb 15 12:47 .editorconfig\n",
            "-rw-r--r--  1 root root 103774 Feb 15 12:47 gemm.c\n",
            "-rw-r--r--  1 root root   3851 Feb 15 12:47 gemm.h\n",
            "-rw-r--r--  1 root root  13226 Feb 15 12:47 getopt.c\n",
            "-rw-r--r--  1 root root   8014 Feb 15 12:47 getopt.h\n",
            "-rw-r--r--  1 root root   1121 Feb 15 12:47 gettimeofday.c\n",
            "-rw-r--r--  1 root root    939 Feb 15 12:47 gettimeofday.h\n",
            "-rw-r--r--  1 root root  26387 Feb 15 12:47 go.c\n",
            "-rw-r--r--  1 root root  15008 Feb 15 12:47 gru_layer.c\n",
            "-rw-r--r--  1 root root    770 Feb 15 12:47 gru_layer.h\n",
            "-rw-r--r--  1 root root  18500 Feb 15 12:47 http_stream.cpp\n",
            "-rw-r--r--  1 root root    418 Feb 15 12:47 http_stream.h\n",
            "-rw-r--r--  1 root root   1335 Feb 15 12:47 im2col.c\n",
            "-rw-r--r--  1 root root   2715 Feb 15 12:47 im2col.h\n",
            "-rw-r--r--  1 root root  83443 Feb 15 12:47 im2col_kernels.cu\n",
            "-rw-r--r--  1 root root  44633 Feb 15 12:47 image.c\n",
            "-rw-r--r--  1 root root   3794 Feb 15 12:47 image.h\n",
            "-rw-r--r--  1 root root  41631 Feb 15 12:47 image_opencv.cpp\n",
            "-rw-r--r--  1 root root   3915 Feb 15 12:47 image_opencv.h\n",
            "-rw-r--r--  1 root root   6096 Feb 15 12:47 layer.c\n",
            "-rw-r--r--  1 root root   6603 Feb 15 12:47 layer.h\n",
            "-rw-r--r--  1 root root   1746 Feb 15 12:47 list.c\n",
            "-rw-r--r--  1 root root    493 Feb 15 12:47 list.h\n",
            "-rw-r--r--  1 root root   8960 Feb 15 12:47 local_layer.c\n",
            "-rw-r--r--  1 root root   1139 Feb 15 12:47 local_layer.h\n",
            "-rw-r--r--  1 root root  25808 Feb 15 12:47 lstm_layer.c\n",
            "-rw-r--r--  1 root root    674 Feb 15 12:47 lstm_layer.h\n",
            "-rw-r--r--  1 root root   8301 Feb 15 12:47 matrix.c\n",
            "-rw-r--r--  1 root root    759 Feb 15 12:47 matrix.h\n",
            "-rw-r--r--  1 root root   5292 Feb 15 12:47 maxpool_layer.c\n",
            "-rw-r--r--  1 root root    796 Feb 15 12:47 maxpool_layer.h\n",
            "-rw-r--r--  1 root root   3958 Feb 15 12:47 maxpool_layer_kernels.cu\n",
            "-rw-r--r--  1 root root  33924 Feb 15 12:47 network.c\n",
            "-rw-r--r--  1 root root   5345 Feb 15 12:47 network.h\n",
            "-rw-r--r--  1 root root  15368 Feb 15 12:47 network_kernels.cu\n",
            "-rw-r--r--  1 root root   9470 Feb 15 12:47 nightmare.c\n",
            "-rw-r--r--  1 root root   5658 Feb 15 12:47 normalization_layer.c\n",
            "-rw-r--r--  1 root root    757 Feb 15 12:47 normalization_layer.h\n",
            "-rw-r--r--  1 root root   3230 Feb 15 12:47 option_list.c\n",
            "-rw-r--r--  1 root root    816 Feb 15 12:47 option_list.h\n",
            "-rw-r--r--  1 root root  46783 Feb 15 12:47 parser.c\n",
            "-rw-r--r--  1 root root    582 Feb 15 12:47 parser.h\n",
            "-rw-r--r--  1 root root  22525 Feb 15 12:47 region_layer.c\n",
            "-rw-r--r--  1 root root   1042 Feb 15 12:47 region_layer.h\n",
            "-rw-r--r--  1 root root   3278 Feb 15 12:47 reorg_layer.c\n",
            "-rw-r--r--  1 root root    599 Feb 15 12:47 reorg_layer.h\n",
            "-rw-r--r--  1 root root   3234 Feb 15 12:47 reorg_old_layer.c\n",
            "-rw-r--r--  1 root root    631 Feb 15 12:47 reorg_old_layer.h\n",
            "-rw-r--r--  1 root root  14314 Feb 15 12:47 rnn.c\n",
            "-rw-r--r--  1 root root   9958 Feb 15 12:47 rnn_layer.c\n",
            "-rw-r--r--  1 root root    827 Feb 15 12:47 rnn_layer.h\n",
            "-rw-r--r--  1 root root   6747 Feb 15 12:47 rnn_vid.c\n",
            "-rw-r--r--  1 root root   4156 Feb 15 12:47 route_layer.c\n",
            "-rw-r--r--  1 root root    628 Feb 15 12:47 route_layer.h\n",
            "-rw-r--r--  1 root root   3425 Feb 15 12:47 shortcut_layer.c\n",
            "-rw-r--r--  1 root root    602 Feb 15 12:47 shortcut_layer.h\n",
            "-rw-r--r--  1 root root   3994 Feb 15 12:47 softmax_layer.c\n",
            "-rw-r--r--  1 root root    703 Feb 15 12:47 softmax_layer.h\n",
            "-rw-r--r--  1 root root   3675 Feb 15 12:47 super.c\n",
            "-rw-r--r--  1 root root   2516 Feb 15 12:47 swag.c\n",
            "-rw-r--r--  1 root root   4456 Feb 15 12:47 tag.c\n",
            "-rw-r--r--  1 root root   3622 Feb 15 12:47 tree.c\n",
            "-rw-r--r--  1 root root    641 Feb 15 12:47 tree.h\n",
            "-rw-r--r--  1 root root   3327 Feb 15 12:47 upsample_layer.c\n",
            "-rw-r--r--  1 root root    601 Feb 15 12:47 upsample_layer.h\n",
            "-rw-r--r--  1 root root  20478 Feb 15 12:47 utils.c\n",
            "-rw-r--r--  1 root root   2938 Feb 15 12:47 utils.h\n",
            "-rw-r--r--  1 root root     72 Feb 15 12:47 version.h\n",
            "-rw-r--r--  1 root root    138 Feb 15 12:47 version.h.in\n",
            "-rw-r--r--  1 root root   4810 Feb 15 12:47 voxel.c\n",
            "-rw-r--r--  1 root root   4420 Feb 15 12:47 writing.c\n",
            "-rw-r--r--  1 root root  12207 Feb 15 12:47 yolo.c\n",
            "-rw-r--r--  1 root root  28959 Feb 15 12:47 yolo_console_dll.cpp\n",
            "-rw-r--r--  1 root root  18319 Feb 15 12:47 yolo_layer.c\n",
            "-rw-r--r--  1 root root    894 Feb 15 12:47 yolo_layer.h\n",
            "-rw-r--r--  1 root root  11875 Feb 15 12:47 yolo_v2_class.cpp\n"
          ]
        }
      ]
    },
    {
      "cell_type": "code",
      "source": [
        "# Check the folder\n",
        "!ls"
      ],
      "metadata": {
        "colab": {
          "base_uri": "https://localhost:8080/"
        },
        "id": "TNDfI2w3uS5t",
        "outputId": "0c317c4a-4821-4aee-c9c1-3bc0f1c68573"
      },
      "execution_count": null,
      "outputs": [
        {
          "output_type": "stream",
          "name": "stdout",
          "text": [
            "3rdparty      cfg\t\t      darknet_video.py\t     LICENSE\t    scripts\n",
            "appveyor.yml  cmake\t\t      data\t\t     Makefile\t    src\n",
            "backup\t      CMakeLists.txt\t      image_yolov2.sh\t     net_cam_v3.sh  video_v2.sh\n",
            "build\t      CMakeSettings.json      image_yolov3.sh\t     obj\t    video_yolov3.sh\n",
            "build.ps1     DarknetConfig.cmake.in  include\t\t     README.md\n",
            "build.sh      darknet.py\t      json_mjpeg_streams.sh  results\n"
          ]
        }
      ]
    },
    {
      "cell_type": "code",
      "source": [
        "# I have a branch where I have done the changes commented above\n",
        "!git checkout feature/google-colab"
      ],
      "metadata": {
        "colab": {
          "base_uri": "https://localhost:8080/"
        },
        "id": "W5nXGgzLuaxD",
        "outputId": "55e32996-610b-4025-f885-c827bc7b2e5a"
      },
      "execution_count": null,
      "outputs": [
        {
          "output_type": "stream",
          "name": "stdout",
          "text": [
            "Already on 'feature/google-colab'\n",
            "Your branch is up to date with 'origin/feature/google-colab'.\n"
          ]
        }
      ]
    },
    {
      "cell_type": "code",
      "source": [
        "!pkg-config --modversion opencv4\n",
        "!find /usr -name \"opencv*.pc\""
      ],
      "metadata": {
        "colab": {
          "base_uri": "https://localhost:8080/"
        },
        "id": "Rl2R1Slrw2pC",
        "outputId": "a22d31cb-837a-4fb6-9f4f-6535f0654349"
      },
      "execution_count": null,
      "outputs": [
        {
          "output_type": "stream",
          "name": "stdout",
          "text": [
            "4.5.4\n",
            "/usr/lib/x86_64-linux-gnu/pkgconfig/opencv4.pc\n"
          ]
        }
      ]
    },
    {
      "cell_type": "code",
      "source": [
        "!ls /usr/local/cuda/include"
      ],
      "metadata": {
        "colab": {
          "base_uri": "https://localhost:8080/"
        },
        "id": "GgB48a_4xm_h",
        "outputId": "14114da3-4e57-4d1b-d32d-87c89c98adbb"
      },
      "execution_count": null,
      "outputs": [
        {
          "output_type": "stream",
          "name": "stdout",
          "text": [
            "builtin_types.h\t\t       cusparse.h\n",
            "channel_descriptor.h\t       cusparse_v2.h\n",
            "CL\t\t\t       device_atomic_functions.h\n",
            "common_functions.h\t       device_atomic_functions.hpp\n",
            "cooperative_groups\t       device_double_functions.h\n",
            "cooperative_groups.h\t       device_functions.h\n",
            "crt\t\t\t       device_launch_parameters.h\n",
            "cub\t\t\t       device_types.h\n",
            "cublas_api.h\t\t       driver_functions.h\n",
            "cublas.h\t\t       driver_types.h\n",
            "cublasLt.h\t\t       fatbinary_section.h\n",
            "cublas_v2.h\t\t       generated_cuda_gl_interop_meta.h\n",
            "cublasXt.h\t\t       generated_cudaGL_meta.h\n",
            "cuComplex.h\t\t       generated_cuda_meta.h\n",
            "cuda\t\t\t       generated_cudart_removed_meta.h\n",
            "cuda_awbarrier.h\t       generated_cuda_runtime_api_meta.h\n",
            "cuda_awbarrier_helpers.h       generated_cuda_vdpau_interop_meta.h\n",
            "cuda_awbarrier_primitives.h    generated_cudaVDPAU_meta.h\n",
            "cuda_bf16.h\t\t       generated_nvtx_meta.h\n",
            "cuda_bf16.hpp\t\t       host_config.h\n",
            "cuda_device_runtime_api.h      host_defines.h\n",
            "cudaEGL.h\t\t       library_types.h\n",
            "cuda_egl_interop.h\t       math_constants.h\n",
            "cudaEGLTypedefs.h\t       math_functions.h\n",
            "cuda_fp16.h\t\t       mma.h\n",
            "cuda_fp16.hpp\t\t       nppcore.h\n",
            "cuda_fp8.h\t\t       nppdefs.h\n",
            "cuda_fp8.hpp\t\t       npp.h\n",
            "cudaGL.h\t\t       nppi_arithmetic_and_logical_operations.h\n",
            "cuda_gl_interop.h\t       nppi_color_conversion.h\n",
            "cudaGLTypedefs.h\t       nppi_data_exchange_and_initialization.h\n",
            "cuda.h\t\t\t       nppi_filtering_functions.h\n",
            "cudalibxt.h\t\t       nppi_geometry_transforms.h\n",
            "cuda_occupancy.h\t       nppi.h\n",
            "cuda_pipeline.h\t\t       nppi_linear_transforms.h\n",
            "cuda_pipeline_helpers.h        nppi_morphological_operations.h\n",
            "cuda_pipeline_primitives.h     nppi_statistics_functions.h\n",
            "cuda_profiler_api.h\t       nppi_support_functions.h\n",
            "cudaProfiler.h\t\t       nppi_threshold_and_compare_operations.h\n",
            "cudaProfilerTypedefs.h\t       npps_arithmetic_and_logical_operations.h\n",
            "cudart_platform.h\t       npps_conversion_functions.h\n",
            "cuda_runtime_api.h\t       npps_filtering_functions.h\n",
            "cuda_runtime.h\t\t       npps.h\n",
            "cuda_stdint.h\t\t       npps_initialization.h\n",
            "cuda_surface_types.h\t       npps_statistics_functions.h\n",
            "cuda_texture_types.h\t       npps_support_functions.h\n",
            "cudaTypedefs.h\t\t       nv\n",
            "cudaVDPAU.h\t\t       nvblas.h\n",
            "cuda_vdpau_interop.h\t       nv_decode.h\n",
            "cudaVDPAUTypedefs.h\t       nvFatbin.h\n",
            "cufft.h\t\t\t       nvfunctional\n",
            "cufftw.h\t\t       nvJitLink.h\n",
            "cufftXt.h\t\t       nvjpeg.h\n",
            "cufile.h\t\t       nvml.h\n",
            "cupti_activity_deprecated.h    nvperf_common.h\n",
            "cupti_activity.h\t       nvperf_cuda_host.h\n",
            "cupti_callbacks.h\t       nvperf_host.h\n",
            "cupti_checkpoint.h\t       nvperf_target.h\n",
            "cupti_common.h\t\t       nvPTXCompiler.h\n",
            "cupti_driver_cbid.h\t       nvrtc.h\n",
            "cupti_events.h\t\t       nvToolsExtCuda.h\n",
            "cupti.h\t\t\t       nvToolsExtCudaRt.h\n",
            "cupti_metrics.h\t\t       nvToolsExt.h\n",
            "cupti_nvtx_cbid.h\t       nvToolsExtOpenCL.h\n",
            "cupti_pcsampling.h\t       nvToolsExtSync.h\n",
            "cupti_pcsampling_util.h        nvtx3\n",
            "cupti_profiler_target.h        Openacc\n",
            "cupti_result.h\t\t       Openmp\n",
            "cupti_runtime_cbid.h\t       sm_20_atomic_functions.h\n",
            "cupti_sass_metrics.h\t       sm_20_atomic_functions.hpp\n",
            "cupti_target.h\t\t       sm_20_intrinsics.h\n",
            "cupti_version.h\t\t       sm_20_intrinsics.hpp\n",
            "curand_discrete2.h\t       sm_30_intrinsics.h\n",
            "curand_discrete.h\t       sm_30_intrinsics.hpp\n",
            "curand_globals.h\t       sm_32_atomic_functions.h\n",
            "curand.h\t\t       sm_32_atomic_functions.hpp\n",
            "curand_kernel.h\t\t       sm_32_intrinsics.h\n",
            "curand_lognormal.h\t       sm_32_intrinsics.hpp\n",
            "curand_mrg32k3a.h\t       sm_35_atomic_functions.h\n",
            "curand_mtgp32dc_p_11213.h      sm_35_intrinsics.h\n",
            "curand_mtgp32.h\t\t       sm_60_atomic_functions.h\n",
            "curand_mtgp32_host.h\t       sm_60_atomic_functions.hpp\n",
            "curand_mtgp32_kernel.h\t       sm_61_intrinsics.h\n",
            "curand_normal.h\t\t       sm_61_intrinsics.hpp\n",
            "curand_normal_static.h\t       surface_functions.h\n",
            "curand_philox4x32_x.h\t       surface_indirect_functions.h\n",
            "curand_poisson.h\t       surface_types.h\n",
            "curand_precalc.h\t       texture_fetch_functions.h\n",
            "curand_uniform.h\t       texture_indirect_functions.h\n",
            "cusolver_common.h\t       texture_types.h\n",
            "cusolverDn.h\t\t       thrust\n",
            "cusolverMg.h\t\t       vector_functions.h\n",
            "cusolverRf.h\t\t       vector_functions.hpp\n",
            "cusolverSp.h\t\t       vector_types.h\n",
            "cusolverSp_LOWLEVEL_PREVIEW.h\n"
          ]
        }
      ]
    },
    {
      "cell_type": "code",
      "source": [
        "#Compile Darknet\n",
        "!make"
      ],
      "metadata": {
        "colab": {
          "base_uri": "https://localhost:8080/"
        },
        "id": "iN7VUqk-udbI",
        "outputId": "eee4304f-ec08-43b8-a6ba-13ebde27cad8"
      },
      "execution_count": null,
      "outputs": [
        {
          "output_type": "stream",
          "name": "stdout",
          "text": [
            "chmod +x *.sh\n",
            "g++ -std=c++11 -Iinclude/ -I3rdparty/stb/include -DOPENCV `pkg-config --cflags opencv` -DGPU -I/usr/local/cuda/include/ -DCUDNN -Wall -Wfatal-errors -Wno-unused-result -Wno-unknown-pragmas -fPIC -Ofast -DOPENCV -DGPU -DCUDNN -I/usr/local/cudnn/include -c ./src/image_opencv.cpp -o obj/image_opencv.o\n",
            "Package opencv was not found in the pkg-config search path.\n",
            "Perhaps you should add the directory containing `opencv.pc'\n",
            "to the PKG_CONFIG_PATH environment variable\n",
            "No package 'opencv' found\n",
            "\u001b[01m\u001b[K./src/image_opencv.cpp:15:10:\u001b[m\u001b[K \u001b[01;31m\u001b[Kfatal error: \u001b[m\u001b[Kopencv2/core/version.hpp: No such file or directory\n",
            "   15 | #include \u001b[01;31m\u001b[K<opencv2/core/version.hpp>\u001b[m\u001b[K\n",
            "      |          \u001b[01;31m\u001b[K^~~~~~~~~~~~~~~~~~~~~~~~~~\u001b[m\u001b[K\n",
            "compilation terminated.\n",
            "make: *** [Makefile:149: obj/image_opencv.o] Error 1\n"
          ]
        }
      ]
    },
    {
      "cell_type": "code",
      "source": [
        "#Copies the Darknet compiled version to Google drive\n",
        "!cp ./darknet /content/gdrive/MyDrive/darknet/bin/darknet"
      ],
      "metadata": {
        "id": "VstFH8-wue22"
      },
      "execution_count": null,
      "outputs": []
    },
    {
      "cell_type": "code",
      "source": [
        "!ls -la /content/gdrive/MyDrive/darknet"
      ],
      "metadata": {
        "colab": {
          "base_uri": "https://localhost:8080/"
        },
        "id": "C2JSqC7E01sE",
        "outputId": "6678fb9a-73bd-4057-d678-afa137242303"
      },
      "execution_count": null,
      "outputs": [
        {
          "output_type": "stream",
          "name": "stdout",
          "text": [
            "total 8\n",
            "drwx------ 2 root root 4096 Feb 15 12:33 cuDNN\n",
            "drwx------ 2 root root 4096 Feb 15 12:33 .ipynb_checkpoints\n"
          ]
        }
      ]
    },
    {
      "cell_type": "code",
      "source": [
        "# Criar estrutura de diretórios\n",
        "!mkdir /content/darknet/data/coco\n",
        "!mkdir /content/darknet/data/coco/images\n",
        "!mkdir /content/darknet/data/coco/labels"
      ],
      "metadata": {
        "id": "nrxGihgPrsGI"
      },
      "execution_count": null,
      "outputs": []
    },
    {
      "cell_type": "code",
      "source": [
        "# Baixar dataset\n",
        "%cd /content/darknet/data/coco\n",
        "!wget http://images.cocodataset.org/zips/val2017.zip\n",
        "!unzip val2017.zip -d images\n",
        "!wget http://images.cocodataset.org/annotations/annotations_trainval2017.zip\n",
        "!unzip annotations_trainval2017.zip"
      ],
      "metadata": {
        "id": "hbueLIrstrcI"
      },
      "execution_count": null,
      "outputs": []
    },
    {
      "cell_type": "code",
      "source": [
        "# Converter anotações para formato YOLO\n",
        "!pip install pycocotools\n",
        "%cd /content/darknet"
      ],
      "metadata": {
        "colab": {
          "base_uri": "https://localhost:8080/"
        },
        "id": "sbGiAiIBtvQs",
        "outputId": "8869abfe-9677-4b69-d1f7-15b217d2327c"
      },
      "execution_count": null,
      "outputs": [
        {
          "output_type": "stream",
          "name": "stdout",
          "text": [
            "Requirement already satisfied: pycocotools in /usr/local/lib/python3.11/dist-packages (2.0.8)\n",
            "Requirement already satisfied: matplotlib>=2.1.0 in /usr/local/lib/python3.11/dist-packages (from pycocotools) (3.10.0)\n",
            "Requirement already satisfied: numpy in /usr/local/lib/python3.11/dist-packages (from pycocotools) (1.26.4)\n",
            "Requirement already satisfied: contourpy>=1.0.1 in /usr/local/lib/python3.11/dist-packages (from matplotlib>=2.1.0->pycocotools) (1.3.1)\n",
            "Requirement already satisfied: cycler>=0.10 in /usr/local/lib/python3.11/dist-packages (from matplotlib>=2.1.0->pycocotools) (0.12.1)\n",
            "Requirement already satisfied: fonttools>=4.22.0 in /usr/local/lib/python3.11/dist-packages (from matplotlib>=2.1.0->pycocotools) (4.56.0)\n",
            "Requirement already satisfied: kiwisolver>=1.3.1 in /usr/local/lib/python3.11/dist-packages (from matplotlib>=2.1.0->pycocotools) (1.4.8)\n",
            "Requirement already satisfied: packaging>=20.0 in /usr/local/lib/python3.11/dist-packages (from matplotlib>=2.1.0->pycocotools) (24.2)\n",
            "Requirement already satisfied: pillow>=8 in /usr/local/lib/python3.11/dist-packages (from matplotlib>=2.1.0->pycocotools) (11.1.0)\n",
            "Requirement already satisfied: pyparsing>=2.3.1 in /usr/local/lib/python3.11/dist-packages (from matplotlib>=2.1.0->pycocotools) (3.2.1)\n",
            "Requirement already satisfied: python-dateutil>=2.7 in /usr/local/lib/python3.11/dist-packages (from matplotlib>=2.1.0->pycocotools) (2.8.2)\n",
            "Requirement already satisfied: six>=1.5 in /usr/local/lib/python3.11/dist-packages (from python-dateutil>=2.7->matplotlib>=2.1.0->pycocotools) (1.17.0)\n",
            "/content/darknet\n",
            "python3: can't open file '/content/darknet/scripts/coco2yolo.py': [Errno 2] No such file or directory\n"
          ]
        }
      ]
    },
    {
      "cell_type": "code",
      "source": [
        "#download files\n",
        "def imShow(path):\n",
        "  import cv2\n",
        "  import matplotlib.pyplot as plt\n",
        "  %matplotlib inline\n",
        "\n",
        "  image = cv2.imread(path)\n",
        "\n",
        "  # Check if image was loaded successfully\n",
        "  if image is None:\n",
        "    print(f\"Error: Could not read image from {path}. Please check if the file exists and is readable.\")\n",
        "    return  # Exit the function to prevent further errors\n",
        "\n",
        "  height, width = image.shape[:2]\n",
        "  resized_image = cv2.resize(image,(3*width, 3*height), interpolation = cv2.INTER_CUBIC)\n",
        "\n",
        "  fig = plt.gcf()\n",
        "  fig.set_size_inches(18, 10)\n",
        "  plt.axis(\"off\")\n",
        "  #plt.rcParams['figure.figsize'] = [10, 5]\n",
        "  plt.imshow(cv2.cvtColor(resized_image, cv2.COLOR_BGR2RGB))\n",
        "  plt.show()\n",
        "\n",
        "\n",
        "def upload():\n",
        "  from google.colab import files\n",
        "  uploaded = files.upload()\n",
        "  for name, data in uploaded.items():\n",
        "    with open(name, 'wb') as f:\n",
        "      f.write(data)\n",
        "      print ('saved file', name)\n",
        "def download(path):\n",
        "  from google.colab import files\n",
        "  files.download(path)"
      ],
      "metadata": {
        "id": "wTBnww5dzDE7"
      },
      "execution_count": null,
      "outputs": []
    },
    {
      "cell_type": "code",
      "source": [
        "# Not necessary cell\n",
        "# Get yolov3 weights\n",
        "!wget https://pjreddie.com/media/files/yolov3.weights"
      ],
      "metadata": {
        "colab": {
          "base_uri": "https://localhost:8080/"
        },
        "id": "wFd-5oUYzLAR",
        "outputId": "21e74c28-e66a-459c-ed57-f7860ac7f123"
      },
      "execution_count": null,
      "outputs": [
        {
          "output_type": "stream",
          "name": "stdout",
          "text": [
            "--2025-02-15 13:31:02--  https://pjreddie.com/media/files/yolov3.weights\n",
            "Resolving pjreddie.com (pjreddie.com)... 162.0.215.52\n",
            "Connecting to pjreddie.com (pjreddie.com)|162.0.215.52|:443... connected.\n",
            "HTTP request sent, awaiting response... 200 OK\n",
            "Length: 248007048 (237M) [application/octet-stream]\n",
            "Saving to: ‘yolov3.weights.1’\n",
            "\n",
            "yolov3.weights.1    100%[===================>] 236.52M   811KB/s    in 39s     \n",
            "\n",
            "2025-02-15 13:31:41 (6.10 MB/s) - ‘yolov3.weights.1’ saved [248007048/248007048]\n",
            "\n"
          ]
        }
      ]
    },
    {
      "cell_type": "code",
      "source": [
        "# Not necessary cell\n",
        "# Execute darknet using YOLOv3 model with pre-trained weights to detect objects on 'person.jpg'\n",
        "!./darknet detect cfg/yolov3.cfg yolov3.weights data/person.jpg -dont-show\n",
        "\n",
        "# Show the result using the helper imgShow()\n",
        "imShow('predictions.jpg')"
      ],
      "metadata": {
        "colab": {
          "base_uri": "https://localhost:8080/"
        },
        "id": "z6ICcK-XzRIR",
        "outputId": "c370cccb-4f70-483e-c593-d105a210dc8e"
      },
      "execution_count": null,
      "outputs": [
        {
          "output_type": "stream",
          "name": "stdout",
          "text": [
            "/bin/bash: line 1: ./darknet: No such file or directory\n",
            "Error: Could not read image from predictions.jpg. Please check if the file exists and is readable.\n"
          ]
        }
      ]
    },
    {
      "cell_type": "code",
      "source": [
        "!./darknet detector train \"/content/gdrive/MyDrive/darknet/obj.data\" \"/content/gdrive/MyDrive/darknet/yolov3.cfg\" \"/content/gdrive/MyDrive/darknet/darknet53.conv.74\" -dont_show"
      ],
      "metadata": {
        "colab": {
          "base_uri": "https://localhost:8080/"
        },
        "id": "dVjA31jxz_Tt",
        "outputId": "3fcc5a5c-a825-4535-d88a-c710ba3d7246"
      },
      "execution_count": null,
      "outputs": [
        {
          "output_type": "stream",
          "name": "stdout",
          "text": [
            "/bin/bash: line 1: ./darknet: No such file or directory\n"
          ]
        }
      ]
    }
  ]
}