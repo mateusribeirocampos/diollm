{
  "cells": [
    {
      "cell_type": "markdown",
      "metadata": {
        "id": "view-in-github",
        "colab_type": "text"
      },
      "source": [
        "<a href=\"https://colab.research.google.com/github/mateusribeirocampos/diollm/blob/main/Notebooks/Projetos_DIO/Projeto_transfer_Learning_Python_tomato.ipynb\" target=\"_parent\"><img src=\"https://colab.research.google.com/assets/colab-badge.svg\" alt=\"Open In Colab\"/></a>"
      ]
    },
    {
      "cell_type": "markdown",
      "metadata": {
        "id": "RaygrncI44Re"
      },
      "source": [
        "Transfer Learning aplicado a figuras de tomate."
      ]
    },
    {
      "cell_type": "code",
      "source": [
        "!nvidia-smi -L"
      ],
      "metadata": {
        "id": "S8zGoMlJq7zd",
        "outputId": "f364ae2e-ba67-47e0-d52e-12922f15c117",
        "colab": {
          "base_uri": "https://localhost:8080/"
        }
      },
      "execution_count": 4,
      "outputs": [
        {
          "output_type": "stream",
          "name": "stdout",
          "text": [
            "/bin/bash: line 1: nvidia-smi: command not found\n"
          ]
        }
      ]
    },
    {
      "cell_type": "code",
      "execution_count": 14,
      "metadata": {
        "vscode": {
          "languageId": "plaintext"
        },
        "id": "ao6oag8944Rg"
      },
      "outputs": [],
      "source": [
        "import os\n",
        "import zipfile\n",
        "from PIL import Image\n",
        "from os import listdir\n",
        "from os.path import isdir\n",
        "import numpy as np\n",
        "import pandas as pd\n",
        "from tensorflow.keras.preprocessing.image import ImageDataGenerator\n",
        "from tensorflow.keras.applications import ResNet50\n",
        "from tensorflow.keras import layers\n",
        "from tensorflow.keras import models\n",
        "from tensorflow.keras import optimizers"
      ]
    },
    {
      "cell_type": "code",
      "source": [
        "!wget --no-check-certificate \"https://download.microsoft.com/download/3/E/1/3E1C3F21-ECDB-4869-8368-6DEBA77B919F/kagglecatsanddogs_5340.zip\" -O \"/home/cats-and-dogs.zip\"\n",
        "\n",
        "local_zip = '/home/cats-and-dogs.zip'\n",
        "zip_ref   = zipfile.ZipFile(local_zip, 'r')\n",
        "zip_ref.extractall('/home')\n",
        "zip_ref.close()"
      ],
      "metadata": {
        "id": "Y32qTlK_qWTR",
        "outputId": "0ec1aafa-adc9-419b-b3cf-19cd90c6db2a",
        "colab": {
          "base_uri": "https://localhost:8080/"
        }
      },
      "execution_count": 16,
      "outputs": [
        {
          "output_type": "stream",
          "name": "stdout",
          "text": [
            "--2025-02-10 16:44:59--  https://download.microsoft.com/download/3/E/1/3E1C3F21-ECDB-4869-8368-6DEBA77B919F/kagglecatsanddogs_5340.zip\n",
            "Resolving download.microsoft.com (download.microsoft.com)... 23.199.49.187, 2600:1408:ec00:887::317f, 2600:1408:ec00:89b::317f\n",
            "Connecting to download.microsoft.com (download.microsoft.com)|23.199.49.187|:443... connected.\n",
            "HTTP request sent, awaiting response... 200 OK\n",
            "Length: 824887076 (787M) [application/octet-stream]\n",
            "Saving to: ‘/home/cats-and-dogs.zip’\n",
            "\n",
            "/home/cats-and-dogs 100%[===================>] 786.67M   129MB/s    in 7.7s    \n",
            "\n",
            "2025-02-10 16:45:07 (103 MB/s) - ‘/home/cats-and-dogs.zip’ saved [824887076/824887076]\n",
            "\n"
          ]
        }
      ]
    },
    {
      "cell_type": "markdown",
      "source": [
        "Diretórios train e validation\n"
      ],
      "metadata": {
        "id": "0gqMPsDRsRqX"
      }
    },
    {
      "cell_type": "code",
      "source": [
        "IMAGE_SIZE = [220, 220]\n",
        "EPOCHS = 100\n",
        "CLASSES = 2\n",
        "BATCH_SIZE = 32\n",
        "INPUT_SHAPE = IMAGE_SIZE + [3]\n",
        "alpha = 1e-5\n",
        "random_state = 42"
      ],
      "metadata": {
        "id": "tAvsyjFUsVO4"
      },
      "execution_count": 17,
      "outputs": []
    },
    {
      "cell_type": "markdown",
      "source": [
        "O conteúdo do zip é extraído para o dretório base /home/cats_and_dogs_ que contém os subdiretórios train e validation para os conjuntos de dados de trenamento e validação que por ua vez contêm subdiretóios cats e dogs."
      ],
      "metadata": {
        "id": "QhimBe_os_Ek"
      }
    },
    {
      "cell_type": "code",
      "source": [
        "base_dir = '/home/PetImages'\n",
        "os.makedirs(base_dir, exist_ok=True)\n",
        "\n",
        "train_dir = os.path.join(base_dir, 'train')\n",
        "validation_dir = os.path.join(base_dir, 'validation')\n",
        "os.makedirs(train_dir, exist_ok=True)\n",
        "os.makedirs(validation_dir, exist_ok=True)\n",
        "\n",
        "train_cats_dir = os.path.join(train_dir, 'cats')\n",
        "train_dogs_dir = os.path.join(train_dir, 'dogs')\n",
        "os.makedirs(train_cats_dir, exist_ok=True)\n",
        "os.makedirs(train_dogs_dir, exist_ok=True)\n",
        "validation_cats_dir = os.path.join(validation_dir, 'cats')\n",
        "validation_dogs_dir = os.path.join(validation_dir, 'dogs')\n",
        "os.makedirs(validation_cats_dir, exist_ok=True)\n",
        "os.makedirs(validation_dogs_dir, exist_ok=True)"
      ],
      "metadata": {
        "id": "63su4GGNsxWm"
      },
      "execution_count": 21,
      "outputs": []
    },
    {
      "cell_type": "markdown",
      "source": [
        "Vamos ver como são os nomes de arquivos nos diretórios cats e dogs train (as convenções de nomenclatura de arquivos são as mesmas no diretório validation\n"
      ],
      "metadata": {
        "id": "G4Wye2mytX8Y"
      }
    },
    {
      "cell_type": "code",
      "source": [
        "train_cat_fnames = os.listdir(train_cats_dir)\n",
        "print(train_cat_fnames[:10])\n",
        "\n",
        "train_dog_fnames = os.listdir(train_dogs_dir)\n",
        "train_dog_fnames.sort()\n",
        "print(train_dog_fnames[:10])"
      ],
      "metadata": {
        "id": "L3xjs6IAtXTm",
        "outputId": "7b6c03aa-26c7-44eb-be40-9b6a305cb771",
        "colab": {
          "base_uri": "https://localhost:8080/"
        }
      },
      "execution_count": 22,
      "outputs": [
        {
          "output_type": "stream",
          "name": "stdout",
          "text": [
            "[]\n",
            "[]\n"
          ]
        }
      ]
    }
  ],
  "metadata": {
    "language_info": {
      "name": "python"
    },
    "colab": {
      "provenance": [],
      "include_colab_link": true
    },
    "kernelspec": {
      "name": "python3",
      "display_name": "Python 3"
    }
  },
  "nbformat": 4,
  "nbformat_minor": 0
}